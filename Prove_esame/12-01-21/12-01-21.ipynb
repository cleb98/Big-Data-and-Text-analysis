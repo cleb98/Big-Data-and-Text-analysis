{
 "cells": [
  {
   "attachments": {},
   "cell_type": "markdown",
   "metadata": {},
   "source": [
    "# 12/01/2021"
   ]
  },
  {
   "attachments": {},
   "cell_type": "markdown",
   "metadata": {},
   "source": [
    "Il datataset  contiene  dati  relativi  a  pazienti  in  cura  in  un  ospedale, \n",
    "utilizzando le seguenti feature: \n",
    " \n",
    "Name / Data Type / Value Sample/ Description \n",
    "HAEMATOCRIT /Continuous /35.1 / Patient laboratory test result of haematocrit \n",
    "HAEMOGLOBINS/Continuous/11.8 / Patient laboratory test result of haemoglobins \n",
    "ERYTHROCYTE/Continuous/4.65 / Patient laboratory test result of erythrocyte \n",
    "LEUCOCYTE /Continuous /6.3 / Patient laboratory test result of leucocyte \n",
    "THROMBOCYTE/Continuous/310/ Patient laboratory test result of thrombocyte \n",
    "MCH/Continuous /25.4/ Patient laboratory test result of MCH \n",
    "MCHC/Continuous/33.6/ Patient laboratory test result of MCHC \n",
    "MCV/Continuous /75.5/ Patient laboratory test result of MCV \n",
    "AGE/Continuous/12/ Patient age \n",
    "SEX/Nominal – Binary/F/ Patient gender \n",
    "SOURCE/Nominal/ {1,0}/The class target 1.= in care patient, 0 = out care patient \n",
    " \n",
    "La variabile da predire è SOURCE."
   ]
  },
  {
   "cell_type": "code",
   "execution_count": 1,
   "metadata": {},
   "outputs": [],
   "source": [
    "import numpy as np\n",
    "import pandas as pd\n",
    "import matplotlib.pyplot as plt\n",
    " "
   ]
  },
  {
   "cell_type": "code",
   "execution_count": 2,
   "metadata": {},
   "outputs": [
    {
     "data": {
      "text/html": [
       "<div>\n",
       "<style scoped>\n",
       "    .dataframe tbody tr th:only-of-type {\n",
       "        vertical-align: middle;\n",
       "    }\n",
       "\n",
       "    .dataframe tbody tr th {\n",
       "        vertical-align: top;\n",
       "    }\n",
       "\n",
       "    .dataframe thead th {\n",
       "        text-align: right;\n",
       "    }\n",
       "</style>\n",
       "<table border=\"1\" class=\"dataframe\">\n",
       "  <thead>\n",
       "    <tr style=\"text-align: right;\">\n",
       "      <th></th>\n",
       "      <th>HAEMATOCRIT</th>\n",
       "      <th>HAEMOGLOBINS</th>\n",
       "      <th>ERYTHROCYTE</th>\n",
       "      <th>LEUCOCYTE</th>\n",
       "      <th>THROMBOCYTE</th>\n",
       "      <th>MCH</th>\n",
       "      <th>MCHC</th>\n",
       "      <th>MCV</th>\n",
       "      <th>AGE</th>\n",
       "      <th>SEX</th>\n",
       "      <th>SOURCE</th>\n",
       "    </tr>\n",
       "  </thead>\n",
       "  <tbody>\n",
       "    <tr>\n",
       "      <th>0</th>\n",
       "      <td>33.8</td>\n",
       "      <td>11.1</td>\n",
       "      <td>4.18</td>\n",
       "      <td>4.6</td>\n",
       "      <td>150</td>\n",
       "      <td>26.6</td>\n",
       "      <td>32.8</td>\n",
       "      <td>80.9</td>\n",
       "      <td>33</td>\n",
       "      <td>F</td>\n",
       "      <td>1</td>\n",
       "    </tr>\n",
       "    <tr>\n",
       "      <th>1</th>\n",
       "      <td>44.6</td>\n",
       "      <td>14.0</td>\n",
       "      <td>6.86</td>\n",
       "      <td>6.3</td>\n",
       "      <td>232</td>\n",
       "      <td>20.4</td>\n",
       "      <td>31.4</td>\n",
       "      <td>65.0</td>\n",
       "      <td>36</td>\n",
       "      <td>M</td>\n",
       "      <td>0</td>\n",
       "    </tr>\n",
       "    <tr>\n",
       "      <th>2</th>\n",
       "      <td>42.9</td>\n",
       "      <td>14.0</td>\n",
       "      <td>4.57</td>\n",
       "      <td>6.2</td>\n",
       "      <td>336</td>\n",
       "      <td>30.6</td>\n",
       "      <td>32.6</td>\n",
       "      <td>93.9</td>\n",
       "      <td>70</td>\n",
       "      <td>F</td>\n",
       "      <td>0</td>\n",
       "    </tr>\n",
       "    <tr>\n",
       "      <th>3</th>\n",
       "      <td>41.9</td>\n",
       "      <td>14.4</td>\n",
       "      <td>4.67</td>\n",
       "      <td>3.5</td>\n",
       "      <td>276</td>\n",
       "      <td>30.8</td>\n",
       "      <td>34.4</td>\n",
       "      <td>89.7</td>\n",
       "      <td>18</td>\n",
       "      <td>F</td>\n",
       "      <td>0</td>\n",
       "    </tr>\n",
       "    <tr>\n",
       "      <th>4</th>\n",
       "      <td>40.6</td>\n",
       "      <td>13.3</td>\n",
       "      <td>4.85</td>\n",
       "      <td>14.9</td>\n",
       "      <td>711</td>\n",
       "      <td>27.4</td>\n",
       "      <td>32.8</td>\n",
       "      <td>83.7</td>\n",
       "      <td>36</td>\n",
       "      <td>M</td>\n",
       "      <td>0</td>\n",
       "    </tr>\n",
       "    <tr>\n",
       "      <th>...</th>\n",
       "      <td>...</td>\n",
       "      <td>...</td>\n",
       "      <td>...</td>\n",
       "      <td>...</td>\n",
       "      <td>...</td>\n",
       "      <td>...</td>\n",
       "      <td>...</td>\n",
       "      <td>...</td>\n",
       "      <td>...</td>\n",
       "      <td>...</td>\n",
       "      <td>...</td>\n",
       "    </tr>\n",
       "    <tr>\n",
       "      <th>3304</th>\n",
       "      <td>39.0</td>\n",
       "      <td>13.2</td>\n",
       "      <td>4.45</td>\n",
       "      <td>4.0</td>\n",
       "      <td>50</td>\n",
       "      <td>29.7</td>\n",
       "      <td>33.8</td>\n",
       "      <td>87.6</td>\n",
       "      <td>45</td>\n",
       "      <td>M</td>\n",
       "      <td>1</td>\n",
       "    </tr>\n",
       "    <tr>\n",
       "      <th>3305</th>\n",
       "      <td>25.4</td>\n",
       "      <td>8.2</td>\n",
       "      <td>3.27</td>\n",
       "      <td>5.4</td>\n",
       "      <td>90</td>\n",
       "      <td>25.1</td>\n",
       "      <td>32.3</td>\n",
       "      <td>77.7</td>\n",
       "      <td>1</td>\n",
       "      <td>F</td>\n",
       "      <td>1</td>\n",
       "    </tr>\n",
       "    <tr>\n",
       "      <th>3306</th>\n",
       "      <td>38.2</td>\n",
       "      <td>12.4</td>\n",
       "      <td>4.40</td>\n",
       "      <td>8.4</td>\n",
       "      <td>328</td>\n",
       "      <td>28.2</td>\n",
       "      <td>32.5</td>\n",
       "      <td>86.8</td>\n",
       "      <td>64</td>\n",
       "      <td>M</td>\n",
       "      <td>0</td>\n",
       "    </tr>\n",
       "    <tr>\n",
       "      <th>3307</th>\n",
       "      <td>43.4</td>\n",
       "      <td>15.2</td>\n",
       "      <td>5.29</td>\n",
       "      <td>10.1</td>\n",
       "      <td>326</td>\n",
       "      <td>28.7</td>\n",
       "      <td>35.0</td>\n",
       "      <td>82.0</td>\n",
       "      <td>33</td>\n",
       "      <td>M</td>\n",
       "      <td>0</td>\n",
       "    </tr>\n",
       "    <tr>\n",
       "      <th>3308</th>\n",
       "      <td>32.4</td>\n",
       "      <td>10.7</td>\n",
       "      <td>3.66</td>\n",
       "      <td>9.4</td>\n",
       "      <td>214</td>\n",
       "      <td>29.2</td>\n",
       "      <td>33.0</td>\n",
       "      <td>88.5</td>\n",
       "      <td>72</td>\n",
       "      <td>F</td>\n",
       "      <td>1</td>\n",
       "    </tr>\n",
       "  </tbody>\n",
       "</table>\n",
       "<p>3309 rows × 11 columns</p>\n",
       "</div>"
      ],
      "text/plain": [
       "      HAEMATOCRIT  HAEMOGLOBINS  ERYTHROCYTE  LEUCOCYTE  THROMBOCYTE   MCH  \\\n",
       "0            33.8          11.1         4.18        4.6          150  26.6   \n",
       "1            44.6          14.0         6.86        6.3          232  20.4   \n",
       "2            42.9          14.0         4.57        6.2          336  30.6   \n",
       "3            41.9          14.4         4.67        3.5          276  30.8   \n",
       "4            40.6          13.3         4.85       14.9          711  27.4   \n",
       "...           ...           ...          ...        ...          ...   ...   \n",
       "3304         39.0          13.2         4.45        4.0           50  29.7   \n",
       "3305         25.4           8.2         3.27        5.4           90  25.1   \n",
       "3306         38.2          12.4         4.40        8.4          328  28.2   \n",
       "3307         43.4          15.2         5.29       10.1          326  28.7   \n",
       "3308         32.4          10.7         3.66        9.4          214  29.2   \n",
       "\n",
       "      MCHC   MCV  AGE SEX  SOURCE  \n",
       "0     32.8  80.9   33   F       1  \n",
       "1     31.4  65.0   36   M       0  \n",
       "2     32.6  93.9   70   F       0  \n",
       "3     34.4  89.7   18   F       0  \n",
       "4     32.8  83.7   36   M       0  \n",
       "...    ...   ...  ...  ..     ...  \n",
       "3304  33.8  87.6   45   M       1  \n",
       "3305  32.3  77.7    1   F       1  \n",
       "3306  32.5  86.8   64   M       0  \n",
       "3307  35.0  82.0   33   M       0  \n",
       "3308  33.0  88.5   72   F       1  \n",
       "\n",
       "[3309 rows x 11 columns]"
      ]
     },
     "execution_count": 2,
     "metadata": {},
     "output_type": "execute_result"
    }
   ],
   "source": [
    "df = pd.read_csv('training_set.csv')\n",
    "df\n",
    "\n"
   ]
  },
  {
   "cell_type": "code",
   "execution_count": 3,
   "metadata": {},
   "outputs": [
    {
     "data": {
      "text/plain": [
       "HAEMATOCRIT     0\n",
       "HAEMOGLOBINS    0\n",
       "ERYTHROCYTE     0\n",
       "LEUCOCYTE       0\n",
       "THROMBOCYTE     0\n",
       "MCH             0\n",
       "MCHC            0\n",
       "MCV             0\n",
       "AGE             0\n",
       "SEX             0\n",
       "SOURCE          0\n",
       "dtype: int64"
      ]
     },
     "execution_count": 3,
     "metadata": {},
     "output_type": "execute_result"
    }
   ],
   "source": [
    "df.isnull().sum()"
   ]
  },
  {
   "cell_type": "code",
   "execution_count": 4,
   "metadata": {},
   "outputs": [
    {
     "data": {
      "image/png": "[encoded data removed]",
      "text/plain": [
       "<Figure size 500x500 with 1 Axes>"
      ]
     },
     "metadata": {},
     "output_type": "display_data"
    }
   ],
   "source": [
    "f_classi = df['SOURCE'].value_counts()\n",
    "plot = f_classi.plot.pie(y='SOURCE', figsize=(5, 5))\n"
   ]
  },
  {
   "attachments": {},
   "cell_type": "markdown",
   "metadata": {},
   "source": [
    "vedo se sono presenti tuttw le età da 1 a 99"
   ]
  },
  {
   "cell_type": "code",
   "execution_count": 5,
   "metadata": {},
   "outputs": [
    {
     "name": "stdout",
     "output_type": "stream",
     "text": [
      "95\n",
      "95\n"
     ]
    }
   ],
   "source": [
    "#per farlo piu veloce\n",
    "print(df['AGE'].unique().shape[0] )\n",
    "\n",
    "# o \n",
    "\n",
    "print(len(df['AGE'].unique()))"
   ]
  },
  {
   "attachments": {},
   "cell_type": "markdown",
   "metadata": {},
   "source": [
    "ho ottenuto solo 95 valori quindi significa che non ci sono tutti le età in range(1,99)"
   ]
  },
  {
   "cell_type": "code",
   "execution_count": 6,
   "metadata": {},
   "outputs": [
    {
     "data": {
      "text/plain": [
       "<Axes: >"
      ]
     },
     "execution_count": 6,
     "metadata": {},
     "output_type": "execute_result"
    },
    {
     "data": {
      "image/png": "[encoded data removed]",
      "text/plain": [
       "<Figure size 640x480 with 1 Axes>"
      ]
     },
     "metadata": {},
     "output_type": "display_data"
    }
   ],
   "source": [
    "# Le  età  sono  rappresentate  con frequenza simili?\n",
    "# fallo così e non con value_counts() \n",
    "df['AGE'].hist(bins=99, linewidth=0.5, edgecolor='black')\n",
    "#sotto come non farlo in generale è da provare\n",
    "# df['AGE'].value_counts(sort=False).plot(kind='bar')\n"
   ]
  },
  {
   "cell_type": "code",
   "execution_count": 7,
   "metadata": {},
   "outputs": [
    {
     "data": {
      "text/plain": [
       "<Axes: >"
      ]
     },
     "execution_count": 7,
     "metadata": {},
     "output_type": "execute_result"
    },
    {
     "data": {
      "image/png": "[encoded data removed]",
      "text/plain": [
       "<Figure size 3000x1000 with 1 Axes>"
      ]
     },
     "metadata": {},
     "output_type": "display_data"
    }
   ],
   "source": [
    "#vedo l'output del modo da non usare in questo caso per vedere le frequenze delle età\n",
    "# perdo i valori con frequenza nulla\n",
    "df['AGE'].value_counts(sort=True).plot(kind='bar', figsize=(30, 10))"
   ]
  },
  {
   "attachments": {},
   "cell_type": "markdown",
   "metadata": {},
   "source": [
    "## Dividere  i  valori  assunti  dalla  variabile  AGE  in  10  gruppi."
   ]
  },
  {
   "cell_type": "code",
   "execution_count": 8,
   "metadata": {},
   "outputs": [
    {
     "name": "stdout",
     "output_type": "stream",
     "text": [
      "<class 'pandas.core.series.Series'>\n",
      "(0.901, 10.8]    201\n",
      "(10.8, 20.6]     200\n",
      "(20.6, 30.4]     492\n",
      "(30.4, 40.2]     439\n",
      "(40.2, 50.0]     445\n",
      "(50.0, 59.8]     452\n",
      "(59.8, 69.6]     533\n",
      "(69.6, 79.4]     364\n",
      "(79.4, 89.2]     156\n",
      "(89.2, 99.0]      27\n",
      "Name: AGE, dtype: int64\n"
     ]
    }
   ],
   "source": [
    " \n",
    "\n",
    "range_eta = df['AGE'].value_counts(bins=10, sort=False)\n",
    "#value counts ritorna una serie\n",
    "print(type(range_eta))\n",
    "print(range_eta)\n",
    "\n",
    "\n",
    "\n",
    "\n"
   ]
  },
  {
   "attachments": {},
   "cell_type": "markdown",
   "metadata": {},
   "source": [
    "## Verificare  se  per  ogni  gruppo  sono presenti  un  numero  simile  di  pazienti  rispetto  la  classe  da  predire.\n"
   ]
  },
  {
   "attachments": {},
   "cell_type": "markdown",
   "metadata": {},
   "source": [
    "# è meglio aggiungere al dataset una colonn con i range di età\n",
    "- per farlo faccio il cut di df['AGE'] in 10 bins che vanno da 0 a 100\n",
    "- aggiungo la colonna 'RANGE_ETA' al dataset"
   ]
  },
  {
   "cell_type": "code",
   "execution_count": 9,
   "metadata": {},
   "outputs": [
    {
     "name": "stdout",
     "output_type": "stream",
     "text": [
      "<class 'pandas.core.series.Series'>\n",
      "      HAEMATOCRIT  HAEMOGLOBINS  ERYTHROCYTE  LEUCOCYTE  THROMBOCYTE   MCH  \\\n",
      "0            33.8          11.1         4.18        4.6          150  26.6   \n",
      "1            44.6          14.0         6.86        6.3          232  20.4   \n",
      "2            42.9          14.0         4.57        6.2          336  30.6   \n",
      "3            41.9          14.4         4.67        3.5          276  30.8   \n",
      "4            40.6          13.3         4.85       14.9          711  27.4   \n",
      "...           ...           ...          ...        ...          ...   ...   \n",
      "3304         39.0          13.2         4.45        4.0           50  29.7   \n",
      "3305         25.4           8.2         3.27        5.4           90  25.1   \n",
      "3306         38.2          12.4         4.40        8.4          328  28.2   \n",
      "3307         43.4          15.2         5.29       10.1          326  28.7   \n",
      "3308         32.4          10.7         3.66        9.4          214  29.2   \n",
      "\n",
      "      MCHC   MCV  AGE SEX  SOURCE RANGE_ETA  \n",
      "0     32.8  80.9   33   F       1  (30, 40]  \n",
      "1     31.4  65.0   36   M       0  (30, 40]  \n",
      "2     32.6  93.9   70   F       0  (60, 70]  \n",
      "3     34.4  89.7   18   F       0  (10, 20]  \n",
      "4     32.8  83.7   36   M       0  (30, 40]  \n",
      "...    ...   ...  ...  ..     ...       ...  \n",
      "3304  33.8  87.6   45   M       1  (40, 50]  \n",
      "3305  32.3  77.7    1   F       1   (0, 10]  \n",
      "3306  32.5  86.8   64   M       0  (60, 70]  \n",
      "3307  35.0  82.0   33   M       0  (30, 40]  \n",
      "3308  33.0  88.5   72   F       1  (70, 80]  \n",
      "\n",
      "[3309 rows x 12 columns]\n"
     ]
    }
   ],
   "source": [
    "bins = [0, 10, 20, 30, 40, 50, 60, 70, 80, 90, 100]\n",
    "range_eta = pd.cut(df['AGE'], bins)\n",
    "print(type(range_eta))\n",
    "df['RANGE_ETA'] = range_eta\n",
    "print(df)"
   ]
  },
  {
   "attachments": {},
   "cell_type": "markdown",
   "metadata": {},
   "source": [
    "### visualizzo la distribuzione dei pazienti per ogni range di età\n",
    "\n",
    "per farlo raggruppo dopo il groupby per 'RANGE_ETA' per fare il count di ogni range di età devo usare .size() e non .value_counts() che mi da il conteggio per ogni valore della serie "
   ]
  },
  {
   "cell_type": "code",
   "execution_count": 10,
   "metadata": {},
   "outputs": [],
   "source": [
    "range_eta = df.groupby('RANGE_ETA').size().to_frame()"
   ]
  },
  {
   "cell_type": "code",
   "execution_count": 11,
   "metadata": {},
   "outputs": [
    {
     "data": {
      "text/html": [
       "<div>\n",
       "<style scoped>\n",
       "    .dataframe tbody tr th:only-of-type {\n",
       "        vertical-align: middle;\n",
       "    }\n",
       "\n",
       "    .dataframe tbody tr th {\n",
       "        vertical-align: top;\n",
       "    }\n",
       "\n",
       "    .dataframe thead th {\n",
       "        text-align: right;\n",
       "    }\n",
       "</style>\n",
       "<table border=\"1\" class=\"dataframe\">\n",
       "  <thead>\n",
       "    <tr style=\"text-align: right;\">\n",
       "      <th></th>\n",
       "      <th>FREQUENZA</th>\n",
       "    </tr>\n",
       "    <tr>\n",
       "      <th>RANGE_ETA</th>\n",
       "      <th></th>\n",
       "    </tr>\n",
       "  </thead>\n",
       "  <tbody>\n",
       "    <tr>\n",
       "      <th>(0, 10]</th>\n",
       "      <td>201</td>\n",
       "    </tr>\n",
       "    <tr>\n",
       "      <th>(10, 20]</th>\n",
       "      <td>200</td>\n",
       "    </tr>\n",
       "    <tr>\n",
       "      <th>(20, 30]</th>\n",
       "      <td>492</td>\n",
       "    </tr>\n",
       "    <tr>\n",
       "      <th>(30, 40]</th>\n",
       "      <td>439</td>\n",
       "    </tr>\n",
       "    <tr>\n",
       "      <th>(40, 50]</th>\n",
       "      <td>445</td>\n",
       "    </tr>\n",
       "    <tr>\n",
       "      <th>(50, 60]</th>\n",
       "      <td>505</td>\n",
       "    </tr>\n",
       "    <tr>\n",
       "      <th>(60, 70]</th>\n",
       "      <td>539</td>\n",
       "    </tr>\n",
       "    <tr>\n",
       "      <th>(70, 80]</th>\n",
       "      <td>323</td>\n",
       "    </tr>\n",
       "    <tr>\n",
       "      <th>(80, 90]</th>\n",
       "      <td>143</td>\n",
       "    </tr>\n",
       "    <tr>\n",
       "      <th>(90, 100]</th>\n",
       "      <td>22</td>\n",
       "    </tr>\n",
       "  </tbody>\n",
       "</table>\n",
       "</div>"
      ],
      "text/plain": [
       "           FREQUENZA\n",
       "RANGE_ETA           \n",
       "(0, 10]          201\n",
       "(10, 20]         200\n",
       "(20, 30]         492\n",
       "(30, 40]         439\n",
       "(40, 50]         445\n",
       "(50, 60]         505\n",
       "(60, 70]         539\n",
       "(70, 80]         323\n",
       "(80, 90]         143\n",
       "(90, 100]         22"
      ]
     },
     "execution_count": 11,
     "metadata": {},
     "output_type": "execute_result"
    }
   ],
   "source": [
    "range_eta = df.groupby('RANGE_ETA').size().to_frame()\n",
    "range_eta.columns = ['FREQUENZA']\n",
    "range_eta\n"
   ]
  },
  {
   "cell_type": "code",
   "execution_count": 12,
   "metadata": {},
   "outputs": [
    {
     "data": {
      "text/html": [
       "<div>\n",
       "<style scoped>\n",
       "    .dataframe tbody tr th:only-of-type {\n",
       "        vertical-align: middle;\n",
       "    }\n",
       "\n",
       "    .dataframe tbody tr th {\n",
       "        vertical-align: top;\n",
       "    }\n",
       "\n",
       "    .dataframe thead th {\n",
       "        text-align: right;\n",
       "    }\n",
       "</style>\n",
       "<table border=\"1\" class=\"dataframe\">\n",
       "  <thead>\n",
       "    <tr style=\"text-align: right;\">\n",
       "      <th></th>\n",
       "      <th>FREQUENZA</th>\n",
       "    </tr>\n",
       "    <tr>\n",
       "      <th>RANGE_ETA</th>\n",
       "      <th></th>\n",
       "    </tr>\n",
       "  </thead>\n",
       "  <tbody>\n",
       "    <tr>\n",
       "      <th>(0, 10]</th>\n",
       "      <td>201</td>\n",
       "    </tr>\n",
       "    <tr>\n",
       "      <th>(10, 20]</th>\n",
       "      <td>200</td>\n",
       "    </tr>\n",
       "    <tr>\n",
       "      <th>(20, 30]</th>\n",
       "      <td>492</td>\n",
       "    </tr>\n",
       "    <tr>\n",
       "      <th>(30, 40]</th>\n",
       "      <td>439</td>\n",
       "    </tr>\n",
       "    <tr>\n",
       "      <th>(40, 50]</th>\n",
       "      <td>445</td>\n",
       "    </tr>\n",
       "    <tr>\n",
       "      <th>(50, 60]</th>\n",
       "      <td>505</td>\n",
       "    </tr>\n",
       "    <tr>\n",
       "      <th>(60, 70]</th>\n",
       "      <td>539</td>\n",
       "    </tr>\n",
       "    <tr>\n",
       "      <th>(70, 80]</th>\n",
       "      <td>323</td>\n",
       "    </tr>\n",
       "    <tr>\n",
       "      <th>(80, 90]</th>\n",
       "      <td>143</td>\n",
       "    </tr>\n",
       "    <tr>\n",
       "      <th>(90, 100]</th>\n",
       "      <td>22</td>\n",
       "    </tr>\n",
       "  </tbody>\n",
       "</table>\n",
       "</div>"
      ],
      "text/plain": [
       "           FREQUENZA\n",
       "RANGE_ETA           \n",
       "(0, 10]          201\n",
       "(10, 20]         200\n",
       "(20, 30]         492\n",
       "(30, 40]         439\n",
       "(40, 50]         445\n",
       "(50, 60]         505\n",
       "(60, 70]         539\n",
       "(70, 80]         323\n",
       "(80, 90]         143\n",
       "(90, 100]         22"
      ]
     },
     "execution_count": 12,
     "metadata": {},
     "output_type": "execute_result"
    }
   ],
   "source": [
    "# se voglio farlo con la loc \n",
    "range_eta = df.loc[:, ['RANGE_ETA']].value_counts(sort=False).to_frame()\n",
    "range_eta.columns = ['FREQUENZA']\n",
    "range_eta"
   ]
  },
  {
   "cell_type": "code",
   "execution_count": 13,
   "metadata": {},
   "outputs": [
    {
     "data": {
      "text/plain": [
       "<Axes: xlabel='RANGE_ETA'>"
      ]
     },
     "execution_count": 13,
     "metadata": {},
     "output_type": "execute_result"
    },
    {
     "data": {
      "image/png": "[encoded data removed]",
      "text/plain": [
       "<Figure size 640x480 with 1 Axes>"
      ]
     },
     "metadata": {},
     "output_type": "display_data"
    },
    {
     "data": {
      "image/png": "[encoded data removed]",
      "text/plain": [
       "<Figure size 640x480 with 1 Axes>"
      ]
     },
     "metadata": {},
     "output_type": "display_data"
    }
   ],
   "source": [
    "range_eta['dist'] = range_eta['FREQUENZA'] / range_eta['FREQUENZA'].sum()\n",
    "range_eta\n",
    "\n",
    "plt.figure()\n",
    "range_eta['FREQUENZA'].plot.bar(width=1, color='yellow', edgecolor='black', legend=True)\n",
    "plt.figure()\n",
    "range_eta['dist'].plot.bar(width=1, color='g', edgecolor='black', legend=True)"
   ]
  },
  {
   "attachments": {},
   "cell_type": "markdown",
   "metadata": {},
   "source": [
    "### se voglio visualizzare la distribuzione di una variabile categorica rispetto a una numerica ottenuta con il groupby:\n",
    "\n",
    "### uso il groupby('variabile categorica') e poi faccio il value_counts() per ogni gruppo"
   ]
  },
  {
   "attachments": {},
   "cell_type": "markdown",
   "metadata": {},
   "source": [
    "\n",
    "Raggruppo le classi del dataframe per 'SEX':\n",
    "-uso il groupby('SEX') e poi faccio il value_counts() per ogni gruppo\n",
    "- avro quattro gruppi:\n",
    "    - F e SOURCE = 0\n",
    "    - F e SOURCE = 1\n",
    "    - M e SOURCE = 0\n",
    "    - M e SOURCE = 1\n",
    "\n",
    "- scelgo di visualizzare la distribuzione su un diagramma a torta o un plot a barre"
   ]
  },
  {
   "cell_type": "code",
   "execution_count": 14,
   "metadata": {},
   "outputs": [
    {
     "data": {
      "text/plain": [
       "SEX  SOURCE\n",
       "F    0          989\n",
       "     1          577\n",
       "M    0         1003\n",
       "     1          740\n",
       "Name: SOURCE, dtype: int64"
      ]
     },
     "execution_count": 14,
     "metadata": {},
     "output_type": "execute_result"
    }
   ],
   "source": [
    "#non fare cosi:\n",
    "class_sex_2 = df['SOURCE'].groupby(df['SEX']).value_counts(sort=False)\n",
    "class_sex_2"
   ]
  },
  {
   "cell_type": "code",
   "execution_count": 15,
   "metadata": {},
   "outputs": [
    {
     "data": {
      "text/html": [
       "<div>\n",
       "<style scoped>\n",
       "    .dataframe tbody tr th:only-of-type {\n",
       "        vertical-align: middle;\n",
       "    }\n",
       "\n",
       "    .dataframe tbody tr th {\n",
       "        vertical-align: top;\n",
       "    }\n",
       "\n",
       "    .dataframe thead th {\n",
       "        text-align: right;\n",
       "    }\n",
       "</style>\n",
       "<table border=\"1\" class=\"dataframe\">\n",
       "  <thead>\n",
       "    <tr style=\"text-align: right;\">\n",
       "      <th>SOURCE</th>\n",
       "      <th>0</th>\n",
       "      <th>1</th>\n",
       "    </tr>\n",
       "    <tr>\n",
       "      <th>SEX</th>\n",
       "      <th></th>\n",
       "      <th></th>\n",
       "    </tr>\n",
       "  </thead>\n",
       "  <tbody>\n",
       "    <tr>\n",
       "      <th>F</th>\n",
       "      <td>989</td>\n",
       "      <td>577</td>\n",
       "    </tr>\n",
       "    <tr>\n",
       "      <th>M</th>\n",
       "      <td>1003</td>\n",
       "      <td>740</td>\n",
       "    </tr>\n",
       "  </tbody>\n",
       "</table>\n",
       "</div>"
      ],
      "text/plain": [
       "SOURCE     0    1\n",
       "SEX              \n",
       "F        989  577\n",
       "M       1003  740"
      ]
     },
     "execution_count": 15,
     "metadata": {},
     "output_type": "execute_result"
    }
   ],
   "source": [
    "class_sex_2.unstack()\n"
   ]
  },
  {
   "cell_type": "code",
   "execution_count": 16,
   "metadata": {},
   "outputs": [
    {
     "data": {
      "text/plain": [
       "<Axes: xlabel='SEX,SOURCE'>"
      ]
     },
     "execution_count": 16,
     "metadata": {},
     "output_type": "execute_result"
    },
    {
     "data": {
      "image/png": "[encoded data removed]",
      "text/plain": [
       "<Figure size 640x480 with 1 Axes>"
      ]
     },
     "metadata": {},
     "output_type": "display_data"
    }
   ],
   "source": [
    "#si ottiene un grafico brutto\n",
    "class_sex_2.plot.bar(width=0.5, color=['red', 'blue'], edgecolor='black', legend=True)"
   ]
  },
  {
   "cell_type": "code",
   "execution_count": 17,
   "metadata": {},
   "outputs": [],
   "source": [
    "# è meglio raggruppare cosi nel grupby\n",
    "class_sex = df.groupby('SEX')['SOURCE'].value_counts()\n"
   ]
  },
  {
   "cell_type": "code",
   "execution_count": 18,
   "metadata": {},
   "outputs": [],
   "source": [
    "# per il grafico a torta\n",
    "# plt = class_sex.plot(kind='pie', figsize=(20, 10), autopct='%1.1f%%')\n",
    "# plt.yaxis.set_visible(False) # per nascondere le etichette sull'asse y\n"
   ]
  },
  {
   "attachments": {},
   "cell_type": "markdown",
   "metadata": {},
   "source": [
    "per usare il plot a barre devo trasformare la serie ottenuta da groupby().value_counts() in un dataframe cosi posso usare il metodo plot.bar() di pandas"
   ]
  },
  {
   "cell_type": "code",
   "execution_count": 19,
   "metadata": {},
   "outputs": [
    {
     "data": {
      "text/html": [
       "<div>\n",
       "<style scoped>\n",
       "    .dataframe tbody tr th:only-of-type {\n",
       "        vertical-align: middle;\n",
       "    }\n",
       "\n",
       "    .dataframe tbody tr th {\n",
       "        vertical-align: top;\n",
       "    }\n",
       "\n",
       "    .dataframe thead th {\n",
       "        text-align: right;\n",
       "    }\n",
       "</style>\n",
       "<table border=\"1\" class=\"dataframe\">\n",
       "  <thead>\n",
       "    <tr style=\"text-align: right;\">\n",
       "      <th>SOURCE</th>\n",
       "      <th>0</th>\n",
       "      <th>1</th>\n",
       "    </tr>\n",
       "    <tr>\n",
       "      <th>SEX</th>\n",
       "      <th></th>\n",
       "      <th></th>\n",
       "    </tr>\n",
       "  </thead>\n",
       "  <tbody>\n",
       "    <tr>\n",
       "      <th>F</th>\n",
       "      <td>989</td>\n",
       "      <td>577</td>\n",
       "    </tr>\n",
       "    <tr>\n",
       "      <th>M</th>\n",
       "      <td>1003</td>\n",
       "      <td>740</td>\n",
       "    </tr>\n",
       "  </tbody>\n",
       "</table>\n",
       "</div>"
      ],
      "text/plain": [
       "SOURCE     0    1\n",
       "SEX              \n",
       "F        989  577\n",
       "M       1003  740"
      ]
     },
     "execution_count": 19,
     "metadata": {},
     "output_type": "execute_result"
    }
   ],
   "source": [
    "# unstack() trasforma la serie in un dataframe\n",
    "class_sex = class_sex.unstack()\n",
    "class_sex"
   ]
  },
  {
   "cell_type": "code",
   "execution_count": 20,
   "metadata": {},
   "outputs": [
    {
     "data": {
      "text/plain": [
       "<Axes: xlabel='SEX'>"
      ]
     },
     "execution_count": 20,
     "metadata": {},
     "output_type": "execute_result"
    },
    {
     "data": {
      "image/png": "[encoded data removed]",
      "text/plain": [
       "<Figure size 640x480 with 1 Axes>"
      ]
     },
     "metadata": {},
     "output_type": "display_data"
    }
   ],
   "source": [
    "\n",
    "class_sex.plot.bar(color= ('lime', 'purple'))"
   ]
  },
  {
   "attachments": {},
   "cell_type": "markdown",
   "metadata": {},
   "source": [
    "Con seaborn si fa il doppio piu veloce perchè fa da solo il groupby e il value_counts() e poi fa il plot"
   ]
  },
  {
   "cell_type": "code",
   "execution_count": 21,
   "metadata": {},
   "outputs": [],
   "source": [
    "import seaborn as sns\n"
   ]
  },
  {
   "cell_type": "code",
   "execution_count": 22,
   "metadata": {},
   "outputs": [
    {
     "data": {
      "text/plain": [
       "<Axes: xlabel='SEX', ylabel='count'>"
      ]
     },
     "execution_count": 22,
     "metadata": {},
     "output_type": "execute_result"
    },
    {
     "data": {
      "image/png": "[encoded data removed]",
      "text/plain": [
       "<Figure size 640x480 with 1 Axes>"
      ]
     },
     "metadata": {},
     "output_type": "display_data"
    }
   ],
   "source": [
    "sns.countplot(df, x = 'SEX', hue='SOURCE')"
   ]
  },
  {
   "attachments": {},
   "cell_type": "markdown",
   "metadata": {},
   "source": [
    "## . Verificare se è vero che le donne si ammalano meno degli uomini. \n",
    "\n",
    "## Rappresentare graficamente se possibile quanto emerge dai dati.(punti 2) "
   ]
  },
  {
   "attachments": {},
   "cell_type": "markdown",
   "metadata": {},
   "source": [
    "in questo caso non è piu veloce farlo con seaborn perchè dovrei comunque fare il groupby e il value_counts() e lo converto in dataframe per fare il plot, e uso direttamente plot.bar() di pandas"
   ]
  },
  {
   "cell_type": "code",
   "execution_count": 23,
   "metadata": {},
   "outputs": [
    {
     "data": {
      "text/html": [
       "<div>\n",
       "<style scoped>\n",
       "    .dataframe tbody tr th:only-of-type {\n",
       "        vertical-align: middle;\n",
       "    }\n",
       "\n",
       "    .dataframe tbody tr th {\n",
       "        vertical-align: top;\n",
       "    }\n",
       "\n",
       "    .dataframe thead th {\n",
       "        text-align: right;\n",
       "    }\n",
       "</style>\n",
       "<table border=\"1\" class=\"dataframe\">\n",
       "  <thead>\n",
       "    <tr style=\"text-align: right;\">\n",
       "      <th>SOURCE</th>\n",
       "      <th>0</th>\n",
       "      <th>1</th>\n",
       "    </tr>\n",
       "    <tr>\n",
       "      <th>SEX</th>\n",
       "      <th></th>\n",
       "      <th></th>\n",
       "    </tr>\n",
       "  </thead>\n",
       "  <tbody>\n",
       "    <tr>\n",
       "      <th>F</th>\n",
       "      <td>989</td>\n",
       "      <td>577</td>\n",
       "    </tr>\n",
       "    <tr>\n",
       "      <th>M</th>\n",
       "      <td>1003</td>\n",
       "      <td>740</td>\n",
       "    </tr>\n",
       "  </tbody>\n",
       "</table>\n",
       "</div>"
      ],
      "text/plain": [
       "SOURCE     0    1\n",
       "SEX              \n",
       "F        989  577\n",
       "M       1003  740"
      ]
     },
     "execution_count": 23,
     "metadata": {},
     "output_type": "execute_result"
    }
   ],
   "source": [
    "class_sex"
   ]
  },
  {
   "cell_type": "code",
   "execution_count": 24,
   "metadata": {},
   "outputs": [
    {
     "name": "stdout",
     "output_type": "stream",
     "text": [
      "SOURCE     0    1\n",
      "SEX              \n",
      "M       1003  740\n",
      "<class 'pandas.core.frame.DataFrame'>\n"
     ]
    },
    {
     "data": {
      "text/plain": [
       "<Axes: xlabel='SEX'>"
      ]
     },
     "execution_count": 24,
     "metadata": {},
     "output_type": "execute_result"
    },
    {
     "data": {
      "image/png": "[encoded data removed]",
      "text/plain": [
       "<Figure size 640x480 with 1 Axes>"
      ]
     },
     "metadata": {},
     "output_type": "display_data"
    }
   ],
   "source": [
    "# selezione riga di class sex con SOURCE = 1\n",
    "# SE SI IMPALLA STAMPA IL DATAFRAME PER CONTROLLARE CHE NON SIA UNA SERIES\n",
    "print(class_sex[1:2]) # dataframe\n",
    "print(type(class_sex[1:2])) \n",
    "\n",
    "class_sex[1:2].plot.bar(color= ('lime', 'purple'))\n"
   ]
  },
  {
   "attachments": {},
   "cell_type": "markdown",
   "metadata": {},
   "source": [
    "dal grafico precedente si vede che le donne si ammalano meno degli uomini in quanto ci sono circa.\n",
    "\n",
    "In verità dovrai fare tali valori normalizzati con il n° di donne e n° di uomini per vedre in percentuale quanti uomini e donne si ammalano rispetto al totale di ogni genere"
   ]
  },
  {
   "attachments": {},
   "cell_type": "markdown",
   "metadata": {},
   "source": [
    "## Realizzare una pivot_table in cui rappresentare come si comporta la classe da predire rispetto i 10 gruppi di AGE (sulle righe), e il SEX (sulle colonne) (punti 3)"
   ]
  },
  {
   "cell_type": "code",
   "execution_count": 25,
   "metadata": {},
   "outputs": [
    {
     "data": {
      "text/html": [
       "<div>\n",
       "<style scoped>\n",
       "    .dataframe tbody tr th:only-of-type {\n",
       "        vertical-align: middle;\n",
       "    }\n",
       "\n",
       "    .dataframe tbody tr th {\n",
       "        vertical-align: top;\n",
       "    }\n",
       "\n",
       "    .dataframe thead th {\n",
       "        text-align: right;\n",
       "    }\n",
       "</style>\n",
       "<table border=\"1\" class=\"dataframe\">\n",
       "  <thead>\n",
       "    <tr style=\"text-align: right;\">\n",
       "      <th>SEX</th>\n",
       "      <th>F</th>\n",
       "      <th>M</th>\n",
       "    </tr>\n",
       "    <tr>\n",
       "      <th>RANGE_ETA</th>\n",
       "      <th></th>\n",
       "      <th></th>\n",
       "    </tr>\n",
       "  </thead>\n",
       "  <tbody>\n",
       "    <tr>\n",
       "      <th>(0, 10]</th>\n",
       "      <td>96</td>\n",
       "      <td>105</td>\n",
       "    </tr>\n",
       "    <tr>\n",
       "      <th>(10, 20]</th>\n",
       "      <td>92</td>\n",
       "      <td>108</td>\n",
       "    </tr>\n",
       "    <tr>\n",
       "      <th>(20, 30]</th>\n",
       "      <td>247</td>\n",
       "      <td>245</td>\n",
       "    </tr>\n",
       "    <tr>\n",
       "      <th>(30, 40]</th>\n",
       "      <td>228</td>\n",
       "      <td>211</td>\n",
       "    </tr>\n",
       "    <tr>\n",
       "      <th>(40, 50]</th>\n",
       "      <td>209</td>\n",
       "      <td>236</td>\n",
       "    </tr>\n",
       "    <tr>\n",
       "      <th>(50, 60]</th>\n",
       "      <td>217</td>\n",
       "      <td>288</td>\n",
       "    </tr>\n",
       "    <tr>\n",
       "      <th>(60, 70]</th>\n",
       "      <td>250</td>\n",
       "      <td>289</td>\n",
       "    </tr>\n",
       "    <tr>\n",
       "      <th>(70, 80]</th>\n",
       "      <td>131</td>\n",
       "      <td>192</td>\n",
       "    </tr>\n",
       "    <tr>\n",
       "      <th>(80, 90]</th>\n",
       "      <td>75</td>\n",
       "      <td>68</td>\n",
       "    </tr>\n",
       "    <tr>\n",
       "      <th>(90, 100]</th>\n",
       "      <td>21</td>\n",
       "      <td>1</td>\n",
       "    </tr>\n",
       "  </tbody>\n",
       "</table>\n",
       "</div>"
      ],
      "text/plain": [
       "SEX          F    M\n",
       "RANGE_ETA          \n",
       "(0, 10]     96  105\n",
       "(10, 20]    92  108\n",
       "(20, 30]   247  245\n",
       "(30, 40]   228  211\n",
       "(40, 50]   209  236\n",
       "(50, 60]   217  288\n",
       "(60, 70]   250  289\n",
       "(70, 80]   131  192\n",
       "(80, 90]    75   68\n",
       "(90, 100]   21    1"
      ]
     },
     "execution_count": 25,
     "metadata": {},
     "output_type": "execute_result"
    }
   ],
   "source": [
    "pivot_table = df.pivot_table(index= 'RANGE_ETA', columns='SEX',  values='SOURCE', aggfunc='count') #aggfunc='count' conta gli elementi di della colonna per ogni attributo delle righe\n",
    "\n",
    "pivot_table"
   ]
  },
  {
   "attachments": {},
   "cell_type": "markdown",
   "metadata": {},
   "source": [
    "# Parte 2: Trasformazione e Predizione (22 punti)"
   ]
  },
  {
   "attachments": {},
   "cell_type": "markdown",
   "metadata": {},
   "source": [
    "### 1. Si vuole predire il valore di SOURCE sulla base degli attributi presenti nel dataset. Ricaricare il dataset originale, rendere gli attributi numerici, e dividerlo in modo che 2/3 degli elementi siano contenuti in un nuovo dataset “train” e 1/3 nel dataset “test”."
   ]
  },
  {
   "cell_type": "code",
   "execution_count": 26,
   "metadata": {},
   "outputs": [
    {
     "data": {
      "text/html": [
       "<div>\n",
       "<style scoped>\n",
       "    .dataframe tbody tr th:only-of-type {\n",
       "        vertical-align: middle;\n",
       "    }\n",
       "\n",
       "    .dataframe tbody tr th {\n",
       "        vertical-align: top;\n",
       "    }\n",
       "\n",
       "    .dataframe thead th {\n",
       "        text-align: right;\n",
       "    }\n",
       "</style>\n",
       "<table border=\"1\" class=\"dataframe\">\n",
       "  <thead>\n",
       "    <tr style=\"text-align: right;\">\n",
       "      <th></th>\n",
       "      <th>HAEMATOCRIT</th>\n",
       "      <th>HAEMOGLOBINS</th>\n",
       "      <th>ERYTHROCYTE</th>\n",
       "      <th>LEUCOCYTE</th>\n",
       "      <th>THROMBOCYTE</th>\n",
       "      <th>MCH</th>\n",
       "      <th>MCHC</th>\n",
       "      <th>MCV</th>\n",
       "      <th>AGE</th>\n",
       "      <th>SEX</th>\n",
       "      <th>SOURCE</th>\n",
       "    </tr>\n",
       "  </thead>\n",
       "  <tbody>\n",
       "    <tr>\n",
       "      <th>0</th>\n",
       "      <td>33.8</td>\n",
       "      <td>11.1</td>\n",
       "      <td>4.18</td>\n",
       "      <td>4.6</td>\n",
       "      <td>150</td>\n",
       "      <td>26.6</td>\n",
       "      <td>32.8</td>\n",
       "      <td>80.9</td>\n",
       "      <td>33</td>\n",
       "      <td>F</td>\n",
       "      <td>1</td>\n",
       "    </tr>\n",
       "    <tr>\n",
       "      <th>1</th>\n",
       "      <td>44.6</td>\n",
       "      <td>14.0</td>\n",
       "      <td>6.86</td>\n",
       "      <td>6.3</td>\n",
       "      <td>232</td>\n",
       "      <td>20.4</td>\n",
       "      <td>31.4</td>\n",
       "      <td>65.0</td>\n",
       "      <td>36</td>\n",
       "      <td>M</td>\n",
       "      <td>0</td>\n",
       "    </tr>\n",
       "    <tr>\n",
       "      <th>2</th>\n",
       "      <td>42.9</td>\n",
       "      <td>14.0</td>\n",
       "      <td>4.57</td>\n",
       "      <td>6.2</td>\n",
       "      <td>336</td>\n",
       "      <td>30.6</td>\n",
       "      <td>32.6</td>\n",
       "      <td>93.9</td>\n",
       "      <td>70</td>\n",
       "      <td>F</td>\n",
       "      <td>0</td>\n",
       "    </tr>\n",
       "    <tr>\n",
       "      <th>3</th>\n",
       "      <td>41.9</td>\n",
       "      <td>14.4</td>\n",
       "      <td>4.67</td>\n",
       "      <td>3.5</td>\n",
       "      <td>276</td>\n",
       "      <td>30.8</td>\n",
       "      <td>34.4</td>\n",
       "      <td>89.7</td>\n",
       "      <td>18</td>\n",
       "      <td>F</td>\n",
       "      <td>0</td>\n",
       "    </tr>\n",
       "    <tr>\n",
       "      <th>4</th>\n",
       "      <td>40.6</td>\n",
       "      <td>13.3</td>\n",
       "      <td>4.85</td>\n",
       "      <td>14.9</td>\n",
       "      <td>711</td>\n",
       "      <td>27.4</td>\n",
       "      <td>32.8</td>\n",
       "      <td>83.7</td>\n",
       "      <td>36</td>\n",
       "      <td>M</td>\n",
       "      <td>0</td>\n",
       "    </tr>\n",
       "    <tr>\n",
       "      <th>...</th>\n",
       "      <td>...</td>\n",
       "      <td>...</td>\n",
       "      <td>...</td>\n",
       "      <td>...</td>\n",
       "      <td>...</td>\n",
       "      <td>...</td>\n",
       "      <td>...</td>\n",
       "      <td>...</td>\n",
       "      <td>...</td>\n",
       "      <td>...</td>\n",
       "      <td>...</td>\n",
       "    </tr>\n",
       "    <tr>\n",
       "      <th>3304</th>\n",
       "      <td>39.0</td>\n",
       "      <td>13.2</td>\n",
       "      <td>4.45</td>\n",
       "      <td>4.0</td>\n",
       "      <td>50</td>\n",
       "      <td>29.7</td>\n",
       "      <td>33.8</td>\n",
       "      <td>87.6</td>\n",
       "      <td>45</td>\n",
       "      <td>M</td>\n",
       "      <td>1</td>\n",
       "    </tr>\n",
       "    <tr>\n",
       "      <th>3305</th>\n",
       "      <td>25.4</td>\n",
       "      <td>8.2</td>\n",
       "      <td>3.27</td>\n",
       "      <td>5.4</td>\n",
       "      <td>90</td>\n",
       "      <td>25.1</td>\n",
       "      <td>32.3</td>\n",
       "      <td>77.7</td>\n",
       "      <td>1</td>\n",
       "      <td>F</td>\n",
       "      <td>1</td>\n",
       "    </tr>\n",
       "    <tr>\n",
       "      <th>3306</th>\n",
       "      <td>38.2</td>\n",
       "      <td>12.4</td>\n",
       "      <td>4.40</td>\n",
       "      <td>8.4</td>\n",
       "      <td>328</td>\n",
       "      <td>28.2</td>\n",
       "      <td>32.5</td>\n",
       "      <td>86.8</td>\n",
       "      <td>64</td>\n",
       "      <td>M</td>\n",
       "      <td>0</td>\n",
       "    </tr>\n",
       "    <tr>\n",
       "      <th>3307</th>\n",
       "      <td>43.4</td>\n",
       "      <td>15.2</td>\n",
       "      <td>5.29</td>\n",
       "      <td>10.1</td>\n",
       "      <td>326</td>\n",
       "      <td>28.7</td>\n",
       "      <td>35.0</td>\n",
       "      <td>82.0</td>\n",
       "      <td>33</td>\n",
       "      <td>M</td>\n",
       "      <td>0</td>\n",
       "    </tr>\n",
       "    <tr>\n",
       "      <th>3308</th>\n",
       "      <td>32.4</td>\n",
       "      <td>10.7</td>\n",
       "      <td>3.66</td>\n",
       "      <td>9.4</td>\n",
       "      <td>214</td>\n",
       "      <td>29.2</td>\n",
       "      <td>33.0</td>\n",
       "      <td>88.5</td>\n",
       "      <td>72</td>\n",
       "      <td>F</td>\n",
       "      <td>1</td>\n",
       "    </tr>\n",
       "  </tbody>\n",
       "</table>\n",
       "<p>3309 rows × 11 columns</p>\n",
       "</div>"
      ],
      "text/plain": [
       "      HAEMATOCRIT  HAEMOGLOBINS  ERYTHROCYTE  LEUCOCYTE  THROMBOCYTE   MCH  \\\n",
       "0            33.8          11.1         4.18        4.6          150  26.6   \n",
       "1            44.6          14.0         6.86        6.3          232  20.4   \n",
       "2            42.9          14.0         4.57        6.2          336  30.6   \n",
       "3            41.9          14.4         4.67        3.5          276  30.8   \n",
       "4            40.6          13.3         4.85       14.9          711  27.4   \n",
       "...           ...           ...          ...        ...          ...   ...   \n",
       "3304         39.0          13.2         4.45        4.0           50  29.7   \n",
       "3305         25.4           8.2         3.27        5.4           90  25.1   \n",
       "3306         38.2          12.4         4.40        8.4          328  28.2   \n",
       "3307         43.4          15.2         5.29       10.1          326  28.7   \n",
       "3308         32.4          10.7         3.66        9.4          214  29.2   \n",
       "\n",
       "      MCHC   MCV  AGE SEX  SOURCE  \n",
       "0     32.8  80.9   33   F       1  \n",
       "1     31.4  65.0   36   M       0  \n",
       "2     32.6  93.9   70   F       0  \n",
       "3     34.4  89.7   18   F       0  \n",
       "4     32.8  83.7   36   M       0  \n",
       "...    ...   ...  ...  ..     ...  \n",
       "3304  33.8  87.6   45   M       1  \n",
       "3305  32.3  77.7    1   F       1  \n",
       "3306  32.5  86.8   64   M       0  \n",
       "3307  35.0  82.0   33   M       0  \n",
       "3308  33.0  88.5   72   F       1  \n",
       "\n",
       "[3309 rows x 11 columns]"
      ]
     },
     "execution_count": 26,
     "metadata": {},
     "output_type": "execute_result"
    }
   ],
   "source": [
    "data = pd.read_csv('training_set.csv')\n",
    "data"
   ]
  },
  {
   "cell_type": "code",
   "execution_count": 27,
   "metadata": {},
   "outputs": [],
   "source": [
    "from sklearn import preprocessing\n",
    "import numpy as np"
   ]
  },
  {
   "attachments": {},
   "cell_type": "markdown",
   "metadata": {},
   "source": [
    "### rendo gli attributi categorici in numerici con l'ordinale encoder\n",
    "- mappa ogni valore categorico differente di una colonna in un numero intero"
   ]
  },
  {
   "cell_type": "code",
   "execution_count": 28,
   "metadata": {},
   "outputs": [
    {
     "data": {
      "text/html": [
       "<style>#sk-container-id-1 {color: black;background-color: white;}#sk-container-id-1 pre{padding: 0;}#sk-container-id-1 div.sk-toggleable {background-color: white;}#sk-container-id-1 label.sk-toggleable__label {cursor: pointer;display: block;width: 100%;margin-bottom: 0;padding: 0.3em;box-sizing: border-box;text-align: center;}#sk-container-id-1 label.sk-toggleable__label-arrow:before {content: \"▸\";float: left;margin-right: 0.25em;color: #696969;}#sk-container-id-1 label.sk-toggleable__label-arrow:hover:before {color: black;}#sk-container-id-1 div.sk-estimator:hover label.sk-toggleable__label-arrow:before {color: black;}#sk-container-id-1 div.sk-toggleable__content {max-height: 0;max-width: 0;overflow: hidden;text-align: left;background-color: #f0f8ff;}#sk-container-id-1 div.sk-toggleable__content pre {margin: 0.2em;color: black;border-radius: 0.25em;background-color: #f0f8ff;}#sk-container-id-1 input.sk-toggleable__control:checked~div.sk-toggleable__content {max-height: 200px;max-width: 100%;overflow: auto;}#sk-container-id-1 input.sk-toggleable__control:checked~label.sk-toggleable__label-arrow:before {content: \"▾\";}#sk-container-id-1 div.sk-estimator input.sk-toggleable__control:checked~label.sk-toggleable__label {background-color: #d4ebff;}#sk-container-id-1 div.sk-label input.sk-toggleable__control:checked~label.sk-toggleable__label {background-color: #d4ebff;}#sk-container-id-1 input.sk-hidden--visually {border: 0;clip: rect(1px 1px 1px 1px);clip: rect(1px, 1px, 1px, 1px);height: 1px;margin: -1px;overflow: hidden;padding: 0;position: absolute;width: 1px;}#sk-container-id-1 div.sk-estimator {font-family: monospace;background-color: #f0f8ff;border: 1px dotted black;border-radius: 0.25em;box-sizing: border-box;margin-bottom: 0.5em;}#sk-container-id-1 div.sk-estimator:hover {background-color: #d4ebff;}#sk-container-id-1 div.sk-parallel-item::after {content: \"\";width: 100%;border-bottom: 1px solid gray;flex-grow: 1;}#sk-container-id-1 div.sk-label:hover label.sk-toggleable__label {background-color: #d4ebff;}#sk-container-id-1 div.sk-serial::before {content: \"\";position: absolute;border-left: 1px solid gray;box-sizing: border-box;top: 0;bottom: 0;left: 50%;z-index: 0;}#sk-container-id-1 div.sk-serial {display: flex;flex-direction: column;align-items: center;background-color: white;padding-right: 0.2em;padding-left: 0.2em;position: relative;}#sk-container-id-1 div.sk-item {position: relative;z-index: 1;}#sk-container-id-1 div.sk-parallel {display: flex;align-items: stretch;justify-content: center;background-color: white;position: relative;}#sk-container-id-1 div.sk-item::before, #sk-container-id-1 div.sk-parallel-item::before {content: \"\";position: absolute;border-left: 1px solid gray;box-sizing: border-box;top: 0;bottom: 0;left: 50%;z-index: -1;}#sk-container-id-1 div.sk-parallel-item {display: flex;flex-direction: column;z-index: 1;position: relative;background-color: white;}#sk-container-id-1 div.sk-parallel-item:first-child::after {align-self: flex-end;width: 50%;}#sk-container-id-1 div.sk-parallel-item:last-child::after {align-self: flex-start;width: 50%;}#sk-container-id-1 div.sk-parallel-item:only-child::after {width: 0;}#sk-container-id-1 div.sk-dashed-wrapped {border: 1px dashed gray;margin: 0 0.4em 0.5em 0.4em;box-sizing: border-box;padding-bottom: 0.4em;background-color: white;}#sk-container-id-1 div.sk-label label {font-family: monospace;font-weight: bold;display: inline-block;line-height: 1.2em;}#sk-container-id-1 div.sk-label-container {text-align: center;}#sk-container-id-1 div.sk-container {/* jupyter's `normalize.less` sets `[hidden] { display: none; }` but bootstrap.min.css set `[hidden] { display: none !important; }` so we also need the `!important` here to be able to override the default hidden behavior on the sphinx rendered scikit-learn.org. See: https://github.com/scikit-learn/scikit-learn/issues/21755 */display: inline-block !important;position: relative;}#sk-container-id-1 div.sk-text-repr-fallback {display: none;}</style><div id=\"sk-container-id-1\" class=\"sk-top-container\"><div class=\"sk-text-repr-fallback\"><pre>OrdinalEncoder()</pre><b>In a Jupyter environment, please rerun this cell to show the HTML representation or trust the notebook. <br />On GitHub, the HTML representation is unable to render, please try loading this page with nbviewer.org.</b></div><div class=\"sk-container\" hidden><div class=\"sk-item\"><div class=\"sk-estimator sk-toggleable\"><input class=\"sk-toggleable__control sk-hidden--visually\" id=\"sk-estimator-id-1\" type=\"checkbox\" checked><label for=\"sk-estimator-id-1\" class=\"sk-toggleable__label sk-toggleable__label-arrow\">OrdinalEncoder</label><div class=\"sk-toggleable__content\"><pre>OrdinalEncoder()</pre></div></div></div></div></div>"
      ],
      "text/plain": [
       "OrdinalEncoder()"
      ]
     },
     "execution_count": 28,
     "metadata": {},
     "output_type": "execute_result"
    }
   ],
   "source": [
    "oe = preprocessing.OrdinalEncoder()\n",
    "oe.fit(data)"
   ]
  },
  {
   "cell_type": "code",
   "execution_count": 29,
   "metadata": {},
   "outputs": [
    {
     "data": {
      "text/html": [
       "<div>\n",
       "<style scoped>\n",
       "    .dataframe tbody tr th:only-of-type {\n",
       "        vertical-align: middle;\n",
       "    }\n",
       "\n",
       "    .dataframe tbody tr th {\n",
       "        vertical-align: top;\n",
       "    }\n",
       "\n",
       "    .dataframe thead th {\n",
       "        text-align: right;\n",
       "    }\n",
       "</style>\n",
       "<table border=\"1\" class=\"dataframe\">\n",
       "  <thead>\n",
       "    <tr style=\"text-align: right;\">\n",
       "      <th></th>\n",
       "      <th>HAEMATOCRIT</th>\n",
       "      <th>HAEMOGLOBINS</th>\n",
       "      <th>ERYTHROCYTE</th>\n",
       "      <th>LEUCOCYTE</th>\n",
       "      <th>THROMBOCYTE</th>\n",
       "      <th>MCH</th>\n",
       "      <th>MCHC</th>\n",
       "      <th>MCV</th>\n",
       "      <th>AGE</th>\n",
       "      <th>SEX</th>\n",
       "      <th>SOURCE</th>\n",
       "    </tr>\n",
       "  </thead>\n",
       "  <tbody>\n",
       "    <tr>\n",
       "      <th>0</th>\n",
       "      <td>123.0</td>\n",
       "      <td>54.0</td>\n",
       "      <td>166.0</td>\n",
       "      <td>35.0</td>\n",
       "      <td>130.0</td>\n",
       "      <td>94.0</td>\n",
       "      <td>50.0</td>\n",
       "      <td>185.0</td>\n",
       "      <td>32.0</td>\n",
       "      <td>0.0</td>\n",
       "      <td>1.0</td>\n",
       "    </tr>\n",
       "    <tr>\n",
       "      <th>1</th>\n",
       "      <td>231.0</td>\n",
       "      <td>83.0</td>\n",
       "      <td>390.0</td>\n",
       "      <td>52.0</td>\n",
       "      <td>212.0</td>\n",
       "      <td>35.0</td>\n",
       "      <td>36.0</td>\n",
       "      <td>42.0</td>\n",
       "      <td>35.0</td>\n",
       "      <td>1.0</td>\n",
       "      <td>0.0</td>\n",
       "    </tr>\n",
       "    <tr>\n",
       "      <th>2</th>\n",
       "      <td>214.0</td>\n",
       "      <td>83.0</td>\n",
       "      <td>205.0</td>\n",
       "      <td>51.0</td>\n",
       "      <td>316.0</td>\n",
       "      <td>134.0</td>\n",
       "      <td>48.0</td>\n",
       "      <td>315.0</td>\n",
       "      <td>69.0</td>\n",
       "      <td>0.0</td>\n",
       "      <td>0.0</td>\n",
       "    </tr>\n",
       "    <tr>\n",
       "      <th>3</th>\n",
       "      <td>204.0</td>\n",
       "      <td>87.0</td>\n",
       "      <td>215.0</td>\n",
       "      <td>24.0</td>\n",
       "      <td>256.0</td>\n",
       "      <td>136.0</td>\n",
       "      <td>66.0</td>\n",
       "      <td>273.0</td>\n",
       "      <td>17.0</td>\n",
       "      <td>0.0</td>\n",
       "      <td>0.0</td>\n",
       "    </tr>\n",
       "    <tr>\n",
       "      <th>4</th>\n",
       "      <td>191.0</td>\n",
       "      <td>76.0</td>\n",
       "      <td>233.0</td>\n",
       "      <td>138.0</td>\n",
       "      <td>509.0</td>\n",
       "      <td>102.0</td>\n",
       "      <td>50.0</td>\n",
       "      <td>213.0</td>\n",
       "      <td>35.0</td>\n",
       "      <td>1.0</td>\n",
       "      <td>0.0</td>\n",
       "    </tr>\n",
       "    <tr>\n",
       "      <th>...</th>\n",
       "      <td>...</td>\n",
       "      <td>...</td>\n",
       "      <td>...</td>\n",
       "      <td>...</td>\n",
       "      <td>...</td>\n",
       "      <td>...</td>\n",
       "      <td>...</td>\n",
       "      <td>...</td>\n",
       "      <td>...</td>\n",
       "      <td>...</td>\n",
       "      <td>...</td>\n",
       "    </tr>\n",
       "    <tr>\n",
       "      <th>3304</th>\n",
       "      <td>175.0</td>\n",
       "      <td>75.0</td>\n",
       "      <td>193.0</td>\n",
       "      <td>29.0</td>\n",
       "      <td>33.0</td>\n",
       "      <td>125.0</td>\n",
       "      <td>60.0</td>\n",
       "      <td>252.0</td>\n",
       "      <td>44.0</td>\n",
       "      <td>1.0</td>\n",
       "      <td>1.0</td>\n",
       "    </tr>\n",
       "    <tr>\n",
       "      <th>3305</th>\n",
       "      <td>40.0</td>\n",
       "      <td>25.0</td>\n",
       "      <td>75.0</td>\n",
       "      <td>43.0</td>\n",
       "      <td>70.0</td>\n",
       "      <td>79.0</td>\n",
       "      <td>45.0</td>\n",
       "      <td>153.0</td>\n",
       "      <td>0.0</td>\n",
       "      <td>0.0</td>\n",
       "      <td>1.0</td>\n",
       "    </tr>\n",
       "    <tr>\n",
       "      <th>3306</th>\n",
       "      <td>167.0</td>\n",
       "      <td>67.0</td>\n",
       "      <td>188.0</td>\n",
       "      <td>73.0</td>\n",
       "      <td>308.0</td>\n",
       "      <td>110.0</td>\n",
       "      <td>47.0</td>\n",
       "      <td>244.0</td>\n",
       "      <td>63.0</td>\n",
       "      <td>1.0</td>\n",
       "      <td>0.0</td>\n",
       "    </tr>\n",
       "    <tr>\n",
       "      <th>3307</th>\n",
       "      <td>219.0</td>\n",
       "      <td>95.0</td>\n",
       "      <td>277.0</td>\n",
       "      <td>90.0</td>\n",
       "      <td>306.0</td>\n",
       "      <td>115.0</td>\n",
       "      <td>72.0</td>\n",
       "      <td>196.0</td>\n",
       "      <td>32.0</td>\n",
       "      <td>1.0</td>\n",
       "      <td>0.0</td>\n",
       "    </tr>\n",
       "    <tr>\n",
       "      <th>3308</th>\n",
       "      <td>109.0</td>\n",
       "      <td>50.0</td>\n",
       "      <td>114.0</td>\n",
       "      <td>83.0</td>\n",
       "      <td>194.0</td>\n",
       "      <td>120.0</td>\n",
       "      <td>52.0</td>\n",
       "      <td>261.0</td>\n",
       "      <td>71.0</td>\n",
       "      <td>0.0</td>\n",
       "      <td>1.0</td>\n",
       "    </tr>\n",
       "  </tbody>\n",
       "</table>\n",
       "<p>3309 rows × 11 columns</p>\n",
       "</div>"
      ],
      "text/plain": [
       "      HAEMATOCRIT  HAEMOGLOBINS  ERYTHROCYTE  LEUCOCYTE  THROMBOCYTE    MCH  \\\n",
       "0           123.0          54.0        166.0       35.0        130.0   94.0   \n",
       "1           231.0          83.0        390.0       52.0        212.0   35.0   \n",
       "2           214.0          83.0        205.0       51.0        316.0  134.0   \n",
       "3           204.0          87.0        215.0       24.0        256.0  136.0   \n",
       "4           191.0          76.0        233.0      138.0        509.0  102.0   \n",
       "...           ...           ...          ...        ...          ...    ...   \n",
       "3304        175.0          75.0        193.0       29.0         33.0  125.0   \n",
       "3305         40.0          25.0         75.0       43.0         70.0   79.0   \n",
       "3306        167.0          67.0        188.0       73.0        308.0  110.0   \n",
       "3307        219.0          95.0        277.0       90.0        306.0  115.0   \n",
       "3308        109.0          50.0        114.0       83.0        194.0  120.0   \n",
       "\n",
       "      MCHC    MCV   AGE  SEX  SOURCE  \n",
       "0     50.0  185.0  32.0  0.0     1.0  \n",
       "1     36.0   42.0  35.0  1.0     0.0  \n",
       "2     48.0  315.0  69.0  0.0     0.0  \n",
       "3     66.0  273.0  17.0  0.0     0.0  \n",
       "4     50.0  213.0  35.0  1.0     0.0  \n",
       "...    ...    ...   ...  ...     ...  \n",
       "3304  60.0  252.0  44.0  1.0     1.0  \n",
       "3305  45.0  153.0   0.0  0.0     1.0  \n",
       "3306  47.0  244.0  63.0  1.0     0.0  \n",
       "3307  72.0  196.0  32.0  1.0     0.0  \n",
       "3308  52.0  261.0  71.0  0.0     1.0  \n",
       "\n",
       "[3309 rows x 11 columns]"
      ]
     },
     "execution_count": 29,
     "metadata": {},
     "output_type": "execute_result"
    }
   ],
   "source": [
    "dt = oe.transform(data)\n",
    "dt = pd.DataFrame(dt, columns=data.columns)\n",
    "dt"
   ]
  },
  {
   "cell_type": "code",
   "execution_count": 30,
   "metadata": {},
   "outputs": [
    {
     "data": {
      "text/html": [
       "<div>\n",
       "<style scoped>\n",
       "    .dataframe tbody tr th:only-of-type {\n",
       "        vertical-align: middle;\n",
       "    }\n",
       "\n",
       "    .dataframe tbody tr th {\n",
       "        vertical-align: top;\n",
       "    }\n",
       "\n",
       "    .dataframe thead th {\n",
       "        text-align: right;\n",
       "    }\n",
       "</style>\n",
       "<table border=\"1\" class=\"dataframe\">\n",
       "  <thead>\n",
       "    <tr style=\"text-align: right;\">\n",
       "      <th></th>\n",
       "      <th>HAEMATOCRIT</th>\n",
       "      <th>HAEMOGLOBINS</th>\n",
       "      <th>ERYTHROCYTE</th>\n",
       "      <th>LEUCOCYTE</th>\n",
       "      <th>THROMBOCYTE</th>\n",
       "      <th>MCH</th>\n",
       "      <th>MCHC</th>\n",
       "      <th>MCV</th>\n",
       "      <th>AGE</th>\n",
       "      <th>SEX</th>\n",
       "    </tr>\n",
       "  </thead>\n",
       "  <tbody>\n",
       "    <tr>\n",
       "      <th>0</th>\n",
       "      <td>123.0</td>\n",
       "      <td>54.0</td>\n",
       "      <td>166.0</td>\n",
       "      <td>35.0</td>\n",
       "      <td>130.0</td>\n",
       "      <td>94.0</td>\n",
       "      <td>50.0</td>\n",
       "      <td>185.0</td>\n",
       "      <td>32.0</td>\n",
       "      <td>0.0</td>\n",
       "    </tr>\n",
       "    <tr>\n",
       "      <th>1</th>\n",
       "      <td>231.0</td>\n",
       "      <td>83.0</td>\n",
       "      <td>390.0</td>\n",
       "      <td>52.0</td>\n",
       "      <td>212.0</td>\n",
       "      <td>35.0</td>\n",
       "      <td>36.0</td>\n",
       "      <td>42.0</td>\n",
       "      <td>35.0</td>\n",
       "      <td>1.0</td>\n",
       "    </tr>\n",
       "    <tr>\n",
       "      <th>2</th>\n",
       "      <td>214.0</td>\n",
       "      <td>83.0</td>\n",
       "      <td>205.0</td>\n",
       "      <td>51.0</td>\n",
       "      <td>316.0</td>\n",
       "      <td>134.0</td>\n",
       "      <td>48.0</td>\n",
       "      <td>315.0</td>\n",
       "      <td>69.0</td>\n",
       "      <td>0.0</td>\n",
       "    </tr>\n",
       "    <tr>\n",
       "      <th>3</th>\n",
       "      <td>204.0</td>\n",
       "      <td>87.0</td>\n",
       "      <td>215.0</td>\n",
       "      <td>24.0</td>\n",
       "      <td>256.0</td>\n",
       "      <td>136.0</td>\n",
       "      <td>66.0</td>\n",
       "      <td>273.0</td>\n",
       "      <td>17.0</td>\n",
       "      <td>0.0</td>\n",
       "    </tr>\n",
       "    <tr>\n",
       "      <th>4</th>\n",
       "      <td>191.0</td>\n",
       "      <td>76.0</td>\n",
       "      <td>233.0</td>\n",
       "      <td>138.0</td>\n",
       "      <td>509.0</td>\n",
       "      <td>102.0</td>\n",
       "      <td>50.0</td>\n",
       "      <td>213.0</td>\n",
       "      <td>35.0</td>\n",
       "      <td>1.0</td>\n",
       "    </tr>\n",
       "    <tr>\n",
       "      <th>...</th>\n",
       "      <td>...</td>\n",
       "      <td>...</td>\n",
       "      <td>...</td>\n",
       "      <td>...</td>\n",
       "      <td>...</td>\n",
       "      <td>...</td>\n",
       "      <td>...</td>\n",
       "      <td>...</td>\n",
       "      <td>...</td>\n",
       "      <td>...</td>\n",
       "    </tr>\n",
       "    <tr>\n",
       "      <th>3304</th>\n",
       "      <td>175.0</td>\n",
       "      <td>75.0</td>\n",
       "      <td>193.0</td>\n",
       "      <td>29.0</td>\n",
       "      <td>33.0</td>\n",
       "      <td>125.0</td>\n",
       "      <td>60.0</td>\n",
       "      <td>252.0</td>\n",
       "      <td>44.0</td>\n",
       "      <td>1.0</td>\n",
       "    </tr>\n",
       "    <tr>\n",
       "      <th>3305</th>\n",
       "      <td>40.0</td>\n",
       "      <td>25.0</td>\n",
       "      <td>75.0</td>\n",
       "      <td>43.0</td>\n",
       "      <td>70.0</td>\n",
       "      <td>79.0</td>\n",
       "      <td>45.0</td>\n",
       "      <td>153.0</td>\n",
       "      <td>0.0</td>\n",
       "      <td>0.0</td>\n",
       "    </tr>\n",
       "    <tr>\n",
       "      <th>3306</th>\n",
       "      <td>167.0</td>\n",
       "      <td>67.0</td>\n",
       "      <td>188.0</td>\n",
       "      <td>73.0</td>\n",
       "      <td>308.0</td>\n",
       "      <td>110.0</td>\n",
       "      <td>47.0</td>\n",
       "      <td>244.0</td>\n",
       "      <td>63.0</td>\n",
       "      <td>1.0</td>\n",
       "    </tr>\n",
       "    <tr>\n",
       "      <th>3307</th>\n",
       "      <td>219.0</td>\n",
       "      <td>95.0</td>\n",
       "      <td>277.0</td>\n",
       "      <td>90.0</td>\n",
       "      <td>306.0</td>\n",
       "      <td>115.0</td>\n",
       "      <td>72.0</td>\n",
       "      <td>196.0</td>\n",
       "      <td>32.0</td>\n",
       "      <td>1.0</td>\n",
       "    </tr>\n",
       "    <tr>\n",
       "      <th>3308</th>\n",
       "      <td>109.0</td>\n",
       "      <td>50.0</td>\n",
       "      <td>114.0</td>\n",
       "      <td>83.0</td>\n",
       "      <td>194.0</td>\n",
       "      <td>120.0</td>\n",
       "      <td>52.0</td>\n",
       "      <td>261.0</td>\n",
       "      <td>71.0</td>\n",
       "      <td>0.0</td>\n",
       "    </tr>\n",
       "  </tbody>\n",
       "</table>\n",
       "<p>3309 rows × 10 columns</p>\n",
       "</div>"
      ],
      "text/plain": [
       "      HAEMATOCRIT  HAEMOGLOBINS  ERYTHROCYTE  LEUCOCYTE  THROMBOCYTE    MCH  \\\n",
       "0           123.0          54.0        166.0       35.0        130.0   94.0   \n",
       "1           231.0          83.0        390.0       52.0        212.0   35.0   \n",
       "2           214.0          83.0        205.0       51.0        316.0  134.0   \n",
       "3           204.0          87.0        215.0       24.0        256.0  136.0   \n",
       "4           191.0          76.0        233.0      138.0        509.0  102.0   \n",
       "...           ...           ...          ...        ...          ...    ...   \n",
       "3304        175.0          75.0        193.0       29.0         33.0  125.0   \n",
       "3305         40.0          25.0         75.0       43.0         70.0   79.0   \n",
       "3306        167.0          67.0        188.0       73.0        308.0  110.0   \n",
       "3307        219.0          95.0        277.0       90.0        306.0  115.0   \n",
       "3308        109.0          50.0        114.0       83.0        194.0  120.0   \n",
       "\n",
       "      MCHC    MCV   AGE  SEX  \n",
       "0     50.0  185.0  32.0  0.0  \n",
       "1     36.0   42.0  35.0  1.0  \n",
       "2     48.0  315.0  69.0  0.0  \n",
       "3     66.0  273.0  17.0  0.0  \n",
       "4     50.0  213.0  35.0  1.0  \n",
       "...    ...    ...   ...  ...  \n",
       "3304  60.0  252.0  44.0  1.0  \n",
       "3305  45.0  153.0   0.0  0.0  \n",
       "3306  47.0  244.0  63.0  1.0  \n",
       "3307  72.0  196.0  32.0  1.0  \n",
       "3308  52.0  261.0  71.0  0.0  \n",
       "\n",
       "[3309 rows x 10 columns]"
      ]
     },
     "execution_count": 30,
     "metadata": {},
     "output_type": "execute_result"
    }
   ],
   "source": [
    "dataset = dt.drop('SOURCE', axis=1)\n",
    "dataset"
   ]
  },
  {
   "cell_type": "code",
   "execution_count": 31,
   "metadata": {},
   "outputs": [
    {
     "data": {
      "text/plain": [
       "0       1.0\n",
       "1       0.0\n",
       "2       0.0\n",
       "3       0.0\n",
       "4       0.0\n",
       "       ... \n",
       "3304    1.0\n",
       "3305    1.0\n",
       "3306    0.0\n",
       "3307    0.0\n",
       "3308    1.0\n",
       "Name: SOURCE, Length: 3309, dtype: float64"
      ]
     },
     "execution_count": 31,
     "metadata": {},
     "output_type": "execute_result"
    }
   ],
   "source": [
    "y = dt['SOURCE']\n",
    "y"
   ]
  },
  {
   "cell_type": "code",
   "execution_count": 32,
   "metadata": {},
   "outputs": [],
   "source": [
    "    \n",
    "from sklearn.model_selection import train_test_split\n",
    "\n",
    "from sklearn.tree import DecisionTreeClassifier\n",
    "from sklearn.linear_model import LogisticRegression\n",
    "\n",
    "from sklearn.metrics import accuracy_score\n",
    "from sklearn.metrics import confusion_matrix\n",
    "from sklearn.metrics import classification_report\n",
    "\n",
    "import seaborn as sns"
   ]
  },
  {
   "attachments": {},
   "cell_type": "markdown",
   "metadata": {},
   "source": [
    "splitto il dataset in train e test con la funzione train_test_split() di sklearn scegliendo la proporzione 2/3 e 1/3 per train e test"
   ]
  },
  {
   "cell_type": "code",
   "execution_count": 33,
   "metadata": {},
   "outputs": [
    {
     "name": "stdout",
     "output_type": "stream",
     "text": [
      "esempi dataset (3309, 10)\n",
      "esempi di train (2217, 10)\n",
      "esempi di test (1092, 10)\n"
     ]
    }
   ],
   "source": [
    "X_train, X_test, y_train, y_test = train_test_split(dataset, y, test_size=0.33, random_state=False)\n",
    "print('esempi dataset', dataset.shape)\n",
    "print('esempi di train', X_train.shape)\n",
    "print('esempi di test', X_test.shape)\n"
   ]
  },
  {
   "attachments": {},
   "cell_type": "markdown",
   "metadata": {},
   "source": [
    "### Allenare il train con il modello Decision Tree  e valutare l’accuracy ottenuta calcolata sia sul dataset train sia sul dataset test. "
   ]
  },
  {
   "cell_type": "code",
   "execution_count": 34,
   "metadata": {},
   "outputs": [
    {
     "name": "stdout",
     "output_type": "stream",
     "text": [
      "acc train 1.0\n",
      "acc test 0.6373626373626373\n"
     ]
    }
   ],
   "source": [
    "dtc = DecisionTreeClassifier()\n",
    "dtc.fit(X_train, y_train)\n",
    "y_pred = dtc.predict(X_train)\n",
    "acc_train = accuracy_score(y_train, y_pred)\n",
    "y_pred = dtc.predict(X_test)\n",
    "acc_test = accuracy_score(y_test, y_pred)\n",
    "print('acc train', acc_train)\n",
    "print('acc test', acc_test)"
   ]
  },
  {
   "attachments": {},
   "cell_type": "markdown",
   "metadata": {},
   "source": [
    "# Funzione per stampare la matrice di confusione e il report per il classificatore"
   ]
  },
  {
   "attachments": {},
   "cell_type": "markdown",
   "metadata": {},
   "source": [
    "Funzione pe fare plot della matrice di confusione e stampare il report di classificazione:\n",
    "\n",
    "- Prende in input la confusion matrix di sklearn di un classificatore \n",
    "\n",
    "    - y_pred = classificatore.predict(X_test)\n",
    "    - cm = confusion_matrix(y_true, y_pred, normalize='false')\n",
    "    - plot_confusion_matrix(cm)\n",
    "    \n",
    "    \n",
    "- la funzione stampa la confusion matrix in modo più leggibile\n",
    "- dato che stampa sia i valori normalizzati che non normalizzati\n",
    "- non usare il parametro normalize='true' nella funzione confusion_matrix\n",
    "\n",
    "- la funzione restiruisce anche un report con precision, recall e f1-score\n",
    "\n",
    "- assicurarsi sia importata la libreria seaborn\n",
    "- import seaborn as sns"
   ]
  },
  {
   "cell_type": "code",
   "execution_count": 35,
   "metadata": {},
   "outputs": [],
   "source": [
    "def plot_confusion_matrix(confusion_matrix):\n",
    "    cm = confusion_matrix\n",
    "    # Calcolo dei conteggi non normalizzati\n",
    "    group_counts = [\"{0:0.0f}\\n({1:0.2%})\".format(value, value/np.sum(cm)) for value in cm.flatten()]\n",
    "\n",
    "    # Calcolo dei conteggi normalizzati\n",
    "    group_percentages = [\"{0:.2%}\\n({1:0.0f})\".format(value, value*np.sum(cm)) for value in cm.flatten()/np.sum(cm)]\n",
    "\n",
    "    # Trasformazione dei conteggi in una matrice 2x2\n",
    "    labels = np.asarray(group_counts).reshape(2, 2)\n",
    "\n",
    "    plot = sns.heatmap(cm, annot = labels, fmt='', cmap='Blues')\n",
    "    plot.set_title('Confusion Matrix')\n",
    "    plot.set_ylabel('True class')\n",
    "    plot.set_xlabel('Predicted class')\n",
    "    print(classification_report(y_test, y_pred))"
   ]
  },
  {
   "cell_type": "code",
   "execution_count": 36,
   "metadata": {},
   "outputs": [
    {
     "name": "stdout",
     "output_type": "stream",
     "text": [
      "<class 'numpy.ndarray'>\n",
      "              precision    recall  f1-score   support\n",
      "\n",
      "         0.0       0.71      0.69      0.70       663\n",
      "         1.0       0.54      0.56      0.55       429\n",
      "\n",
      "    accuracy                           0.64      1092\n",
      "   macro avg       0.62      0.62      0.62      1092\n",
      "weighted avg       0.64      0.64      0.64      1092\n",
      "\n"
     ]
    },
    {
     "data": {
      "image/png": "[encoded data removed]",
      "text/plain": [
       "<Figure size 640x480 with 2 Axes>"
      ]
     },
     "metadata": {},
     "output_type": "display_data"
    }
   ],
   "source": [
    "# normalize='true' per avere la matrice normalizzata \n",
    "cm_dtc = confusion_matrix(y_test, y_pred) \n",
    "print(type(cm_dtc))\n",
    "plot_confusion_matrix(cm_dtc)\n",
    "\n"
   ]
  },
  {
   "attachments": {},
   "cell_type": "markdown",
   "metadata": {},
   "source": [
    "### Confrontare i risultati ottenuti con quelli ottenuti con una predizione basata sul modello Logistic Regression (ignorare eventuali warning). Effettuare alcune considerazioni sui risultati ottenuti, tenendo in considerazione anche l’analisi della confusion matrix e la predizione effettuata da un dummy classifier. (punti 4)"
   ]
  },
  {
   "cell_type": "code",
   "execution_count": 37,
   "metadata": {},
   "outputs": [
    {
     "name": "stdout",
     "output_type": "stream",
     "text": [
      "acc train 0.7198917456021651\n",
      "acc test 0.7307692307692307\n",
      "              precision    recall  f1-score   support\n",
      "\n",
      "         0.0       0.74      0.87      0.80       663\n",
      "         1.0       0.72      0.52      0.60       429\n",
      "\n",
      "    accuracy                           0.73      1092\n",
      "   macro avg       0.73      0.69      0.70      1092\n",
      "weighted avg       0.73      0.73      0.72      1092\n",
      "\n"
     ]
    },
    {
     "data": {
      "image/png": "[encoded data removed]",
      "text/plain": [
       "<Figure size 640x480 with 2 Axes>"
      ]
     },
     "metadata": {},
     "output_type": "display_data"
    }
   ],
   "source": [
    "lr = LogisticRegression(solver='liblinear')\n",
    "lr.fit(X_train, y_train)\n",
    "y_pred = lr.predict(X_train)\n",
    "acc_train = accuracy_score(y_train, y_pred)\n",
    "y_pred = lr.predict(X_test)\n",
    "acc_test = accuracy_score(y_test, y_pred)\n",
    "print('acc train', acc_train)\n",
    "print('acc test', acc_test)\n",
    "\n",
    "#create confusion matrix\n",
    "cm_lr = confusion_matrix(y_test, y_pred)\n",
    "plot_confusion_matrix(cm_lr)"
   ]
  },
  {
   "attachments": {},
   "cell_type": "markdown",
   "metadata": {},
   "source": [
    "### DUMMY CLASSIFIER"
   ]
  },
  {
   "cell_type": "code",
   "execution_count": 38,
   "metadata": {},
   "outputs": [
    {
     "name": "stdout",
     "output_type": "stream",
     "text": [
      "acc train 0.5994587280108254\n",
      "acc test 0.6071428571428571\n",
      "              precision    recall  f1-score   support\n",
      "\n",
      "         0.0       0.61      1.00      0.76       663\n",
      "         1.0       0.00      0.00      0.00       429\n",
      "\n",
      "    accuracy                           0.61      1092\n",
      "   macro avg       0.30      0.50      0.38      1092\n",
      "weighted avg       0.37      0.61      0.46      1092\n",
      "\n"
     ]
    },
    {
     "name": "stderr",
     "output_type": "stream",
     "text": [
      "c:\\Users\\39379\\anaconda3\\lib\\site-packages\\sklearn\\metrics\\_classification.py:1344: UndefinedMetricWarning: Precision and F-score are ill-defined and being set to 0.0 in labels with no predicted samples. Use `zero_division` parameter to control this behavior.\n",
      "  _warn_prf(average, modifier, msg_start, len(result))\n",
      "c:\\Users\\39379\\anaconda3\\lib\\site-packages\\sklearn\\metrics\\_classification.py:1344: UndefinedMetricWarning: Precision and F-score are ill-defined and being set to 0.0 in labels with no predicted samples. Use `zero_division` parameter to control this behavior.\n",
      "  _warn_prf(average, modifier, msg_start, len(result))\n",
      "c:\\Users\\39379\\anaconda3\\lib\\site-packages\\sklearn\\metrics\\_classification.py:1344: UndefinedMetricWarning: Precision and F-score are ill-defined and being set to 0.0 in labels with no predicted samples. Use `zero_division` parameter to control this behavior.\n",
      "  _warn_prf(average, modifier, msg_start, len(result))\n"
     ]
    },
    {
     "data": {
      "image/png": "[encoded data removed]",
      "text/plain": [
       "<Figure size 640x480 with 2 Axes>"
      ]
     },
     "metadata": {},
     "output_type": "display_data"
    }
   ],
   "source": [
    "from sklearn.dummy import DummyClassifier\n",
    "\n",
    "dummy = DummyClassifier(strategy='most_frequent', random_state=0)\n",
    "dummy.fit(X_train, y_train)\n",
    "y_pred = dummy.predict(X_train)\n",
    "acc_train = accuracy_score(y_train, y_pred)\n",
    "y_pred = dummy.predict(X_test)\n",
    "acc_test = accuracy_score(y_test, y_pred)\n",
    "print('acc train', acc_train)\n",
    "print('acc test', acc_test)\n",
    "\n",
    "cm_dummy = confusion_matrix(y_test, y_pred)\n",
    "plot_confusion_matrix(cm_dummy)"
   ]
  },
  {
   "attachments": {},
   "cell_type": "markdown",
   "metadata": {},
   "source": [
    "si puo notare che ogni classificatore predice meglio la classe 0 che la classe 1.\n",
    "\n",
    "Questo è dovuto al fatto che la classe 0 è piu numerosa della classe 1 nel dataset.\n",
    "\n",
    "Infatti sia la logistic regression che il decision tree forniscono un rate maggiore di true negative che di true positive.\n",
    "\n",
    "I true positive sono quanti i false positive .\n",
    "\n",
    "Il dummy classifier conferma questa tendenza mostrando che facendo una predizione basata sulla classe piu numerosa tutti gli elementi sono classificati come appartenti alla classe 0.\n"
   ]
  },
  {
   "attachments": {},
   "cell_type": "markdown",
   "metadata": {},
   "source": [
    "### 2. Confrontare l’accuratezza ottenuta nel punto precedente con l’accuratezza si ottiene con un una 10 Fold cross validation. (punti 1)"
   ]
  },
  {
   "cell_type": "code",
   "execution_count": 39,
   "metadata": {},
   "outputs": [
    {
     "name": "stdout",
     "output_type": "stream",
     "text": [
      "accuracy per ogni fold [0.64652568 0.63141994 0.6858006  0.67673716 0.67673716 0.65558912\n",
      " 0.67673716 0.66767372 0.6978852  0.66363636]\n",
      "accuracy media 0.6678742103817633\n",
      "Accuracy con incertezza: 0.67 (+/- 0.04)\n"
     ]
    }
   ],
   "source": [
    "from sklearn.model_selection import cross_val_score\n",
    "\n",
    "# faccio il cross validation sul decision tree dtc con 10 fold \n",
    "cross_val = cross_val_score(dtc, dataset, y, cv=10)\n",
    "print('accuracy per ogni fold', cross_val)\n",
    "print('accuracy media', cross_val.mean())\n",
    "print(\"Accuracy con incertezza: %0.2f (+/- %0.2f)\" % (cross_val.mean(), cross_val.std() * 2))"
   ]
  },
  {
   "cell_type": "code",
   "execution_count": 40,
   "metadata": {},
   "outputs": [
    {
     "name": "stdout",
     "output_type": "stream",
     "text": [
      "[0.71299094 0.71601208 0.74320242 0.72205438 0.73413897 0.67975831\n",
      " 0.70694864 0.75528701 0.73413897 0.70606061]\n",
      "Accuracy media 0.7210592328114986\n",
      "Accuracy con incertezza: 0.72 (+/- 0.04)\n"
     ]
    }
   ],
   "source": [
    "# faccio il cross validation sul logistic regression lr con 10 fold\n",
    "cross_val = cross_val_score(lr, dataset, y, cv=10)\n",
    "print(cross_val)\n",
    "print('Accuracy media', cross_val.mean())\n",
    "print(\"Accuracy con incertezza: %0.2f (+/- %0.2f)\" % (cross_val.mean(), cross_val.std() * 2))"
   ]
  },
  {
   "attachments": {},
   "cell_type": "markdown",
   "metadata": {},
   "source": [
    "### 3. Trovare i parametri migliori del classificatore decision tree.\n",
    "- parametri:\n",
    "    -  criterion, max_features e min_samples_split. \n",
    "    \n",
    "### Verificare se l’accuratezza che si ottiene con la nuova configurazione supera quella standard ottenuta al punto 1 (punti 4)"
   ]
  },
  {
   "attachments": {},
   "cell_type": "markdown",
   "metadata": {},
   "source": [
    "### GreedSearch su un DecisionTreeClassifier"
   ]
  },
  {
   "cell_type": "code",
   "execution_count": 41,
   "metadata": {},
   "outputs": [
    {
     "name": "stdout",
     "output_type": "stream",
     "text": [
      "Grid scores on development set:\n",
      "\n",
      "0.641 (+/-0.066) for {'criterion': 'gini', 'max_features': 'sqrt', 'min_samples_split': 2}\n",
      "0.668 (+/-0.073) for {'criterion': 'gini', 'max_features': 'sqrt', 'min_samples_split': 4}\n",
      "0.664 (+/-0.085) for {'criterion': 'gini', 'max_features': 'sqrt', 'min_samples_split': 6}\n",
      "0.647 (+/-0.063) for {'criterion': 'gini', 'max_features': 'log2', 'min_samples_split': 2}\n",
      "0.656 (+/-0.065) for {'criterion': 'gini', 'max_features': 'log2', 'min_samples_split': 4}\n",
      "0.638 (+/-0.063) for {'criterion': 'gini', 'max_features': 'log2', 'min_samples_split': 6}\n",
      "0.676 (+/-0.065) for {'criterion': 'entropy', 'max_features': 'sqrt', 'min_samples_split': 2}\n",
      "0.673 (+/-0.051) for {'criterion': 'entropy', 'max_features': 'sqrt', 'min_samples_split': 4}\n",
      "0.658 (+/-0.077) for {'criterion': 'entropy', 'max_features': 'sqrt', 'min_samples_split': 6}\n",
      "0.644 (+/-0.041) for {'criterion': 'entropy', 'max_features': 'log2', 'min_samples_split': 2}\n",
      "0.637 (+/-0.049) for {'criterion': 'entropy', 'max_features': 'log2', 'min_samples_split': 4}\n",
      "0.653 (+/-0.078) for {'criterion': 'entropy', 'max_features': 'log2', 'min_samples_split': 6}\n",
      "\n",
      "best parameters:  {'criterion': 'entropy', 'max_features': 'sqrt', 'min_samples_split': 2}\n",
      "with accuracy:  0.6758634538152611\n",
      "\n",
      "Detailed classification report:\n",
      "\n",
      "The model is trained on the full development set.\n",
      "The scores are computed on the full evaluation set.\n",
      "\n",
      "              precision    recall  f1-score   support\n",
      "\n",
      "         0.0       0.71      0.66      0.68      1009\n",
      "         1.0       0.52      0.57      0.54       646\n",
      "\n",
      "    accuracy                           0.63      1655\n",
      "   macro avg       0.61      0.62      0.61      1655\n",
      "weighted avg       0.63      0.63      0.63      1655\n",
      "\n",
      "\n"
     ]
    }
   ],
   "source": [
    "from sklearn.model_selection import GridSearchCV\n",
    "\n",
    "X = dataset\n",
    "y = y\n",
    "# Split the dataset in two equal parts\n",
    "X_train, X_test, y_train, y_test = train_test_split( X, y, test_size=0.5, random_state=0)\n",
    "\n",
    "# grid search per decision tree\n",
    "parameters = {'criterion':( 'gini', 'entropy'),\n",
    "            'max_features':('sqrt', 'log2'), \n",
    "            'min_samples_split':[2, 4, 6]\n",
    "            }\n",
    "\n",
    "# iatanzia il modello\n",
    "dtc_grid = DecisionTreeClassifier()\n",
    "\n",
    "# istanzia il modello grid search e gli passo il modell\n",
    "clf = GridSearchCV(dtc_grid, parameters, cv=10)\n",
    "\n",
    "\n",
    "clf.fit(X_train, y_train)\n",
    "\n",
    "# stampo tutti gli score per ogni combinazione di parametri\n",
    "print(\"Grid scores on development set:\")\n",
    "print()\n",
    "means = clf.cv_results_['mean_test_score']\n",
    "stds = clf.cv_results_['std_test_score']\n",
    "for mean, std, params in zip(means, stds, clf.cv_results_['params']):\n",
    "    print(\"%0.3f (+/-%0.03f) for %r\"\n",
    "            % (mean, std * 2, params))\n",
    "print()\n",
    "\n",
    "# stampo i parametri migliori\n",
    "print('best parameters: ', clf.best_params_)\n",
    "print('with accuracy: ', clf.best_score_)\n",
    "print()\n",
    "\n",
    "# To apply an classifier on this data, we need to flatten the image, to\n",
    "# turn the data in a (samples, feature) matrix:\n",
    "print(\"Detailed classification report:\")\n",
    "print()\n",
    "print(\"The model is trained on the full development set.\")\n",
    "print(\"The scores are computed on the full evaluation set.\")\n",
    "print()\n",
    "y_true, y_pred = y_test, clf.predict(X_test)\n",
    "print(classification_report(y_true, y_pred))\n",
    "print()\n",
    "\n",
    "\n",
    "\n"
   ]
  },
  {
   "attachments": {},
   "cell_type": "markdown",
   "metadata": {},
   "source": [
    "### 4. Introdurre una discretizzazione degli attributi AGE e THROMBOCYTE, e utilizzare la funzione MaxAbsScaler  per scalare i valori del dataset tra 0 e 1 e confrontare se l’accuratezza ottenuta con il Decision Tree Classifier e con la Logistic Regression migliora (punti 3)."
   ]
  },
  {
   "cell_type": "code",
   "execution_count": 42,
   "metadata": {},
   "outputs": [
    {
     "data": {
      "text/html": [
       "<div>\n",
       "<style scoped>\n",
       "    .dataframe tbody tr th:only-of-type {\n",
       "        vertical-align: middle;\n",
       "    }\n",
       "\n",
       "    .dataframe tbody tr th {\n",
       "        vertical-align: top;\n",
       "    }\n",
       "\n",
       "    .dataframe thead th {\n",
       "        text-align: right;\n",
       "    }\n",
       "</style>\n",
       "<table border=\"1\" class=\"dataframe\">\n",
       "  <thead>\n",
       "    <tr style=\"text-align: right;\">\n",
       "      <th></th>\n",
       "      <th>HAEMATOCRIT</th>\n",
       "      <th>HAEMOGLOBINS</th>\n",
       "      <th>ERYTHROCYTE</th>\n",
       "      <th>LEUCOCYTE</th>\n",
       "      <th>THROMBOCYTE</th>\n",
       "      <th>MCH</th>\n",
       "      <th>MCHC</th>\n",
       "      <th>MCV</th>\n",
       "      <th>AGE</th>\n",
       "      <th>SEX</th>\n",
       "    </tr>\n",
       "  </thead>\n",
       "  <tbody>\n",
       "    <tr>\n",
       "      <th>0</th>\n",
       "      <td>123.0</td>\n",
       "      <td>54.0</td>\n",
       "      <td>166.0</td>\n",
       "      <td>35.0</td>\n",
       "      <td>130.0</td>\n",
       "      <td>94.0</td>\n",
       "      <td>50.0</td>\n",
       "      <td>185.0</td>\n",
       "      <td>32.0</td>\n",
       "      <td>0.0</td>\n",
       "    </tr>\n",
       "    <tr>\n",
       "      <th>1</th>\n",
       "      <td>231.0</td>\n",
       "      <td>83.0</td>\n",
       "      <td>390.0</td>\n",
       "      <td>52.0</td>\n",
       "      <td>212.0</td>\n",
       "      <td>35.0</td>\n",
       "      <td>36.0</td>\n",
       "      <td>42.0</td>\n",
       "      <td>35.0</td>\n",
       "      <td>1.0</td>\n",
       "    </tr>\n",
       "    <tr>\n",
       "      <th>2</th>\n",
       "      <td>214.0</td>\n",
       "      <td>83.0</td>\n",
       "      <td>205.0</td>\n",
       "      <td>51.0</td>\n",
       "      <td>316.0</td>\n",
       "      <td>134.0</td>\n",
       "      <td>48.0</td>\n",
       "      <td>315.0</td>\n",
       "      <td>69.0</td>\n",
       "      <td>0.0</td>\n",
       "    </tr>\n",
       "    <tr>\n",
       "      <th>3</th>\n",
       "      <td>204.0</td>\n",
       "      <td>87.0</td>\n",
       "      <td>215.0</td>\n",
       "      <td>24.0</td>\n",
       "      <td>256.0</td>\n",
       "      <td>136.0</td>\n",
       "      <td>66.0</td>\n",
       "      <td>273.0</td>\n",
       "      <td>17.0</td>\n",
       "      <td>0.0</td>\n",
       "    </tr>\n",
       "    <tr>\n",
       "      <th>4</th>\n",
       "      <td>191.0</td>\n",
       "      <td>76.0</td>\n",
       "      <td>233.0</td>\n",
       "      <td>138.0</td>\n",
       "      <td>509.0</td>\n",
       "      <td>102.0</td>\n",
       "      <td>50.0</td>\n",
       "      <td>213.0</td>\n",
       "      <td>35.0</td>\n",
       "      <td>1.0</td>\n",
       "    </tr>\n",
       "    <tr>\n",
       "      <th>...</th>\n",
       "      <td>...</td>\n",
       "      <td>...</td>\n",
       "      <td>...</td>\n",
       "      <td>...</td>\n",
       "      <td>...</td>\n",
       "      <td>...</td>\n",
       "      <td>...</td>\n",
       "      <td>...</td>\n",
       "      <td>...</td>\n",
       "      <td>...</td>\n",
       "    </tr>\n",
       "    <tr>\n",
       "      <th>3304</th>\n",
       "      <td>175.0</td>\n",
       "      <td>75.0</td>\n",
       "      <td>193.0</td>\n",
       "      <td>29.0</td>\n",
       "      <td>33.0</td>\n",
       "      <td>125.0</td>\n",
       "      <td>60.0</td>\n",
       "      <td>252.0</td>\n",
       "      <td>44.0</td>\n",
       "      <td>1.0</td>\n",
       "    </tr>\n",
       "    <tr>\n",
       "      <th>3305</th>\n",
       "      <td>40.0</td>\n",
       "      <td>25.0</td>\n",
       "      <td>75.0</td>\n",
       "      <td>43.0</td>\n",
       "      <td>70.0</td>\n",
       "      <td>79.0</td>\n",
       "      <td>45.0</td>\n",
       "      <td>153.0</td>\n",
       "      <td>0.0</td>\n",
       "      <td>0.0</td>\n",
       "    </tr>\n",
       "    <tr>\n",
       "      <th>3306</th>\n",
       "      <td>167.0</td>\n",
       "      <td>67.0</td>\n",
       "      <td>188.0</td>\n",
       "      <td>73.0</td>\n",
       "      <td>308.0</td>\n",
       "      <td>110.0</td>\n",
       "      <td>47.0</td>\n",
       "      <td>244.0</td>\n",
       "      <td>63.0</td>\n",
       "      <td>1.0</td>\n",
       "    </tr>\n",
       "    <tr>\n",
       "      <th>3307</th>\n",
       "      <td>219.0</td>\n",
       "      <td>95.0</td>\n",
       "      <td>277.0</td>\n",
       "      <td>90.0</td>\n",
       "      <td>306.0</td>\n",
       "      <td>115.0</td>\n",
       "      <td>72.0</td>\n",
       "      <td>196.0</td>\n",
       "      <td>32.0</td>\n",
       "      <td>1.0</td>\n",
       "    </tr>\n",
       "    <tr>\n",
       "      <th>3308</th>\n",
       "      <td>109.0</td>\n",
       "      <td>50.0</td>\n",
       "      <td>114.0</td>\n",
       "      <td>83.0</td>\n",
       "      <td>194.0</td>\n",
       "      <td>120.0</td>\n",
       "      <td>52.0</td>\n",
       "      <td>261.0</td>\n",
       "      <td>71.0</td>\n",
       "      <td>0.0</td>\n",
       "    </tr>\n",
       "  </tbody>\n",
       "</table>\n",
       "<p>3309 rows × 10 columns</p>\n",
       "</div>"
      ],
      "text/plain": [
       "      HAEMATOCRIT  HAEMOGLOBINS  ERYTHROCYTE  LEUCOCYTE  THROMBOCYTE    MCH  \\\n",
       "0           123.0          54.0        166.0       35.0        130.0   94.0   \n",
       "1           231.0          83.0        390.0       52.0        212.0   35.0   \n",
       "2           214.0          83.0        205.0       51.0        316.0  134.0   \n",
       "3           204.0          87.0        215.0       24.0        256.0  136.0   \n",
       "4           191.0          76.0        233.0      138.0        509.0  102.0   \n",
       "...           ...           ...          ...        ...          ...    ...   \n",
       "3304        175.0          75.0        193.0       29.0         33.0  125.0   \n",
       "3305         40.0          25.0         75.0       43.0         70.0   79.0   \n",
       "3306        167.0          67.0        188.0       73.0        308.0  110.0   \n",
       "3307        219.0          95.0        277.0       90.0        306.0  115.0   \n",
       "3308        109.0          50.0        114.0       83.0        194.0  120.0   \n",
       "\n",
       "      MCHC    MCV   AGE  SEX  \n",
       "0     50.0  185.0  32.0  0.0  \n",
       "1     36.0   42.0  35.0  1.0  \n",
       "2     48.0  315.0  69.0  0.0  \n",
       "3     66.0  273.0  17.0  0.0  \n",
       "4     50.0  213.0  35.0  1.0  \n",
       "...    ...    ...   ...  ...  \n",
       "3304  60.0  252.0  44.0  1.0  \n",
       "3305  45.0  153.0   0.0  0.0  \n",
       "3306  47.0  244.0  63.0  1.0  \n",
       "3307  72.0  196.0  32.0  1.0  \n",
       "3308  52.0  261.0  71.0  0.0  \n",
       "\n",
       "[3309 rows x 10 columns]"
      ]
     },
     "execution_count": 42,
     "metadata": {},
     "output_type": "execute_result"
    }
   ],
   "source": [
    "dataset \n"
   ]
  },
  {
   "cell_type": "code",
   "execution_count": 43,
   "metadata": {},
   "outputs": [
    {
     "data": {
      "text/plain": [
       "0       1.0\n",
       "1       0.0\n",
       "2       0.0\n",
       "3       0.0\n",
       "4       0.0\n",
       "       ... \n",
       "3304    1.0\n",
       "3305    1.0\n",
       "3306    0.0\n",
       "3307    0.0\n",
       "3308    1.0\n",
       "Name: SOURCE, Length: 3309, dtype: float64"
      ]
     },
     "execution_count": 43,
     "metadata": {},
     "output_type": "execute_result"
    }
   ],
   "source": [
    "y"
   ]
  },
  {
   "cell_type": "code",
   "execution_count": 44,
   "metadata": {},
   "outputs": [
    {
     "name": "stdout",
     "output_type": "stream",
     "text": [
      "       AGE  THROMBOCYTE\n",
      "0     32.0        130.0\n",
      "1     35.0        212.0\n",
      "2     69.0        316.0\n",
      "3     17.0        256.0\n",
      "4     35.0        509.0\n",
      "...    ...          ...\n",
      "3304  44.0         33.0\n",
      "3305   0.0         70.0\n",
      "3306  63.0        308.0\n",
      "3307  32.0        306.0\n",
      "3308  71.0        194.0\n",
      "\n",
      "[3309 rows x 2 columns]\n",
      "      AGE_discretized  THROMBOCYTE_discretized\n",
      "0                 0.0                      0.0\n",
      "1                 1.0                      1.0\n",
      "2                 2.0                      2.0\n",
      "3                 0.0                      1.0\n",
      "4                 1.0                      2.0\n",
      "...               ...                      ...\n",
      "3304              1.0                      0.0\n",
      "3305              0.0                      0.0\n",
      "3306              2.0                      2.0\n",
      "3307              0.0                      2.0\n",
      "3308              2.0                      0.0\n",
      "\n",
      "[3309 rows x 2 columns]\n"
     ]
    },
    {
     "data": {
      "text/html": [
       "<div>\n",
       "<style scoped>\n",
       "    .dataframe tbody tr th:only-of-type {\n",
       "        vertical-align: middle;\n",
       "    }\n",
       "\n",
       "    .dataframe tbody tr th {\n",
       "        vertical-align: top;\n",
       "    }\n",
       "\n",
       "    .dataframe thead th {\n",
       "        text-align: right;\n",
       "    }\n",
       "</style>\n",
       "<table border=\"1\" class=\"dataframe\">\n",
       "  <thead>\n",
       "    <tr style=\"text-align: right;\">\n",
       "      <th></th>\n",
       "      <th>HAEMATOCRIT</th>\n",
       "      <th>HAEMOGLOBINS</th>\n",
       "      <th>ERYTHROCYTE</th>\n",
       "      <th>LEUCOCYTE</th>\n",
       "      <th>THROMBOCYTE</th>\n",
       "      <th>MCH</th>\n",
       "      <th>MCHC</th>\n",
       "      <th>MCV</th>\n",
       "      <th>AGE</th>\n",
       "      <th>SEX</th>\n",
       "      <th>AGE_discretized</th>\n",
       "      <th>THROMBOCYTE_discretized</th>\n",
       "    </tr>\n",
       "  </thead>\n",
       "  <tbody>\n",
       "    <tr>\n",
       "      <th>0</th>\n",
       "      <td>0.392971</td>\n",
       "      <td>0.425197</td>\n",
       "      <td>0.409877</td>\n",
       "      <td>0.137795</td>\n",
       "      <td>0.248092</td>\n",
       "      <td>0.534091</td>\n",
       "      <td>0.50</td>\n",
       "      <td>0.475578</td>\n",
       "      <td>0.340426</td>\n",
       "      <td>0.0</td>\n",
       "      <td>0.0</td>\n",
       "      <td>0.0</td>\n",
       "    </tr>\n",
       "    <tr>\n",
       "      <th>1</th>\n",
       "      <td>0.738019</td>\n",
       "      <td>0.653543</td>\n",
       "      <td>0.962963</td>\n",
       "      <td>0.204724</td>\n",
       "      <td>0.404580</td>\n",
       "      <td>0.198864</td>\n",
       "      <td>0.36</td>\n",
       "      <td>0.107969</td>\n",
       "      <td>0.372340</td>\n",
       "      <td>1.0</td>\n",
       "      <td>0.5</td>\n",
       "      <td>0.5</td>\n",
       "    </tr>\n",
       "    <tr>\n",
       "      <th>2</th>\n",
       "      <td>0.683706</td>\n",
       "      <td>0.653543</td>\n",
       "      <td>0.506173</td>\n",
       "      <td>0.200787</td>\n",
       "      <td>0.603053</td>\n",
       "      <td>0.761364</td>\n",
       "      <td>0.48</td>\n",
       "      <td>0.809769</td>\n",
       "      <td>0.734043</td>\n",
       "      <td>0.0</td>\n",
       "      <td>1.0</td>\n",
       "      <td>1.0</td>\n",
       "    </tr>\n",
       "    <tr>\n",
       "      <th>3</th>\n",
       "      <td>0.651757</td>\n",
       "      <td>0.685039</td>\n",
       "      <td>0.530864</td>\n",
       "      <td>0.094488</td>\n",
       "      <td>0.488550</td>\n",
       "      <td>0.772727</td>\n",
       "      <td>0.66</td>\n",
       "      <td>0.701799</td>\n",
       "      <td>0.180851</td>\n",
       "      <td>0.0</td>\n",
       "      <td>0.0</td>\n",
       "      <td>0.5</td>\n",
       "    </tr>\n",
       "    <tr>\n",
       "      <th>4</th>\n",
       "      <td>0.610224</td>\n",
       "      <td>0.598425</td>\n",
       "      <td>0.575309</td>\n",
       "      <td>0.543307</td>\n",
       "      <td>0.971374</td>\n",
       "      <td>0.579545</td>\n",
       "      <td>0.50</td>\n",
       "      <td>0.547558</td>\n",
       "      <td>0.372340</td>\n",
       "      <td>1.0</td>\n",
       "      <td>0.5</td>\n",
       "      <td>1.0</td>\n",
       "    </tr>\n",
       "    <tr>\n",
       "      <th>...</th>\n",
       "      <td>...</td>\n",
       "      <td>...</td>\n",
       "      <td>...</td>\n",
       "      <td>...</td>\n",
       "      <td>...</td>\n",
       "      <td>...</td>\n",
       "      <td>...</td>\n",
       "      <td>...</td>\n",
       "      <td>...</td>\n",
       "      <td>...</td>\n",
       "      <td>...</td>\n",
       "      <td>...</td>\n",
       "    </tr>\n",
       "    <tr>\n",
       "      <th>3304</th>\n",
       "      <td>0.559105</td>\n",
       "      <td>0.590551</td>\n",
       "      <td>0.476543</td>\n",
       "      <td>0.114173</td>\n",
       "      <td>0.062977</td>\n",
       "      <td>0.710227</td>\n",
       "      <td>0.60</td>\n",
       "      <td>0.647815</td>\n",
       "      <td>0.468085</td>\n",
       "      <td>1.0</td>\n",
       "      <td>0.5</td>\n",
       "      <td>0.0</td>\n",
       "    </tr>\n",
       "    <tr>\n",
       "      <th>3305</th>\n",
       "      <td>0.127796</td>\n",
       "      <td>0.196850</td>\n",
       "      <td>0.185185</td>\n",
       "      <td>0.169291</td>\n",
       "      <td>0.133588</td>\n",
       "      <td>0.448864</td>\n",
       "      <td>0.45</td>\n",
       "      <td>0.393316</td>\n",
       "      <td>0.000000</td>\n",
       "      <td>0.0</td>\n",
       "      <td>0.0</td>\n",
       "      <td>0.0</td>\n",
       "    </tr>\n",
       "    <tr>\n",
       "      <th>3306</th>\n",
       "      <td>0.533546</td>\n",
       "      <td>0.527559</td>\n",
       "      <td>0.464198</td>\n",
       "      <td>0.287402</td>\n",
       "      <td>0.587786</td>\n",
       "      <td>0.625000</td>\n",
       "      <td>0.47</td>\n",
       "      <td>0.627249</td>\n",
       "      <td>0.670213</td>\n",
       "      <td>1.0</td>\n",
       "      <td>1.0</td>\n",
       "      <td>1.0</td>\n",
       "    </tr>\n",
       "    <tr>\n",
       "      <th>3307</th>\n",
       "      <td>0.699681</td>\n",
       "      <td>0.748031</td>\n",
       "      <td>0.683951</td>\n",
       "      <td>0.354331</td>\n",
       "      <td>0.583969</td>\n",
       "      <td>0.653409</td>\n",
       "      <td>0.72</td>\n",
       "      <td>0.503856</td>\n",
       "      <td>0.340426</td>\n",
       "      <td>1.0</td>\n",
       "      <td>0.0</td>\n",
       "      <td>1.0</td>\n",
       "    </tr>\n",
       "    <tr>\n",
       "      <th>3308</th>\n",
       "      <td>0.348243</td>\n",
       "      <td>0.393701</td>\n",
       "      <td>0.281481</td>\n",
       "      <td>0.326772</td>\n",
       "      <td>0.370229</td>\n",
       "      <td>0.681818</td>\n",
       "      <td>0.52</td>\n",
       "      <td>0.670951</td>\n",
       "      <td>0.755319</td>\n",
       "      <td>0.0</td>\n",
       "      <td>1.0</td>\n",
       "      <td>0.0</td>\n",
       "    </tr>\n",
       "  </tbody>\n",
       "</table>\n",
       "<p>3309 rows × 12 columns</p>\n",
       "</div>"
      ],
      "text/plain": [
       "      HAEMATOCRIT  HAEMOGLOBINS  ERYTHROCYTE  LEUCOCYTE  THROMBOCYTE  \\\n",
       "0        0.392971      0.425197     0.409877   0.137795     0.248092   \n",
       "1        0.738019      0.653543     0.962963   0.204724     0.404580   \n",
       "2        0.683706      0.653543     0.506173   0.200787     0.603053   \n",
       "3        0.651757      0.685039     0.530864   0.094488     0.488550   \n",
       "4        0.610224      0.598425     0.575309   0.543307     0.971374   \n",
       "...           ...           ...          ...        ...          ...   \n",
       "3304     0.559105      0.590551     0.476543   0.114173     0.062977   \n",
       "3305     0.127796      0.196850     0.185185   0.169291     0.133588   \n",
       "3306     0.533546      0.527559     0.464198   0.287402     0.587786   \n",
       "3307     0.699681      0.748031     0.683951   0.354331     0.583969   \n",
       "3308     0.348243      0.393701     0.281481   0.326772     0.370229   \n",
       "\n",
       "           MCH  MCHC       MCV       AGE  SEX  AGE_discretized  \\\n",
       "0     0.534091  0.50  0.475578  0.340426  0.0              0.0   \n",
       "1     0.198864  0.36  0.107969  0.372340  1.0              0.5   \n",
       "2     0.761364  0.48  0.809769  0.734043  0.0              1.0   \n",
       "3     0.772727  0.66  0.701799  0.180851  0.0              0.0   \n",
       "4     0.579545  0.50  0.547558  0.372340  1.0              0.5   \n",
       "...        ...   ...       ...       ...  ...              ...   \n",
       "3304  0.710227  0.60  0.647815  0.468085  1.0              0.5   \n",
       "3305  0.448864  0.45  0.393316  0.000000  0.0              0.0   \n",
       "3306  0.625000  0.47  0.627249  0.670213  1.0              1.0   \n",
       "3307  0.653409  0.72  0.503856  0.340426  1.0              0.0   \n",
       "3308  0.681818  0.52  0.670951  0.755319  0.0              1.0   \n",
       "\n",
       "      THROMBOCYTE_discretized  \n",
       "0                         0.0  \n",
       "1                         0.5  \n",
       "2                         1.0  \n",
       "3                         0.5  \n",
       "4                         1.0  \n",
       "...                       ...  \n",
       "3304                      0.0  \n",
       "3305                      0.0  \n",
       "3306                      1.0  \n",
       "3307                      1.0  \n",
       "3308                      0.0  \n",
       "\n",
       "[3309 rows x 12 columns]"
      ]
     },
     "execution_count": 44,
     "metadata": {},
     "output_type": "execute_result"
    }
   ],
   "source": [
    "from sklearn.preprocessing import KBinsDiscretizer\n",
    "from sklearn.preprocessing import MaxAbsScaler\n",
    "# Seleziona gli attributi da discretizzare\n",
    "X = dataset[['AGE', 'THROMBOCYTE']]\n",
    "print(X)\n",
    "\n",
    "# Crea un oggetto KBinsDiscretizer per la discretizzazione\n",
    "discretizer = KBinsDiscretizer(n_bins=3, encode='ordinal', strategy='quantile')\n",
    "\n",
    "# Applica la discretizzazione agli attributi selezionati\n",
    "X_discretized = discretizer.fit_transform(X)\n",
    "\n",
    "# Crea un DataFrame con gli attributi discretizzati\n",
    "df_discretized = pd.DataFrame(X_discretized, columns=['AGE_discretized', 'THROMBOCYTE_discretized'])\n",
    "print(df_discretized)\n",
    "# Combina i dati discretizzati con il resto del dataset\n",
    "df_combined = pd.concat([dataset, df_discretized], axis=1)\n",
    "df_combined\n",
    "# Applica la scala MaxAbs agli attributi\n",
    "scaler = MaxAbsScaler()\n",
    "df_scaled = scaler.fit_transform(df_combined)\n",
    "df_scaled = pd.DataFrame(df_scaled, columns=df_combined.columns)\n",
    "df_scaled"
   ]
  },
  {
   "cell_type": "code",
   "execution_count": 45,
   "metadata": {},
   "outputs": [],
   "source": [
    "#prepare scaled dataset for classification\n",
    "dct_scaled = DecisionTreeClassifier()\n",
    "# Split the dataset in two equal parts\n",
    "X_train, X_test, y_train, y_test = train_test_split( X, y, test_size=0.5, random_state=0)"
   ]
  },
  {
   "cell_type": "code",
   "execution_count": 46,
   "metadata": {},
   "outputs": [
    {
     "name": "stdout",
     "output_type": "stream",
     "text": [
      "acc test 0.5933534743202417\n",
      "acc test 0.6876132930513595\n"
     ]
    }
   ],
   "source": [
    "#train and test decision tree on scaled data\n",
    "dct_scaled.fit(X_train, y_train)\n",
    "y_pred = dct_scaled.predict(X_test)\n",
    "acc_test = accuracy_score(y_test, y_pred)\n",
    "print('acc test', acc_test)\n",
    "\n",
    "#train and test logistic regression on scaled data\n",
    "lr_scaled = LogisticRegression(solver='liblinear')\n",
    "lr_scaled.fit(X_train, y_train)\n",
    "y_pred = lr_scaled.predict(X_test)\n",
    "acc_test = accuracy_score(y_test, y_pred)\n",
    "print('acc test', acc_test)\n"
   ]
  }
 ],
 "metadata": {
  "kernelspec": {
   "display_name": "base",
   "language": "python",
   "name": "python3"
  },
  "language_info": {
   "codemirror_mode": {
    "name": "ipython",
    "version": 3
   },
   "file_extension": ".py",
   "mimetype": "text/x-python",
   "name": "python",
   "nbconvert_exporter": "python",
   "pygments_lexer": "ipython3",
   "version": "3.10.9"
  },
  "orig_nbformat": 4
 },
 "nbformat": 4,
 "nbformat_minor": 2
}
