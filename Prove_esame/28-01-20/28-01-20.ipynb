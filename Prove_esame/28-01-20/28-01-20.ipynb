{
 "cells": [
  {
   "attachments": {},
   "cell_type": "markdown",
   "metadata": {},
   "source": [
    "# Il Dataset \n",
    "\n",
    "Il datataset  weather_train.csv  (preso da kaggle --  https://www.kaggle.com/nicholasjhana/energy-\n",
    "consumption-generation-prices-and-weather)  contiene  dati  relativi  a  rilevazioni  meteo  registrate \n",
    "in città spagnole una volta al giorno secondo il seguente schema: \n",
    "'dt_iso', 'city_name', 'temp', 'temp_min', 'temp_max', 'pressure', 'humidity', 'wind_speed', \n",
    "'wind_deg', 'rain_1h', 'rain_3h', 'snow_3h', ‘clouds_all', 'weather_id', 'weather_main', \n",
    "'weather_description',  'weather_icon' \n",
    "Il dataset è costituito da attributi con valori numerici e categorici.  \n",
    "L’obiettivo  è quello di  prevedere  il  tempo  complessivo  di  una  giornata  (valore della  feature \n",
    "'weather_main') sulla base degli altri parametri"
   ]
  },
  {
   "cell_type": "code",
   "execution_count": 1,
   "metadata": {},
   "outputs": [],
   "source": [
    "import pandas as pd\n",
    "import numpy as np\n",
    "import matplotlib.pyplot as plt \n",
    "import os\n"
   ]
  },
  {
   "attachments": {},
   "cell_type": "markdown",
   "metadata": {},
   "source": [
    "\n",
    "# Parte 1: Analisi\n",
    "1.  Quante  sono  le  istanze contenute  nel dataset?  _______  Il dataset  è  completo  (cioè per  ogni \n",
    "istanza tutti i valori di attributo sono sempre  correttamente  specificati –  non esistono “missing \n",
    "values”)? _______    Il  dataset  è  bilanciato  per  quanto  riguarda  la  classe  da  predire?  _________ \n",
    "(punti 1)"
   ]
  },
  {
   "cell_type": "code",
   "execution_count": 3,
   "metadata": {},
   "outputs": [
    {
     "data": {
      "text/html": [
       "<div>\n",
       "<style scoped>\n",
       "    .dataframe tbody tr th:only-of-type {\n",
       "        vertical-align: middle;\n",
       "    }\n",
       "\n",
       "    .dataframe tbody tr th {\n",
       "        vertical-align: top;\n",
       "    }\n",
       "\n",
       "    .dataframe thead th {\n",
       "        text-align: right;\n",
       "    }\n",
       "</style>\n",
       "<table border=\"1\" class=\"dataframe\">\n",
       "  <thead>\n",
       "    <tr style=\"text-align: right;\">\n",
       "      <th></th>\n",
       "      <th>dt_iso</th>\n",
       "      <th>city_name</th>\n",
       "      <th>temp</th>\n",
       "      <th>temp_min</th>\n",
       "      <th>temp_max</th>\n",
       "      <th>pressure</th>\n",
       "      <th>humidity</th>\n",
       "      <th>wind_speed</th>\n",
       "      <th>wind_deg</th>\n",
       "      <th>rain_1h</th>\n",
       "      <th>rain_3h</th>\n",
       "      <th>snow_3h</th>\n",
       "      <th>clouds_all</th>\n",
       "      <th>weather_id</th>\n",
       "      <th>weather_main</th>\n",
       "      <th>weather_description</th>\n",
       "      <th>weather_icon</th>\n",
       "    </tr>\n",
       "  </thead>\n",
       "  <tbody>\n",
       "    <tr>\n",
       "      <th>0</th>\n",
       "      <td>2016-05-26 09:00:00+02:00</td>\n",
       "      <td>Bilbao</td>\n",
       "      <td>288.420</td>\n",
       "      <td>285.150</td>\n",
       "      <td>290.930</td>\n",
       "      <td>1012</td>\n",
       "      <td>93</td>\n",
       "      <td>0</td>\n",
       "      <td>0</td>\n",
       "      <td>0.0</td>\n",
       "      <td>0.0</td>\n",
       "      <td>0.0</td>\n",
       "      <td>75</td>\n",
       "      <td>803</td>\n",
       "      <td>clouds</td>\n",
       "      <td>broken clouds</td>\n",
       "      <td>04d</td>\n",
       "    </tr>\n",
       "    <tr>\n",
       "      <th>1</th>\n",
       "      <td>2016-07-16 10:00:00+02:00</td>\n",
       "      <td>Madrid</td>\n",
       "      <td>299.037</td>\n",
       "      <td>299.037</td>\n",
       "      <td>299.037</td>\n",
       "      <td>961</td>\n",
       "      <td>44</td>\n",
       "      <td>2</td>\n",
       "      <td>83</td>\n",
       "      <td>0.0</td>\n",
       "      <td>0.0</td>\n",
       "      <td>0.0</td>\n",
       "      <td>0</td>\n",
       "      <td>800</td>\n",
       "      <td>clear</td>\n",
       "      <td>sky is clear</td>\n",
       "      <td>01d</td>\n",
       "    </tr>\n",
       "    <tr>\n",
       "      <th>2</th>\n",
       "      <td>2018-06-03 05:00:00+02:00</td>\n",
       "      <td>Madrid</td>\n",
       "      <td>285.150</td>\n",
       "      <td>285.150</td>\n",
       "      <td>285.150</td>\n",
       "      <td>1017</td>\n",
       "      <td>100</td>\n",
       "      <td>0</td>\n",
       "      <td>0</td>\n",
       "      <td>0.0</td>\n",
       "      <td>0.0</td>\n",
       "      <td>0.0</td>\n",
       "      <td>56</td>\n",
       "      <td>803</td>\n",
       "      <td>clouds</td>\n",
       "      <td>broken clouds</td>\n",
       "      <td>04n</td>\n",
       "    </tr>\n",
       "  </tbody>\n",
       "</table>\n",
       "</div>"
      ],
      "text/plain": [
       "                      dt_iso city_name     temp  temp_min  temp_max  pressure  \\\n",
       "0  2016-05-26 09:00:00+02:00    Bilbao  288.420   285.150   290.930      1012   \n",
       "1  2016-07-16 10:00:00+02:00    Madrid  299.037   299.037   299.037       961   \n",
       "2  2018-06-03 05:00:00+02:00    Madrid  285.150   285.150   285.150      1017   \n",
       "\n",
       "   humidity  wind_speed  wind_deg  rain_1h  rain_3h  snow_3h  clouds_all  \\\n",
       "0        93           0         0      0.0      0.0      0.0          75   \n",
       "1        44           2        83      0.0      0.0      0.0           0   \n",
       "2       100           0         0      0.0      0.0      0.0          56   \n",
       "\n",
       "   weather_id weather_main weather_description weather_icon  \n",
       "0         803       clouds       broken clouds          04d  \n",
       "1         800        clear        sky is clear          01d  \n",
       "2         803       clouds       broken clouds          04n  "
      ]
     },
     "execution_count": 3,
     "metadata": {},
     "output_type": "execute_result"
    }
   ],
   "source": [
    "df = pd.read_csv(\"weather_train.csv\")\n",
    "df.head(3)"
   ]
  },
  {
   "cell_type": "code",
   "execution_count": 4,
   "metadata": {},
   "outputs": [
    {
     "name": "stdout",
     "output_type": "stream",
     "text": [
      "<class 'pandas.core.frame.DataFrame'>\n",
      "RangeIndex: 158131 entries, 0 to 158130\n",
      "Data columns (total 17 columns):\n",
      " #   Column               Non-Null Count   Dtype  \n",
      "---  ------               --------------   -----  \n",
      " 0   dt_iso               158131 non-null  object \n",
      " 1   city_name            158131 non-null  object \n",
      " 2   temp                 158131 non-null  float64\n",
      " 3   temp_min             158131 non-null  float64\n",
      " 4   temp_max             158131 non-null  float64\n",
      " 5   pressure             158131 non-null  int64  \n",
      " 6   humidity             158131 non-null  int64  \n",
      " 7   wind_speed           158131 non-null  int64  \n",
      " 8   wind_deg             158131 non-null  int64  \n",
      " 9   rain_1h              158131 non-null  float64\n",
      " 10  rain_3h              158131 non-null  float64\n",
      " 11  snow_3h              158131 non-null  float64\n",
      " 12  clouds_all           158131 non-null  int64  \n",
      " 13  weather_id           158131 non-null  int64  \n",
      " 14  weather_main         158131 non-null  object \n",
      " 15  weather_description  158131 non-null  object \n",
      " 16  weather_icon         158131 non-null  object \n",
      "dtypes: float64(6), int64(6), object(5)\n",
      "memory usage: 20.5+ MB\n"
     ]
    }
   ],
   "source": [
    "df.info()"
   ]
  },
  {
   "cell_type": "code",
   "execution_count": 5,
   "metadata": {},
   "outputs": [
    {
     "name": "stdout",
     "output_type": "stream",
     "text": [
      "il dataset è composto da:  158131 istanze, ognuna con  17 attributi\n"
     ]
    }
   ],
   "source": [
    "#conto numero di righe e colonne\n",
    "print(\"il dataset è composto da: \", df.shape[0], \"istanze, ognuna con \", df.shape[1], \"attributi\")"
   ]
  },
  {
   "cell_type": "code",
   "execution_count": 6,
   "metadata": {},
   "outputs": [
    {
     "data": {
      "text/plain": [
       "dt_iso                 0\n",
       "city_name              0\n",
       "temp                   0\n",
       "temp_min               0\n",
       "temp_max               0\n",
       "pressure               0\n",
       "humidity               0\n",
       "wind_speed             0\n",
       "wind_deg               0\n",
       "rain_1h                0\n",
       "rain_3h                0\n",
       "snow_3h                0\n",
       "clouds_all             0\n",
       "weather_id             0\n",
       "weather_main           0\n",
       "weather_description    0\n",
       "weather_icon           0\n",
       "dtype: int64"
      ]
     },
     "execution_count": 6,
     "metadata": {},
     "output_type": "execute_result"
    }
   ],
   "source": [
    "df.isnull().sum() # per vedere se ci sono valori nulli"
   ]
  },
  {
   "cell_type": "code",
   "execution_count": 7,
   "metadata": {},
   "outputs": [
    {
     "name": "stdout",
     "output_type": "stream",
     "text": [
      "['clouds' 'clear' 'rain']\n"
     ]
    }
   ],
   "source": [
    "classes = df['weather_main'].unique() # per vedere i valori unici\n",
    "print(classes)"
   ]
  },
  {
   "cell_type": "code",
   "execution_count": 8,
   "metadata": {},
   "outputs": [
    {
     "data": {
      "text/plain": [
       "clear     77750\n",
       "clouds    64130\n",
       "rain      16251\n",
       "Name: weather_main, dtype: int64"
      ]
     },
     "execution_count": 8,
     "metadata": {},
     "output_type": "execute_result"
    }
   ],
   "source": [
    "df['weather_main'].value_counts() # per vedere la frequenza dei valori"
   ]
  },
  {
   "attachments": {},
   "cell_type": "markdown",
   "metadata": {},
   "source": [
    "il dataset è sbilanciato in quanto i valori possibili per l'attributo del dataset non sono equamente distribuiti, ovvero compaiono con una frequenza diversa. Questo andrà ad impattare sulla fase di training del modello, in quanto il modello tenderà a predire più spesso la classi più frequenti, avendo più esempi per imparare a classificarla."
   ]
  },
  {
   "attachments": {},
   "cell_type": "markdown",
   "metadata": {},
   "source": [
    "2. Le rilevazioni con pressione e umidità uguale a 0 sono irreali. Quante sono queste rilevazioni? \n",
    "Eliminarle dal dataset (punti 1)"
   ]
  },
  {
   "cell_type": "code",
   "execution_count": 9,
   "metadata": {},
   "outputs": [],
   "source": [
    "press=df.loc[df['pressure']==0]# per vedere quante righe hanno il valore 0\n",
    "hum= df.loc[df['humidity']==0] # per vedere quante righe hanno il valore 0\n"
   ]
  },
  {
   "cell_type": "code",
   "execution_count": 10,
   "metadata": {},
   "outputs": [
    {
     "data": {
      "text/html": [
       "<div>\n",
       "<style scoped>\n",
       "    .dataframe tbody tr th:only-of-type {\n",
       "        vertical-align: middle;\n",
       "    }\n",
       "\n",
       "    .dataframe tbody tr th {\n",
       "        vertical-align: top;\n",
       "    }\n",
       "\n",
       "    .dataframe thead th {\n",
       "        text-align: right;\n",
       "    }\n",
       "</style>\n",
       "<table border=\"1\" class=\"dataframe\">\n",
       "  <thead>\n",
       "    <tr style=\"text-align: right;\">\n",
       "      <th></th>\n",
       "      <th>dt_iso</th>\n",
       "      <th>city_name</th>\n",
       "      <th>temp</th>\n",
       "      <th>temp_min</th>\n",
       "      <th>temp_max</th>\n",
       "      <th>pressure</th>\n",
       "      <th>humidity</th>\n",
       "      <th>wind_speed</th>\n",
       "      <th>wind_deg</th>\n",
       "      <th>rain_1h</th>\n",
       "      <th>rain_3h</th>\n",
       "      <th>snow_3h</th>\n",
       "      <th>clouds_all</th>\n",
       "      <th>weather_id</th>\n",
       "      <th>weather_main</th>\n",
       "      <th>weather_description</th>\n",
       "      <th>weather_icon</th>\n",
       "    </tr>\n",
       "  </thead>\n",
       "  <tbody>\n",
       "    <tr>\n",
       "      <th>1271</th>\n",
       "      <td>2015-02-22 20:00:00+01:00</td>\n",
       "      <td>Barcelona</td>\n",
       "      <td>285.57</td>\n",
       "      <td>285.57</td>\n",
       "      <td>285.57</td>\n",
       "      <td>0</td>\n",
       "      <td>4</td>\n",
       "      <td>1</td>\n",
       "      <td>22</td>\n",
       "      <td>0.0</td>\n",
       "      <td>0.0</td>\n",
       "      <td>0.0</td>\n",
       "      <td>0</td>\n",
       "      <td>800</td>\n",
       "      <td>clear</td>\n",
       "      <td>sky is clear</td>\n",
       "      <td>01n</td>\n",
       "    </tr>\n",
       "    <tr>\n",
       "      <th>28084</th>\n",
       "      <td>2015-02-22 21:00:00+01:00</td>\n",
       "      <td>Barcelona</td>\n",
       "      <td>283.55</td>\n",
       "      <td>283.55</td>\n",
       "      <td>283.55</td>\n",
       "      <td>0</td>\n",
       "      <td>4</td>\n",
       "      <td>1</td>\n",
       "      <td>157</td>\n",
       "      <td>0.0</td>\n",
       "      <td>0.0</td>\n",
       "      <td>0.0</td>\n",
       "      <td>0</td>\n",
       "      <td>800</td>\n",
       "      <td>clear</td>\n",
       "      <td>sky is clear</td>\n",
       "      <td>01n</td>\n",
       "    </tr>\n",
       "  </tbody>\n",
       "</table>\n",
       "</div>"
      ],
      "text/plain": [
       "                          dt_iso   city_name    temp  temp_min  temp_max  \\\n",
       "1271   2015-02-22 20:00:00+01:00   Barcelona  285.57    285.57    285.57   \n",
       "28084  2015-02-22 21:00:00+01:00   Barcelona  283.55    283.55    283.55   \n",
       "\n",
       "       pressure  humidity  wind_speed  wind_deg  rain_1h  rain_3h  snow_3h  \\\n",
       "1271          0         4           1        22      0.0      0.0      0.0   \n",
       "28084         0         4           1       157      0.0      0.0      0.0   \n",
       "\n",
       "       clouds_all  weather_id weather_main weather_description weather_icon  \n",
       "1271            0         800        clear        sky is clear          01n  \n",
       "28084           0         800        clear        sky is clear          01n  "
      ]
     },
     "execution_count": 10,
     "metadata": {},
     "output_type": "execute_result"
    }
   ],
   "source": [
    "press.head()\n",
    "\n"
   ]
  },
  {
   "cell_type": "code",
   "execution_count": 11,
   "metadata": {},
   "outputs": [
    {
     "data": {
      "text/html": [
       "<div>\n",
       "<style scoped>\n",
       "    .dataframe tbody tr th:only-of-type {\n",
       "        vertical-align: middle;\n",
       "    }\n",
       "\n",
       "    .dataframe tbody tr th {\n",
       "        vertical-align: top;\n",
       "    }\n",
       "\n",
       "    .dataframe thead th {\n",
       "        text-align: right;\n",
       "    }\n",
       "</style>\n",
       "<table border=\"1\" class=\"dataframe\">\n",
       "  <thead>\n",
       "    <tr style=\"text-align: right;\">\n",
       "      <th></th>\n",
       "      <th>dt_iso</th>\n",
       "      <th>city_name</th>\n",
       "      <th>temp</th>\n",
       "      <th>temp_min</th>\n",
       "      <th>temp_max</th>\n",
       "      <th>pressure</th>\n",
       "      <th>humidity</th>\n",
       "      <th>wind_speed</th>\n",
       "      <th>wind_deg</th>\n",
       "      <th>rain_1h</th>\n",
       "      <th>rain_3h</th>\n",
       "      <th>snow_3h</th>\n",
       "      <th>clouds_all</th>\n",
       "      <th>weather_id</th>\n",
       "      <th>weather_main</th>\n",
       "      <th>weather_description</th>\n",
       "      <th>weather_icon</th>\n",
       "    </tr>\n",
       "  </thead>\n",
       "  <tbody>\n",
       "    <tr>\n",
       "      <th>5564</th>\n",
       "      <td>2015-02-22 01:00:00+01:00</td>\n",
       "      <td>Barcelona</td>\n",
       "      <td>281.65</td>\n",
       "      <td>281.65</td>\n",
       "      <td>281.65</td>\n",
       "      <td>100064</td>\n",
       "      <td>0</td>\n",
       "      <td>3</td>\n",
       "      <td>67</td>\n",
       "      <td>0.0</td>\n",
       "      <td>0.0</td>\n",
       "      <td>0.0</td>\n",
       "      <td>0</td>\n",
       "      <td>800</td>\n",
       "      <td>clear</td>\n",
       "      <td>sky is clear</td>\n",
       "      <td>01n</td>\n",
       "    </tr>\n",
       "    <tr>\n",
       "      <th>16489</th>\n",
       "      <td>2015-02-21 14:00:00+01:00</td>\n",
       "      <td>Barcelona</td>\n",
       "      <td>283.85</td>\n",
       "      <td>283.85</td>\n",
       "      <td>283.85</td>\n",
       "      <td>99915</td>\n",
       "      <td>0</td>\n",
       "      <td>1</td>\n",
       "      <td>0</td>\n",
       "      <td>0.9</td>\n",
       "      <td>0.0</td>\n",
       "      <td>0.0</td>\n",
       "      <td>88</td>\n",
       "      <td>501</td>\n",
       "      <td>rain</td>\n",
       "      <td>moderate rain</td>\n",
       "      <td>10d</td>\n",
       "    </tr>\n",
       "    <tr>\n",
       "      <th>19646</th>\n",
       "      <td>2015-02-22 11:00:00+01:00</td>\n",
       "      <td>Barcelona</td>\n",
       "      <td>285.05</td>\n",
       "      <td>285.05</td>\n",
       "      <td>285.05</td>\n",
       "      <td>100304</td>\n",
       "      <td>0</td>\n",
       "      <td>6</td>\n",
       "      <td>67</td>\n",
       "      <td>0.0</td>\n",
       "      <td>0.0</td>\n",
       "      <td>0.0</td>\n",
       "      <td>0</td>\n",
       "      <td>800</td>\n",
       "      <td>clear</td>\n",
       "      <td>sky is clear</td>\n",
       "      <td>01d</td>\n",
       "    </tr>\n",
       "    <tr>\n",
       "      <th>26268</th>\n",
       "      <td>2015-02-22 03:00:00+01:00</td>\n",
       "      <td>Barcelona</td>\n",
       "      <td>273.37</td>\n",
       "      <td>273.37</td>\n",
       "      <td>273.37</td>\n",
       "      <td>1000</td>\n",
       "      <td>0</td>\n",
       "      <td>1</td>\n",
       "      <td>315</td>\n",
       "      <td>0.0</td>\n",
       "      <td>0.0</td>\n",
       "      <td>0.0</td>\n",
       "      <td>20</td>\n",
       "      <td>801</td>\n",
       "      <td>clouds</td>\n",
       "      <td>few clouds</td>\n",
       "      <td>02n</td>\n",
       "    </tr>\n",
       "    <tr>\n",
       "      <th>28206</th>\n",
       "      <td>2015-02-21 11:00:00+01:00</td>\n",
       "      <td>Barcelona</td>\n",
       "      <td>274.65</td>\n",
       "      <td>274.65</td>\n",
       "      <td>274.65</td>\n",
       "      <td>1000951</td>\n",
       "      <td>0</td>\n",
       "      <td>2</td>\n",
       "      <td>337</td>\n",
       "      <td>0.3</td>\n",
       "      <td>0.0</td>\n",
       "      <td>0.0</td>\n",
       "      <td>92</td>\n",
       "      <td>500</td>\n",
       "      <td>rain</td>\n",
       "      <td>light rain</td>\n",
       "      <td>10d</td>\n",
       "    </tr>\n",
       "  </tbody>\n",
       "</table>\n",
       "</div>"
      ],
      "text/plain": [
       "                          dt_iso   city_name    temp  temp_min  temp_max  \\\n",
       "5564   2015-02-22 01:00:00+01:00   Barcelona  281.65    281.65    281.65   \n",
       "16489  2015-02-21 14:00:00+01:00   Barcelona  283.85    283.85    283.85   \n",
       "19646  2015-02-22 11:00:00+01:00   Barcelona  285.05    285.05    285.05   \n",
       "26268  2015-02-22 03:00:00+01:00   Barcelona  273.37    273.37    273.37   \n",
       "28206  2015-02-21 11:00:00+01:00   Barcelona  274.65    274.65    274.65   \n",
       "\n",
       "       pressure  humidity  wind_speed  wind_deg  rain_1h  rain_3h  snow_3h  \\\n",
       "5564     100064         0           3        67      0.0      0.0      0.0   \n",
       "16489     99915         0           1         0      0.9      0.0      0.0   \n",
       "19646    100304         0           6        67      0.0      0.0      0.0   \n",
       "26268      1000         0           1       315      0.0      0.0      0.0   \n",
       "28206   1000951         0           2       337      0.3      0.0      0.0   \n",
       "\n",
       "       clouds_all  weather_id weather_main weather_description weather_icon  \n",
       "5564            0         800        clear        sky is clear          01n  \n",
       "16489          88         501         rain       moderate rain          10d  \n",
       "19646           0         800        clear        sky is clear          01d  \n",
       "26268          20         801       clouds          few clouds          02n  \n",
       "28206          92         500         rain          light rain          10d  "
      ]
     },
     "execution_count": 11,
     "metadata": {},
     "output_type": "execute_result"
    }
   ],
   "source": [
    "hum.head()"
   ]
  },
  {
   "cell_type": "code",
   "execution_count": 12,
   "metadata": {},
   "outputs": [
    {
     "name": "stdout",
     "output_type": "stream",
     "text": [
      "il numero di righe con pressione 0 è:  2 mentre il numero di righe con umidità 0 è:  59\n"
     ]
    }
   ],
   "source": [
    "print(\"il numero di righe con pressione 0 è: \", press.shape[0], \"mentre il numero di righe con umidità 0 è: \", hum.shape[0])\n"
   ]
  },
  {
   "cell_type": "code",
   "execution_count": 13,
   "metadata": {},
   "outputs": [
    {
     "name": "stdout",
     "output_type": "stream",
     "text": [
      "il dataset prima di eliminare le righe con pressione 0 è composto da:  158131 righe\n",
      "il dataset eliminando le righe con pressione 0 è composto da:  158129 righe\n",
      "il dataset eliminando le righe con umidità 0 è composto da:  158070 righe\n"
     ]
    }
   ],
   "source": [
    "# elimino le righe con pressione 0\n",
    "print(\"il dataset prima di eliminare le righe con pressione 0 è composto da: \", df.shape[0], \"righe\")\n",
    "df = df.drop(press.index)\n",
    "print(\"il dataset eliminando le righe con pressione 0 è composto da: \", df.shape[0], \"righe\")\n",
    "df = df.drop(hum.index)\n",
    "print(\"il dataset eliminando le righe con umidità 0 è composto da: \", df.shape[0], \"righe\")\n"
   ]
  },
  {
   "attachments": {},
   "cell_type": "markdown",
   "metadata": {},
   "source": [
    "3. Analizzare la temperatura massima rilevata. Valutare se la distribuzione dei valori assume un \n",
    "andamento simile a una gaussiana. "
   ]
  },
  {
   "cell_type": "code",
   "execution_count": 14,
   "metadata": {},
   "outputs": [
    {
     "data": {
      "text/plain": [
       "158070"
      ]
     },
     "execution_count": 14,
     "metadata": {},
     "output_type": "execute_result"
    }
   ],
   "source": [
    "len(df['temp']) # per vedere il numero di righe"
   ]
  },
  {
   "cell_type": "code",
   "execution_count": 15,
   "metadata": {},
   "outputs": [
    {
     "name": "stdout",
     "output_type": "stream",
     "text": [
      "la media della temperatura è:  289.9039472998513\n",
      "la mediana della temperatura è:  289.33\n",
      "la deviazione standard della temperatura è:  7.999176719034097\n"
     ]
    },
    {
     "data": {
      "image/png": "[encoded data removed]",
      "text/plain": [
       "<Figure size 640x480 with 1 Axes>"
      ]
     },
     "metadata": {},
     "output_type": "display_data"
    }
   ],
   "source": [
    "temp_hist = df['temp_max'].hist(bins=30, linewidth=0.5, edgecolor='black', grid=False)\n",
    "plt.xlabel('temperature max in kelvin')\n",
    "plt.ylabel('numero di rilevazioni per range di temperatura')\n",
    "#media della temperatura\n",
    "print(\"la media della temperatura è: \", df['temp'].mean())\n",
    "#mediana della temperatura\n",
    "print(\"la mediana della temperatura è: \", df['temp'].median())\n",
    "#deviazione standard della temperatura\n",
    "print(\"la deviazione standard della temperatura è: \", df['temp'].std())\n",
    "\n"
   ]
  },
  {
   "attachments": {},
   "cell_type": "markdown",
   "metadata": {},
   "source": [
    "La distribuzione dei valori della temperatura massima rilevata assume un andamento simile a una gaussiana.\n",
    "______________________________________________________________________________________\n",
    "# Inciso:\n",
    "Per calcolare la deviazione standard si usa la formula:\n",
    "\n",
    "$$\\sigma = \\sqrt{\\frac{1}{N-1}\\sum_{i=1}^{N}(x_i - \\mu)^2}$$\n",
    "\n",
    "dove gli $x_i$ sono i valori della temperatura, $\\mu$ è il valor medio della temperatura e $N$ è il numero di rilevazioni.\n"
   ]
  },
  {
   "attachments": {},
   "cell_type": "markdown",
   "metadata": {},
   "source": [
    "_______________________________________________________________________________________"
   ]
  },
  {
   "attachments": {},
   "cell_type": "markdown",
   "metadata": {},
   "source": [
    "3.1. Considerare poi le rilevazioni che si collocano all’interno del \n",
    "5% delle temperature più alte.  Le città sono equamente presenti in quella fascia di rilevazioni? \n"
   ]
  },
  {
   "attachments": {},
   "cell_type": "markdown",
   "metadata": {},
   "source": [
    "______________________________________________________________________________________\n",
    "# Inciso:\n",
    "Un quantile è una misura statistica che divide un insieme di dati in gruppi o sottogruppi, in base alla loro posizione relativa all'interno della distribuzione dei dati. I quantili sono spesso utilizzati per suddividere i dati in percentili, quartili o decili.\n",
    "\n",
    "In generale, un quantile rappresenta il valore corrispondente a una determinata posizione percentuale nella distribuzione dei dati. Ad esempio, il 25° percentile è il valore al di sotto del quale si trova il 25% dei dati. In altre parole, il 25% dei dati è inferiore al valore del 25° percentile.\n",
    "\n",
    "I quartili sono un esempio comune di quantili e suddividono i dati in quattro gruppi uguali. Il primo quartile (Q1) corrisponde al 25° percentile, il secondo quartile (Q2) corrisponde al 50° percentile (che coincide con la mediana) e il terzo quartile (Q3) corrisponde al 75° percentile.\n",
    "\n",
    "I quantili sono utili per comprendere la distribuzione dei dati e per identificare i valori che si trovano al di sopra o al di sotto di una determinata soglia. Possono essere utilizzati anche per analisi comparative, ad esempio confrontando la posizione di un dato rispetto alla distribuzione generale di un insieme di dati.\"\n",
    "_______________________________________________________________________________________"
   ]
  },
  {
   "cell_type": "code",
   "execution_count": 16,
   "metadata": {},
   "outputs": [
    {
     "data": {
      "text/plain": [
       "306.15"
      ]
     },
     "execution_count": 16,
     "metadata": {},
     "output_type": "execute_result"
    }
   ],
   "source": [
    "df['temp_max'].quantile(0.95) # valore del 95 qauntile della temperatura massima"
   ]
  },
  {
   "cell_type": "code",
   "execution_count": 17,
   "metadata": {},
   "outputs": [
    {
     "data": {
      "text/html": [
       "<div>\n",
       "<style scoped>\n",
       "    .dataframe tbody tr th:only-of-type {\n",
       "        vertical-align: middle;\n",
       "    }\n",
       "\n",
       "    .dataframe tbody tr th {\n",
       "        vertical-align: top;\n",
       "    }\n",
       "\n",
       "    .dataframe thead th {\n",
       "        text-align: right;\n",
       "    }\n",
       "</style>\n",
       "<table border=\"1\" class=\"dataframe\">\n",
       "  <thead>\n",
       "    <tr style=\"text-align: right;\">\n",
       "      <th></th>\n",
       "      <th>dt_iso</th>\n",
       "      <th>city_name</th>\n",
       "      <th>temp</th>\n",
       "      <th>temp_min</th>\n",
       "      <th>temp_max</th>\n",
       "      <th>pressure</th>\n",
       "      <th>humidity</th>\n",
       "      <th>wind_speed</th>\n",
       "      <th>wind_deg</th>\n",
       "      <th>rain_1h</th>\n",
       "      <th>rain_3h</th>\n",
       "      <th>snow_3h</th>\n",
       "      <th>clouds_all</th>\n",
       "      <th>weather_id</th>\n",
       "      <th>weather_main</th>\n",
       "      <th>weather_description</th>\n",
       "      <th>weather_icon</th>\n",
       "    </tr>\n",
       "  </thead>\n",
       "  <tbody>\n",
       "    <tr>\n",
       "      <th>28</th>\n",
       "      <td>2016-07-21 20:00:00+02:00</td>\n",
       "      <td>Madrid</td>\n",
       "      <td>308.150</td>\n",
       "      <td>308.150</td>\n",
       "      <td>308.150</td>\n",
       "      <td>1013</td>\n",
       "      <td>12</td>\n",
       "      <td>3</td>\n",
       "      <td>210</td>\n",
       "      <td>0.0</td>\n",
       "      <td>0.0</td>\n",
       "      <td>0.0</td>\n",
       "      <td>0</td>\n",
       "      <td>800</td>\n",
       "      <td>clear</td>\n",
       "      <td>sky is clear</td>\n",
       "      <td>01d</td>\n",
       "    </tr>\n",
       "    <tr>\n",
       "      <th>34</th>\n",
       "      <td>2016-05-29 14:00:00+02:00</td>\n",
       "      <td>Seville</td>\n",
       "      <td>301.050</td>\n",
       "      <td>294.150</td>\n",
       "      <td>312.150</td>\n",
       "      <td>1020</td>\n",
       "      <td>43</td>\n",
       "      <td>3</td>\n",
       "      <td>260</td>\n",
       "      <td>0.0</td>\n",
       "      <td>0.0</td>\n",
       "      <td>0.0</td>\n",
       "      <td>20</td>\n",
       "      <td>801</td>\n",
       "      <td>clouds</td>\n",
       "      <td>few clouds</td>\n",
       "      <td>02d</td>\n",
       "    </tr>\n",
       "    <tr>\n",
       "      <th>39</th>\n",
       "      <td>2015-05-12 17:00:00+02:00</td>\n",
       "      <td>Madrid</td>\n",
       "      <td>306.249</td>\n",
       "      <td>306.249</td>\n",
       "      <td>306.249</td>\n",
       "      <td>961</td>\n",
       "      <td>26</td>\n",
       "      <td>2</td>\n",
       "      <td>221</td>\n",
       "      <td>0.0</td>\n",
       "      <td>0.0</td>\n",
       "      <td>0.0</td>\n",
       "      <td>0</td>\n",
       "      <td>800</td>\n",
       "      <td>clear</td>\n",
       "      <td>sky is clear</td>\n",
       "      <td>01d</td>\n",
       "    </tr>\n",
       "    <tr>\n",
       "      <th>50</th>\n",
       "      <td>2016-06-24 18:00:00+02:00</td>\n",
       "      <td>Barcelona</td>\n",
       "      <td>300.290</td>\n",
       "      <td>296.480</td>\n",
       "      <td>307.040</td>\n",
       "      <td>1017</td>\n",
       "      <td>69</td>\n",
       "      <td>6</td>\n",
       "      <td>210</td>\n",
       "      <td>3.0</td>\n",
       "      <td>0.0</td>\n",
       "      <td>0.0</td>\n",
       "      <td>0</td>\n",
       "      <td>502</td>\n",
       "      <td>rain</td>\n",
       "      <td>heavy intensity rain</td>\n",
       "      <td>10d</td>\n",
       "    </tr>\n",
       "    <tr>\n",
       "      <th>65</th>\n",
       "      <td>2016-09-12 19:00:00+02:00</td>\n",
       "      <td>Seville</td>\n",
       "      <td>305.960</td>\n",
       "      <td>304.150</td>\n",
       "      <td>307.150</td>\n",
       "      <td>1011</td>\n",
       "      <td>48</td>\n",
       "      <td>6</td>\n",
       "      <td>250</td>\n",
       "      <td>0.0</td>\n",
       "      <td>0.0</td>\n",
       "      <td>0.0</td>\n",
       "      <td>0</td>\n",
       "      <td>800</td>\n",
       "      <td>clear</td>\n",
       "      <td>sky is clear</td>\n",
       "      <td>01d</td>\n",
       "    </tr>\n",
       "    <tr>\n",
       "      <th>...</th>\n",
       "      <td>...</td>\n",
       "      <td>...</td>\n",
       "      <td>...</td>\n",
       "      <td>...</td>\n",
       "      <td>...</td>\n",
       "      <td>...</td>\n",
       "      <td>...</td>\n",
       "      <td>...</td>\n",
       "      <td>...</td>\n",
       "      <td>...</td>\n",
       "      <td>...</td>\n",
       "      <td>...</td>\n",
       "      <td>...</td>\n",
       "      <td>...</td>\n",
       "      <td>...</td>\n",
       "      <td>...</td>\n",
       "      <td>...</td>\n",
       "    </tr>\n",
       "    <tr>\n",
       "      <th>158070</th>\n",
       "      <td>2017-04-10 09:00:00+02:00</td>\n",
       "      <td>Seville</td>\n",
       "      <td>293.820</td>\n",
       "      <td>283.150</td>\n",
       "      <td>309.150</td>\n",
       "      <td>1020</td>\n",
       "      <td>67</td>\n",
       "      <td>4</td>\n",
       "      <td>60</td>\n",
       "      <td>0.0</td>\n",
       "      <td>0.0</td>\n",
       "      <td>0.0</td>\n",
       "      <td>0</td>\n",
       "      <td>800</td>\n",
       "      <td>clear</td>\n",
       "      <td>sky is clear</td>\n",
       "      <td>01d</td>\n",
       "    </tr>\n",
       "    <tr>\n",
       "      <th>158081</th>\n",
       "      <td>2015-07-22 15:00:00+02:00</td>\n",
       "      <td>Seville</td>\n",
       "      <td>312.370</td>\n",
       "      <td>310.150</td>\n",
       "      <td>315.150</td>\n",
       "      <td>1014</td>\n",
       "      <td>19</td>\n",
       "      <td>2</td>\n",
       "      <td>310</td>\n",
       "      <td>0.0</td>\n",
       "      <td>0.0</td>\n",
       "      <td>0.0</td>\n",
       "      <td>0</td>\n",
       "      <td>800</td>\n",
       "      <td>clear</td>\n",
       "      <td>sky is clear</td>\n",
       "      <td>01d</td>\n",
       "    </tr>\n",
       "    <tr>\n",
       "      <th>158099</th>\n",
       "      <td>2015-08-06 18:00:00+02:00</td>\n",
       "      <td>Madrid</td>\n",
       "      <td>309.940</td>\n",
       "      <td>307.950</td>\n",
       "      <td>311.480</td>\n",
       "      <td>1014</td>\n",
       "      <td>9</td>\n",
       "      <td>5</td>\n",
       "      <td>200</td>\n",
       "      <td>0.0</td>\n",
       "      <td>0.0</td>\n",
       "      <td>0.0</td>\n",
       "      <td>20</td>\n",
       "      <td>801</td>\n",
       "      <td>clouds</td>\n",
       "      <td>few clouds</td>\n",
       "      <td>02d</td>\n",
       "    </tr>\n",
       "    <tr>\n",
       "      <th>158105</th>\n",
       "      <td>2015-07-03 13:00:00+02:00</td>\n",
       "      <td>Barcelona</td>\n",
       "      <td>303.620</td>\n",
       "      <td>296.480</td>\n",
       "      <td>308.710</td>\n",
       "      <td>1023</td>\n",
       "      <td>51</td>\n",
       "      <td>4</td>\n",
       "      <td>100</td>\n",
       "      <td>0.0</td>\n",
       "      <td>0.0</td>\n",
       "      <td>0.0</td>\n",
       "      <td>0</td>\n",
       "      <td>800</td>\n",
       "      <td>clear</td>\n",
       "      <td>sky is clear</td>\n",
       "      <td>01d</td>\n",
       "    </tr>\n",
       "    <tr>\n",
       "      <th>158117</th>\n",
       "      <td>2016-08-17 17:00:00+02:00</td>\n",
       "      <td>Valencia</td>\n",
       "      <td>306.250</td>\n",
       "      <td>302.450</td>\n",
       "      <td>308.150</td>\n",
       "      <td>1071</td>\n",
       "      <td>25</td>\n",
       "      <td>2</td>\n",
       "      <td>315</td>\n",
       "      <td>0.0</td>\n",
       "      <td>0.0</td>\n",
       "      <td>0.0</td>\n",
       "      <td>20</td>\n",
       "      <td>801</td>\n",
       "      <td>clouds</td>\n",
       "      <td>few clouds</td>\n",
       "      <td>02d</td>\n",
       "    </tr>\n",
       "  </tbody>\n",
       "</table>\n",
       "<p>7777 rows × 17 columns</p>\n",
       "</div>"
      ],
      "text/plain": [
       "                           dt_iso   city_name     temp  temp_min  temp_max  \\\n",
       "28      2016-07-21 20:00:00+02:00      Madrid  308.150   308.150   308.150   \n",
       "34      2016-05-29 14:00:00+02:00     Seville  301.050   294.150   312.150   \n",
       "39      2015-05-12 17:00:00+02:00      Madrid  306.249   306.249   306.249   \n",
       "50      2016-06-24 18:00:00+02:00   Barcelona  300.290   296.480   307.040   \n",
       "65      2016-09-12 19:00:00+02:00     Seville  305.960   304.150   307.150   \n",
       "...                           ...         ...      ...       ...       ...   \n",
       "158070  2017-04-10 09:00:00+02:00     Seville  293.820   283.150   309.150   \n",
       "158081  2015-07-22 15:00:00+02:00     Seville  312.370   310.150   315.150   \n",
       "158099  2015-08-06 18:00:00+02:00      Madrid  309.940   307.950   311.480   \n",
       "158105  2015-07-03 13:00:00+02:00   Barcelona  303.620   296.480   308.710   \n",
       "158117  2016-08-17 17:00:00+02:00    Valencia  306.250   302.450   308.150   \n",
       "\n",
       "        pressure  humidity  wind_speed  wind_deg  rain_1h  rain_3h  snow_3h  \\\n",
       "28          1013        12           3       210      0.0      0.0      0.0   \n",
       "34          1020        43           3       260      0.0      0.0      0.0   \n",
       "39           961        26           2       221      0.0      0.0      0.0   \n",
       "50          1017        69           6       210      3.0      0.0      0.0   \n",
       "65          1011        48           6       250      0.0      0.0      0.0   \n",
       "...          ...       ...         ...       ...      ...      ...      ...   \n",
       "158070      1020        67           4        60      0.0      0.0      0.0   \n",
       "158081      1014        19           2       310      0.0      0.0      0.0   \n",
       "158099      1014         9           5       200      0.0      0.0      0.0   \n",
       "158105      1023        51           4       100      0.0      0.0      0.0   \n",
       "158117      1071        25           2       315      0.0      0.0      0.0   \n",
       "\n",
       "        clouds_all  weather_id weather_main   weather_description weather_icon  \n",
       "28               0         800        clear          sky is clear          01d  \n",
       "34              20         801       clouds            few clouds          02d  \n",
       "39               0         800        clear          sky is clear          01d  \n",
       "50               0         502         rain  heavy intensity rain          10d  \n",
       "65               0         800        clear          sky is clear          01d  \n",
       "...            ...         ...          ...                   ...          ...  \n",
       "158070           0         800        clear          sky is clear          01d  \n",
       "158081           0         800        clear          sky is clear          01d  \n",
       "158099          20         801       clouds            few clouds          02d  \n",
       "158105           0         800        clear          sky is clear          01d  \n",
       "158117          20         801       clouds            few clouds          02d  \n",
       "\n",
       "[7777 rows x 17 columns]"
      ]
     },
     "execution_count": 17,
     "metadata": {},
     "output_type": "execute_result"
    }
   ],
   "source": [
    "#seleziono le righe con temperatura massima maggiore del 95 quantile \n",
    "df.loc[df['temp_max'] > df['temp_max'].quantile(0.95)] # "
   ]
  },
  {
   "cell_type": "code",
   "execution_count": 18,
   "metadata": {},
   "outputs": [
    {
     "name": "stdout",
     "output_type": "stream",
     "text": [
      "dataframe delle rilevazioni che si collocano all’interno del 5% delle temperature più alte\n",
      "(7777, 17)\n",
      "frequenza delle rilevazioni che si collocano all’interno del 5% delle temperature più alte per ogni città\n"
     ]
    },
    {
     "data": {
      "text/plain": [
       "city_name\n",
       " Barcelona     539\n",
       "Bilbao         346\n",
       "Madrid        1804\n",
       "Seville       4557\n",
       "Valencia       531\n",
       "dtype: int64"
      ]
     },
     "execution_count": 18,
     "metadata": {},
     "output_type": "execute_result"
    }
   ],
   "source": [
    "#5% dei valori\n",
    "print(\"dataframe delle rilevazioni che si collocano all’interno del 5% delle temperature più alte\")\n",
    "tempMax5x100 = df[df['temp_max'] > df['temp_max'].quantile(0.95)]\n",
    "print(tempMax5x100.shape)\n",
    "print(\"frequenza delle rilevazioni che si collocano all’interno del 5% delle temperature più alte per ogni città\")\n",
    "tempMax5x100.groupby('city_name').size() # per vedere la frequenza dei valori raggruppati per città\n",
    "# tempMax5x100.groupby('city_name').value_counts() # mostra le righe del dataframe raggruppate per città e ordinate per frequenza\n",
    "# tempMax5x100['city_name'].value_counts() # per vedere la frequenza dei valori raggruppati per città"
   ]
  },
  {
   "cell_type": "code",
   "execution_count": 19,
   "metadata": {},
   "outputs": [
    {
     "data": {
      "text/plain": [
       "<Axes: title={'center': 'frequenza delle rilevazioni che si collocano all’interno del 5% delle temperature più alte per ogni città'}>"
      ]
     },
     "execution_count": 19,
     "metadata": {},
     "output_type": "execute_result"
    },
    {
     "data": {
      "image/png": "[encoded data removed]",
      "text/plain": [
       "<Figure size 640x480 with 1 Axes>"
      ]
     },
     "metadata": {},
     "output_type": "display_data"
    }
   ],
   "source": [
    "tempMax5x100['city_name'].value_counts(normalize=True).plot(kind='bar', title='frequenza delle rilevazioni che si collocano all’interno del 5% delle temperature più alte per ogni città')\n",
    " # per vedere la frequenza dei valori raggruppati per città in un grafico a barre"
   ]
  },
  {
   "cell_type": "code",
   "execution_count": 20,
   "metadata": {},
   "outputs": [
    {
     "data": {
      "text/plain": [
       "<Axes: title={'center': 'frequenza delle rilevazioni che si collocano all’interno del 5% delle temperature più alte per ogni città'}, xlabel='city_name'>"
      ]
     },
     "execution_count": 20,
     "metadata": {},
     "output_type": "execute_result"
    },
    {
     "data": {
      "image/png": "[encoded data removed]",
      "text/plain": [
       "<Figure size 640x480 with 1 Axes>"
      ]
     },
     "metadata": {},
     "output_type": "display_data"
    }
   ],
   "source": [
    "tempMax5x100.groupby('city_name').size().plot(kind='bar', color='red', title='frequenza delle rilevazioni che si collocano all’interno del 5% delle temperature più alte per ogni città', grid=True)"
   ]
  },
  {
   "attachments": {},
   "cell_type": "markdown",
   "metadata": {},
   "source": [
    "3.2. Come è il tempo complessivo nei giorni in cui la temperatura massima è in quella fascia per ogni \n",
    "città? (punti 4)"
   ]
  },
  {
   "attachments": {},
   "cell_type": "markdown",
   "metadata": {},
   "source": [
    "per farlo ho raggruppato il dataframe che contiene le rilevazioni "
   ]
  },
  {
   "cell_type": "code",
   "execution_count": 21,
   "metadata": {},
   "outputs": [
    {
     "data": {
      "text/html": [
       "<div>\n",
       "<style scoped>\n",
       "    .dataframe tbody tr th:only-of-type {\n",
       "        vertical-align: middle;\n",
       "    }\n",
       "\n",
       "    .dataframe tbody tr th {\n",
       "        vertical-align: top;\n",
       "    }\n",
       "\n",
       "    .dataframe thead th {\n",
       "        text-align: right;\n",
       "    }\n",
       "</style>\n",
       "<table border=\"1\" class=\"dataframe\">\n",
       "  <thead>\n",
       "    <tr style=\"text-align: right;\">\n",
       "      <th>weather_main</th>\n",
       "      <th>clear</th>\n",
       "      <th>clouds</th>\n",
       "      <th>rain</th>\n",
       "    </tr>\n",
       "    <tr>\n",
       "      <th>city_name</th>\n",
       "      <th></th>\n",
       "      <th></th>\n",
       "      <th></th>\n",
       "    </tr>\n",
       "  </thead>\n",
       "  <tbody>\n",
       "    <tr>\n",
       "      <th>Barcelona</th>\n",
       "      <td>267</td>\n",
       "      <td>246</td>\n",
       "      <td>26</td>\n",
       "    </tr>\n",
       "    <tr>\n",
       "      <th>Bilbao</th>\n",
       "      <td>195</td>\n",
       "      <td>148</td>\n",
       "      <td>3</td>\n",
       "    </tr>\n",
       "    <tr>\n",
       "      <th>Madrid</th>\n",
       "      <td>1427</td>\n",
       "      <td>363</td>\n",
       "      <td>14</td>\n",
       "    </tr>\n",
       "    <tr>\n",
       "      <th>Seville</th>\n",
       "      <td>3856</td>\n",
       "      <td>581</td>\n",
       "      <td>120</td>\n",
       "    </tr>\n",
       "    <tr>\n",
       "      <th>Valencia</th>\n",
       "      <td>279</td>\n",
       "      <td>250</td>\n",
       "      <td>2</td>\n",
       "    </tr>\n",
       "  </tbody>\n",
       "</table>\n",
       "</div>"
      ],
      "text/plain": [
       "weather_main  clear  clouds  rain\n",
       "city_name                        \n",
       " Barcelona      267     246    26\n",
       "Bilbao          195     148     3\n",
       "Madrid         1427     363    14\n",
       "Seville        3856     581   120\n",
       "Valencia        279     250     2"
      ]
     },
     "execution_count": 21,
     "metadata": {},
     "output_type": "execute_result"
    }
   ],
   "source": [
    "# faccio un pivot table in cui le riche sono le città e le colonne sono i weather_main\n",
    "# fa la stessa roba di groupby ma trasforma già in un dataframe\n",
    "weather_cities = tempMax5x100.pivot_table(index='city_name', columns='weather_main', aggfunc='size', fill_value=0)\n",
    "weather_cities"
   ]
  },
  {
   "cell_type": "code",
   "execution_count": 22,
   "metadata": {},
   "outputs": [],
   "source": [
    "import seaborn as sns"
   ]
  },
  {
   "cell_type": "code",
   "execution_count": 23,
   "metadata": {},
   "outputs": [
    {
     "data": {
      "text/plain": [
       "<Axes: xlabel='city_name', ylabel='count'>"
      ]
     },
     "execution_count": 23,
     "metadata": {},
     "output_type": "execute_result"
    },
    {
     "data": {
      "image/png": "[encoded data removed]",
      "text/plain": [
       "<Figure size 640x480 with 1 Axes>"
      ]
     },
     "metadata": {},
     "output_type": "display_data"
    }
   ],
   "source": [
    "sns.countplot(tempMax5x100, x = 'city_name', hue='weather_main')\n"
   ]
  },
  {
   "attachments": {},
   "cell_type": "markdown",
   "metadata": {},
   "source": [
    "la partre seguente fa la stessa roba dell'usare una pivot table per relazionare due colonne del dataframe, con un countplot"
   ]
  },
  {
   "cell_type": "code",
   "execution_count": 24,
   "metadata": {},
   "outputs": [
    {
     "name": "stdout",
     "output_type": "stream",
     "text": [
      "weather_main  clear  clouds  rain\n",
      "city_name                        \n",
      " Barcelona      267     246    26\n",
      "Bilbao          195     148     3\n",
      "Madrid         1427     363    14\n",
      "Seville        3856     581   120\n",
      "Valencia        279     250     2\n",
      "[' Barcelona', 'Bilbao', 'Madrid', 'Seville', 'Valencia']\n"
     ]
    },
    {
     "data": {
      "image/png": "[encoded data removed]",
      "text/plain": [
       "<Figure size 1000x3000 with 5 Axes>"
      ]
     },
     "metadata": {},
     "output_type": "display_data"
    }
   ],
   "source": [
    "# tempMax5x100.groupby('city_name')['weather_main'].value_counts()\n",
    "# #4 grafici separati per città\n",
    "# data = tempMax5x100.groupby('city_name')['weather_main'].value_counts().unstack().replace(np.nan, 0)\n",
    "# print(data)\n",
    "# #4 grafici separati per città\n",
    "# cities = data.index.tolist()\n",
    "# print(cities)\n",
    "\n",
    "\n",
    "# # Set the layout parameters\n",
    "# num_rows = len(cities) # Number of plots\n",
    "# num_cols = 1\n",
    "\n",
    "# # Plot a bar plot for each city in the same figure\n",
    "# fig, axes = plt.subplots(num_rows, num_cols, figsize=(10, 6*num_rows))\n",
    "# for i, city in enumerate(cities):\n",
    "#     city_data = data.loc[city]  # Select data for the current city\n",
    "#     ax = axes[i]  # Select the appropriate subplot\n",
    "#     city_data.plot(kind='bar', ax=ax)\n",
    "#     ax.set_title(f'Weather Main Distribution in {city}')\n",
    "#     ax.set_xlabel('Weather Main')\n",
    "#     ax.set_ylabel('Count')\n",
    "\n",
    "# # Adjust the spacing between subplots\n",
    "# plt.tight_layout()\n",
    "\n",
    "# # Show the plot\n",
    "# plt.show()"
   ]
  },
  {
   "cell_type": "code",
   "execution_count": 25,
   "metadata": {},
   "outputs": [
    {
     "data": {
      "text/plain": [
       "0.000     157854\n",
       "2.700         14\n",
       "0.700         12\n",
       "0.100          9\n",
       "0.600          9\n",
       "0.200          9\n",
       "0.050          8\n",
       "2.899          6\n",
       "1.100          6\n",
       "1.125          6\n",
       "2.625          6\n",
       "0.750          4\n",
       "0.625          4\n",
       "1.250          3\n",
       "19.900         3\n",
       "2.856          3\n",
       "13.200         3\n",
       "2.900          3\n",
       "7.250          3\n",
       "0.250          3\n",
       "4.900          3\n",
       "6.100          3\n",
       "1.439          3\n",
       "1.200          3\n",
       "1.750          3\n",
       "4.800          3\n",
       "15.875         3\n",
       "2.746          3\n",
       "12.500         3\n",
       "0.125          3\n",
       "0.028          3\n",
       "20.900         3\n",
       "0.550          3\n",
       "8.400          3\n",
       "0.093          3\n",
       "0.850          3\n",
       "8.900          3\n",
       "0.400          3\n",
       "21.500         3\n",
       "3.200          3\n",
       "0.500          3\n",
       "0.010          3\n",
       "6.375          3\n",
       "7.400          3\n",
       "0.450          3\n",
       "8.000          3\n",
       "0.129          3\n",
       "8.500          2\n",
       "7.000          2\n",
       "0.001          2\n",
       "7.375          2\n",
       "2.800          2\n",
       "0.334          2\n",
       "0.025          2\n",
       "17.000         2\n",
       "3.900          2\n",
       "1.187          1\n",
       "0.243          1\n",
       "1.049          1\n",
       "Name: snow_3h, dtype: int64"
      ]
     },
     "execution_count": 25,
     "metadata": {},
     "output_type": "execute_result"
    }
   ],
   "source": [
    "df['snow_3h'].value_counts() # per vedere la frequenza dei valori"
   ]
  },
  {
   "attachments": {},
   "cell_type": "markdown",
   "metadata": {},
   "source": [
    "4.  Verificare  se  quando  nevica  la  temperatura  sia  prossima  alla  temperatura  di  congelamento \n",
    "(NOTA: il dataset riporta i valori in Kelvin)  (punti 2)"
   ]
  },
  {
   "cell_type": "code",
   "execution_count": 29,
   "metadata": {},
   "outputs": [
    {
     "data": {
      "text/plain": [
       "count    216.000000\n",
       "mean     276.118751\n",
       "std        1.764093\n",
       "min      272.399500\n",
       "25%      274.806742\n",
       "50%      276.356156\n",
       "75%      276.941250\n",
       "max      282.750000\n",
       "Name: temp, dtype: float64"
      ]
     },
     "execution_count": 29,
     "metadata": {},
     "output_type": "execute_result"
    }
   ],
   "source": [
    "snow =df.loc[df['snow_3h'] > 0]\n",
    "snow.shape\n",
    "snow['temp'].describe()"
   ]
  },
  {
   "attachments": {},
   "cell_type": "markdown",
   "metadata": {},
   "source": [
    "5.  Confrontare  l’escursione  termica  media  (temp_max-temp_min)  registrata  nei  giorni  in  cui nevica, con quella delle giornate che sono  all’interno del 5% delle temperature più alte  (punti 2)"
   ]
  },
  {
   "cell_type": "code",
   "execution_count": 35,
   "metadata": {},
   "outputs": [
    {
     "name": "stderr",
     "output_type": "stream",
     "text": [
      "C:\\Users\\39379\\AppData\\Local\\Temp\\ipykernel_26236\\4281109028.py:1: SettingWithCopyWarning: \n",
      "A value is trying to be set on a copy of a slice from a DataFrame.\n",
      "Try using .loc[row_indexer,col_indexer] = value instead\n",
      "\n",
      "See the caveats in the documentation: https://pandas.pydata.org/pandas-docs/stable/user_guide/indexing.html#returning-a-view-versus-a-copy\n",
      "  snow['escursione_termica'] = snow['temp_max'] - snow['temp_min']\n"
     ]
    },
    {
     "data": {
      "text/plain": [
       "count    216.0\n",
       "mean       0.0\n",
       "std        0.0\n",
       "min        0.0\n",
       "25%        0.0\n",
       "50%        0.0\n",
       "75%        0.0\n",
       "max        0.0\n",
       "Name: escursione_termica, dtype: float64"
      ]
     },
     "execution_count": 35,
     "metadata": {},
     "output_type": "execute_result"
    }
   ],
   "source": [
    "snow['escursione_termica'] = snow['temp_max'] - snow['temp_min']\n",
    "snow['escursione_termica'].describe()"
   ]
  },
  {
   "cell_type": "code",
   "execution_count": 37,
   "metadata": {},
   "outputs": [
    {
     "name": "stderr",
     "output_type": "stream",
     "text": [
      "C:\\Users\\39379\\AppData\\Local\\Temp\\ipykernel_26236\\2746979226.py:1: SettingWithCopyWarning: \n",
      "A value is trying to be set on a copy of a slice from a DataFrame.\n",
      "Try using .loc[row_indexer,col_indexer] = value instead\n",
      "\n",
      "See the caveats in the documentation: https://pandas.pydata.org/pandas-docs/stable/user_guide/indexing.html#returning-a-view-versus-a-copy\n",
      "  tempMax5x100['escursione_termica'] = tempMax5x100['temp_max'] - tempMax5x100['temp_min']\n"
     ]
    },
    {
     "data": {
      "text/plain": [
       "count    7777.000000\n",
       "mean        7.650676\n",
       "std         6.459451\n",
       "min         0.000000\n",
       "25%         2.090000\n",
       "50%         6.000000\n",
       "75%        12.000000\n",
       "max        33.330000\n",
       "Name: escursione_termica, dtype: float64"
      ]
     },
     "execution_count": 37,
     "metadata": {},
     "output_type": "execute_result"
    }
   ],
   "source": [
    "tempMax5x100['escursione_termica'] = tempMax5x100['temp_max'] - tempMax5x100['temp_min']\n",
    "tempMax5x100['escursione_termica'].describe()"
   ]
  },
  {
   "attachments": {},
   "cell_type": "markdown",
   "metadata": {},
   "source": [
    "la temperatura di congelamento è 273.15 K, quindi per i giorni in cui ha nevicato le temperatura è nell'intorno di questo valore"
   ]
  },
  {
   "cell_type": "code",
   "execution_count": null,
   "metadata": {},
   "outputs": [],
   "source": []
  },
  {
   "attachments": {},
   "cell_type": "markdown",
   "metadata": {},
   "source": [
    "# Parte 2"
   ]
  },
  {
   "cell_type": "code",
   "execution_count": 62,
   "metadata": {},
   "outputs": [],
   "source": [
    "#trasformatori e pipeline\n",
    "from sklearn.decomposition import PCA\n",
    "from sklearn.compose import ColumnTransformer\n",
    "from sklearn.feature_selection import SelectKBest\n",
    "from sklearn.preprocessing import OneHotEncoder\n",
    "from sklearn.preprocessing import StandardScaler\n",
    "from sklearn.preprocessing import OrdinalEncoder\n",
    "from sklearn.preprocessing import MaxAbsScaler\n",
    "from sklearn.preprocessing import MinMaxScaler\n",
    "from sklearn.preprocessing import Normalizer\n",
    "from sklearn.preprocessing import KBinsDiscretizer\n",
    "from sklearn.preprocessing import FunctionTransformer\n",
    "from sklearn.pipeline import Pipeline\n",
    "from sklearn.pipeline import FeatureUnion\n",
    "from sklearn.impute import SimpleImputer\n",
    "#metriche e modelli\n",
    "from sklearn.model_selection import train_test_split\n",
    "from sklearn.model_selection import GridSearchCV\n",
    "from sklearn.metrics import accuracy_score\n",
    "from sklearn.metrics import confusion_matrix\n",
    "from sklearn.metrics import classification_report\n",
    "from sklearn.model_selection import cross_val_score\n",
    "from sklearn.linear_model import LogisticRegression\n",
    "from sklearn.ensemble import RandomForestClassifier \n",
    "from sklearn.tree import DecisionTreeClassifier\n",
    "from sklearn.svm import SVC\n",
    "from sklearn.neighbors import KNeighborsClassifier\n",
    "from sklearn.naive_bayes import GaussianNB\n",
    "from sklearn.dummy import DummyClassifier\n",
    "\n",
    "\n",
    "\n",
    "#funzione per calcolare confusion matrix e il report\n",
    "def plot_confusion_matrix(confusion_matrix):\n",
    "    cm = confusion_matrix\n",
    "    # Calcolo dei conteggi non normalizzati\n",
    "    group_counts = [\"{0:0.0f}\\n({1:0.2%})\".format(value, value/np.sum(cm)) for value in cm.flatten()]\n",
    "\n",
    "    # Calcolo dei conteggi normalizzati\n",
    "    group_percentages = [\"{0:.2%}\\n({1:0.0f})\".format(value, value*np.sum(cm)) for value in cm.flatten()/np.sum(cm)]\n",
    "\n",
    "    # Trasformazione dei conteggi in una matrice quadrata\n",
    "    labels = np.asarray(group_counts).reshape(cm.shape[0],cm.shape[1])\n",
    "\n",
    "    plot = sns.heatmap(cm, annot = labels, fmt='', cmap='Blues')\n",
    "    plot.set_title('Confusion Matrix')\n",
    "    plot.set_ylabel('True class')\n",
    "    plot.set_xlabel('Predicted class')\n",
    "    plt.show()\n",
    "\n",
    "\n",
    "def gridSearch(model, param_grid, cv, X_train, y_train, X_test, y_test): #works also with pipelines\n",
    "    clf = GridSearchCV(model, param_grid, cv=cv)\n",
    "    clf.fit(X_train, y_train)\n",
    "    print('best parameters: ', clf.best_params_)\n",
    "    print('with accuracy: ', clf.best_score_)\n",
    "    print()\n",
    "    model.set_params(**clf.best_params_)\n",
    "    model.fit(X_train, y_train)\n",
    "    y_pred_train = model.predict(X_train)\n",
    "    acc_train = accuracy_score(y_train, y_pred_train)\n",
    "    print('acc sul train del modello con i parametri ottimizzati: ', acc_train)\n",
    "    y_pred = model.predict(X_test)\n",
    "    acc = accuracy_score(y_test, y_pred)\n",
    "    print('acc del modello con i parametri ottimizzati: : ', acc)\n",
    "    print('--------------------------------------------------------------------')\n",
    "    return model\n",
    "\n",
    "\n",
    "# def compareModels(model_list, X_train, y_train, X_test, y_test):\n",
    "#     for m in model_list:\n",
    "#         m.fit(X_train, y_train)\n",
    "#         y_pred_train = m.predict(X_train)\n",
    "#         y_pred = m.predict(X_test)\n",
    "#         print(m)\n",
    "#         print('accuracy train: ', accuracy_score(y_train, y_pred_train))\n",
    "#         print('accuracy: ', accuracy_score(y_test, y_pred))\n",
    "#         cm = confusion_matrix(y_test, y_pred)\n",
    "#         plot_confusion_matrix(cm)\n",
    "#         print()\n",
    "#         print()\n",
    "#         print('classification report: ', classification_report(y_test, y_pred))\n",
    "\n",
    "#         print('--------------------------------------------------------------------')\n",
    "\n",
    "#prende in input un modello o una lista di modelli e fa il cross validation\n",
    "def crossValidation(model,cv, X, y):\n",
    "        cross_val = cross_val_score(m, X, y, cv = cv, scoring = 'accuracy') \n",
    "        print(model)\n",
    "        # print()\n",
    "        print('cross validation scores: ', cross_val)\n",
    "        # print()\n",
    "        # print('accuracy media', cross_val.mean())\n",
    "        # print()\n",
    "        print(\"Accuracy con incertezza: %0.2f (+/- %0.2f)\" % (cross_val.mean(), cross_val.std() * 2))\n",
    "        print('--------------------------------------------------------------------')\n",
    "        return model\n",
    "\n",
    "\n",
    "\n",
    "# allena il modello su X_train e y_train\n",
    "# stampa l'accuracy sul train e sul test\n",
    "def  testModel(model, X_train, y_train, X_test, y_test):\n",
    "    model.fit(X_train, y_train)\n",
    "    y_pred_train = model.predict(X_train)\n",
    "    y_pred = model.predict(X_test)\n",
    "    print(model)\n",
    "    print('accuracy train: ', accuracy_score(y_train, y_pred_train))\n",
    "    print('accuracy test: ', accuracy_score(y_test, y_pred))\n",
    "    print('--------------------------------------------------------------------')    \n",
    "    return model\n",
    "\n",
    "# allena il modello su X_train e y_train\n",
    "# stampa l'accuracy sul train e sul test\n",
    "# stampa la confusion matrix e il classification report\n",
    "def testModelWithConfusionMatrix(model, X_train, y_train, X_test, y_test):\n",
    "    model.fit(X_train, y_train)\n",
    "    y_pred_train = model.predict(X_train)\n",
    "    y_pred = model.predict(X_test)\n",
    "    print(model)\n",
    "    print('accuracy train: ', accuracy_score(y_train, y_pred_train))\n",
    "    print('accuracy test: ', accuracy_score(y_test, y_pred))\n",
    "    cm = confusion_matrix(y_test, y_pred)\n",
    "    plot_confusion_matrix(cm)\n",
    "    print()\n",
    "    print('--------------------------------------------------------------------')\n",
    "    print('classification report: ')\n",
    "    print()\n",
    "    print(classification_report(y_test, y_pred))\n",
    "    print('--------------------------------------------------------------------')\n",
    "\n",
    "# input d'esempio \n",
    "# models = [LogisticRegression(solver = 'liblinear'), DecisionTreeClassifier()]\n",
    "# pipeline = Pipeline(steps=[('col_trasf', col_trasf), ('scaler', scaler), ('models_list', models)])\n",
    "# def testPipelineOnModels(pipeline, models_list, X_train, y_train, X_test, y_test):\n",
    "#     for m in models_list:\n",
    "#         print(m)\n",
    "#         pipeline.fit(X_train, y_train)\n",
    "#         y_pred_train = pipeline.predict(X_train)\n",
    "#         y_pred = pipeline.predict(X_test)\n",
    "#         print('accuracy train: ', accuracy_score(y_train, y_pred_train))\n",
    "#         print('accuracy: ', accuracy_score(y_test, y_pred))\n",
    "#         print()\n",
    "#         print()\n",
    "#         print('classification report: ', classification_report(y_test, y_pred))\n",
    "\n",
    "#         print('--------------------------------------------------------------------')\n",
    "  \n",
    "\n",
    "# per fare il feature union fra il dataset originale e le nuove colonne da aggiungere\n",
    "def identity(X):\n",
    "  return X\n",
    "identity = FunctionTransformer(identity, validate=True)\n",
    "\n",
    "#trasforma le colonne categoriche in numeriche con ordinal encoder\n",
    "def categoricalToNumerical(dt):\n",
    "    categorical_columns = dt.select_dtypes(include=['object']).columns.tolist()\n",
    "    data = dt.copy()\n",
    "    oe = OrdinalEncoder()\n",
    "    data[categorical_columns] = oe.fit_transform(data[categorical_columns])\n",
    "    data = pd.DataFrame(data, columns = dt.columns)\n",
    "    return data\n",
    "\n",
    "# ritorna lista delle colonne categoriche di un dataframe dato in input\n",
    "def categoricalColumns(dt):\n",
    "    categorical_columns = dt.select_dtypes(include=['object']).columns.tolist()\n",
    "    return categorical_columns\n",
    "\n",
    "# ritorna lista delle colonne numeriche di un dataframe dato in input\n",
    "def numericalColumns(dt):\n",
    "    numerical_columns = dt.select_dtypes(include=['int64', 'float64']).columns.tolist()\n",
    "    return numerical_columns\n"
   ]
  },
  {
   "cell_type": "code",
   "execution_count": 63,
   "metadata": {},
   "outputs": [
    {
     "name": "stdout",
     "output_type": "stream",
     "text": [
      "shape: (158131, 17)\n"
     ]
    },
    {
     "data": {
      "text/html": [
       "<div>\n",
       "<style scoped>\n",
       "    .dataframe tbody tr th:only-of-type {\n",
       "        vertical-align: middle;\n",
       "    }\n",
       "\n",
       "    .dataframe tbody tr th {\n",
       "        vertical-align: top;\n",
       "    }\n",
       "\n",
       "    .dataframe thead th {\n",
       "        text-align: right;\n",
       "    }\n",
       "</style>\n",
       "<table border=\"1\" class=\"dataframe\">\n",
       "  <thead>\n",
       "    <tr style=\"text-align: right;\">\n",
       "      <th></th>\n",
       "      <th>dt_iso</th>\n",
       "      <th>city_name</th>\n",
       "      <th>temp</th>\n",
       "      <th>temp_min</th>\n",
       "      <th>temp_max</th>\n",
       "      <th>pressure</th>\n",
       "      <th>humidity</th>\n",
       "      <th>wind_speed</th>\n",
       "      <th>wind_deg</th>\n",
       "      <th>rain_1h</th>\n",
       "      <th>rain_3h</th>\n",
       "      <th>snow_3h</th>\n",
       "      <th>clouds_all</th>\n",
       "      <th>weather_id</th>\n",
       "      <th>weather_main</th>\n",
       "      <th>weather_description</th>\n",
       "      <th>weather_icon</th>\n",
       "    </tr>\n",
       "  </thead>\n",
       "  <tbody>\n",
       "    <tr>\n",
       "      <th>0</th>\n",
       "      <td>2016-05-26 09:00:00+02:00</td>\n",
       "      <td>Bilbao</td>\n",
       "      <td>288.420</td>\n",
       "      <td>285.150</td>\n",
       "      <td>290.930</td>\n",
       "      <td>1012</td>\n",
       "      <td>93</td>\n",
       "      <td>0</td>\n",
       "      <td>0</td>\n",
       "      <td>0.0</td>\n",
       "      <td>0.0</td>\n",
       "      <td>0.0</td>\n",
       "      <td>75</td>\n",
       "      <td>803</td>\n",
       "      <td>clouds</td>\n",
       "      <td>broken clouds</td>\n",
       "      <td>04d</td>\n",
       "    </tr>\n",
       "    <tr>\n",
       "      <th>1</th>\n",
       "      <td>2016-07-16 10:00:00+02:00</td>\n",
       "      <td>Madrid</td>\n",
       "      <td>299.037</td>\n",
       "      <td>299.037</td>\n",
       "      <td>299.037</td>\n",
       "      <td>961</td>\n",
       "      <td>44</td>\n",
       "      <td>2</td>\n",
       "      <td>83</td>\n",
       "      <td>0.0</td>\n",
       "      <td>0.0</td>\n",
       "      <td>0.0</td>\n",
       "      <td>0</td>\n",
       "      <td>800</td>\n",
       "      <td>clear</td>\n",
       "      <td>sky is clear</td>\n",
       "      <td>01d</td>\n",
       "    </tr>\n",
       "  </tbody>\n",
       "</table>\n",
       "</div>"
      ],
      "text/plain": [
       "                      dt_iso city_name     temp  temp_min  temp_max  pressure  \\\n",
       "0  2016-05-26 09:00:00+02:00    Bilbao  288.420   285.150   290.930      1012   \n",
       "1  2016-07-16 10:00:00+02:00    Madrid  299.037   299.037   299.037       961   \n",
       "\n",
       "   humidity  wind_speed  wind_deg  rain_1h  rain_3h  snow_3h  clouds_all  \\\n",
       "0        93           0         0      0.0      0.0      0.0          75   \n",
       "1        44           2        83      0.0      0.0      0.0           0   \n",
       "\n",
       "   weather_id weather_main weather_description weather_icon  \n",
       "0         803       clouds       broken clouds          04d  \n",
       "1         800        clear        sky is clear          01d  "
      ]
     },
     "execution_count": 63,
     "metadata": {},
     "output_type": "execute_result"
    }
   ],
   "source": [
    "#Eliminare gli attributi\n",
    "# [\"dt_iso\",\"city_name\",\"weather_description\", \"weather_icon\",\"weather_id\",\"clouds_all\"]\n",
    "\n",
    "dataset = pd.read_csv('weather_train.csv')\n",
    "print('shape:',dataset.shape)\n",
    "dataset.head(2)"
   ]
  },
  {
   "cell_type": "code",
   "execution_count": 64,
   "metadata": {},
   "outputs": [
    {
     "name": "stdout",
     "output_type": "stream",
     "text": [
      "shape: (158131, 11)\n"
     ]
    },
    {
     "data": {
      "text/html": [
       "<div>\n",
       "<style scoped>\n",
       "    .dataframe tbody tr th:only-of-type {\n",
       "        vertical-align: middle;\n",
       "    }\n",
       "\n",
       "    .dataframe tbody tr th {\n",
       "        vertical-align: top;\n",
       "    }\n",
       "\n",
       "    .dataframe thead th {\n",
       "        text-align: right;\n",
       "    }\n",
       "</style>\n",
       "<table border=\"1\" class=\"dataframe\">\n",
       "  <thead>\n",
       "    <tr style=\"text-align: right;\">\n",
       "      <th></th>\n",
       "      <th>temp</th>\n",
       "      <th>temp_min</th>\n",
       "      <th>temp_max</th>\n",
       "      <th>pressure</th>\n",
       "      <th>humidity</th>\n",
       "      <th>wind_speed</th>\n",
       "      <th>wind_deg</th>\n",
       "      <th>rain_1h</th>\n",
       "      <th>rain_3h</th>\n",
       "      <th>snow_3h</th>\n",
       "      <th>weather_main</th>\n",
       "    </tr>\n",
       "  </thead>\n",
       "  <tbody>\n",
       "    <tr>\n",
       "      <th>0</th>\n",
       "      <td>288.420</td>\n",
       "      <td>285.150</td>\n",
       "      <td>290.930</td>\n",
       "      <td>1012</td>\n",
       "      <td>93</td>\n",
       "      <td>0</td>\n",
       "      <td>0</td>\n",
       "      <td>0.0</td>\n",
       "      <td>0.0</td>\n",
       "      <td>0.0</td>\n",
       "      <td>clouds</td>\n",
       "    </tr>\n",
       "    <tr>\n",
       "      <th>1</th>\n",
       "      <td>299.037</td>\n",
       "      <td>299.037</td>\n",
       "      <td>299.037</td>\n",
       "      <td>961</td>\n",
       "      <td>44</td>\n",
       "      <td>2</td>\n",
       "      <td>83</td>\n",
       "      <td>0.0</td>\n",
       "      <td>0.0</td>\n",
       "      <td>0.0</td>\n",
       "      <td>clear</td>\n",
       "    </tr>\n",
       "  </tbody>\n",
       "</table>\n",
       "</div>"
      ],
      "text/plain": [
       "      temp  temp_min  temp_max  pressure  humidity  wind_speed  wind_deg  \\\n",
       "0  288.420   285.150   290.930      1012        93           0         0   \n",
       "1  299.037   299.037   299.037       961        44           2        83   \n",
       "\n",
       "   rain_1h  rain_3h  snow_3h weather_main  \n",
       "0      0.0      0.0      0.0       clouds  \n",
       "1      0.0      0.0      0.0        clear  "
      ]
     },
     "execution_count": 64,
     "metadata": {},
     "output_type": "execute_result"
    }
   ],
   "source": [
    "dataset_dropped = dataset.drop([\"dt_iso\",\"city_name\",\"weather_description\", \"weather_icon\",\"weather_id\",\"clouds_all\"], axis=1)\n",
    "print('shape:',dataset_dropped.shape)\n",
    "dataset_dropped.head(2)\n"
   ]
  },
  {
   "cell_type": "code",
   "execution_count": 65,
   "metadata": {},
   "outputs": [
    {
     "data": {
      "text/plain": [
       "array([1., 0., 2.])"
      ]
     },
     "execution_count": 65,
     "metadata": {},
     "output_type": "execute_result"
    }
   ],
   "source": [
    "# Convertire l’attributo 'weather_main' in numerico in maniera opportuna.\n",
    "\n",
    "dataset_num = categoricalToNumerical(dataset_dropped)\n",
    "dataset_num.head(2)\n",
    "\n",
    "dataset_num['weather_main'].unique()"
   ]
  },
  {
   "cell_type": "code",
   "execution_count": 66,
   "metadata": {},
   "outputs": [],
   "source": [
    "X = dataset_num.drop('weather_main', axis=1)\n",
    "y = dataset_num['weather_main']"
   ]
  },
  {
   "cell_type": "code",
   "execution_count": 67,
   "metadata": {},
   "outputs": [],
   "source": [
    "X_train, X_test, y_train, y_test = train_test_split(X, y, test_size=1/3, random_state=0)"
   ]
  },
  {
   "cell_type": "code",
   "execution_count": 68,
   "metadata": {},
   "outputs": [
    {
     "name": "stdout",
     "output_type": "stream",
     "text": [
      "(105420, 10) (52711, 10) (105420,) (52711,)\n"
     ]
    }
   ],
   "source": [
    "print(X_train.shape, X_test.shape, y_train.shape, y_test.shape)\n"
   ]
  },
  {
   "cell_type": "code",
   "execution_count": 69,
   "metadata": {},
   "outputs": [
    {
     "name": "stderr",
     "output_type": "stream",
     "text": [
      "c:\\Users\\39379\\anaconda3\\lib\\site-packages\\sklearn\\svm\\_base.py:1244: ConvergenceWarning: Liblinear failed to converge, increase the number of iterations.\n",
      "  warnings.warn(\n"
     ]
    },
    {
     "name": "stdout",
     "output_type": "stream",
     "text": [
      "LogisticRegression(solver='liblinear')\n",
      "accuracy train:  0.6359893758300132\n",
      "accuracy test:  0.6358445106334542\n"
     ]
    },
    {
     "data": {
      "image/png": "[encoded data removed]",
      "text/plain": [
       "<Figure size 640x480 with 2 Axes>"
      ]
     },
     "metadata": {},
     "output_type": "display_data"
    },
    {
     "name": "stdout",
     "output_type": "stream",
     "text": [
      "\n",
      "--------------------------------------------------------------------\n",
      "classification report: \n",
      "\n",
      "              precision    recall  f1-score   support\n",
      "\n",
      "         0.0       0.62      0.70      0.66     26037\n",
      "         1.0       0.59      0.53      0.56     21211\n",
      "         2.0       1.00      0.75      0.86      5463\n",
      "\n",
      "    accuracy                           0.64     52711\n",
      "   macro avg       0.73      0.66      0.69     52711\n",
      "weighted avg       0.64      0.64      0.64     52711\n",
      "\n",
      "--------------------------------------------------------------------\n",
      "DecisionTreeClassifier()\n",
      "accuracy train:  0.9968127490039841\n",
      "accuracy test:  0.699910834550663\n"
     ]
    },
    {
     "data": {
      "image/png": "[encoded data removed]",
      "text/plain": [
       "<Figure size 640x480 with 2 Axes>"
      ]
     },
     "metadata": {},
     "output_type": "display_data"
    },
    {
     "name": "stdout",
     "output_type": "stream",
     "text": [
      "\n",
      "--------------------------------------------------------------------\n",
      "classification report: \n",
      "\n",
      "              precision    recall  f1-score   support\n",
      "\n",
      "         0.0       0.70      0.70      0.70     26037\n",
      "         1.0       0.63      0.62      0.63     21211\n",
      "         2.0       1.00      1.00      1.00      5463\n",
      "\n",
      "    accuracy                           0.70     52711\n",
      "   macro avg       0.77      0.77      0.77     52711\n",
      "weighted avg       0.70      0.70      0.70     52711\n",
      "\n",
      "--------------------------------------------------------------------\n"
     ]
    }
   ],
   "source": [
    "models = [LogisticRegression(solver = 'liblinear'), DecisionTreeClassifier()]\n",
    "\n",
    "for m in models:\n",
    "    testModelWithConfusionMatrix(m, X_train, y_train, X_test, y_test)\n"
   ]
  },
  {
   "cell_type": "code",
   "execution_count": 70,
   "metadata": {},
   "outputs": [
    {
     "data": {
      "text/plain": [
       "0.0    0.491681\n",
       "1.0    0.405550\n",
       "2.0    0.102769\n",
       "Name: weather_main, dtype: float64"
      ]
     },
     "execution_count": 70,
     "metadata": {},
     "output_type": "execute_result"
    }
   ],
   "source": [
    "y.value_counts(normalize=True)"
   ]
  },
  {
   "attachments": {},
   "cell_type": "markdown",
   "metadata": {},
   "source": [
    "emerge dall'analisi delle confusion matrix che le classi del dataset sono sbilanciate. Questo impata sui modelli, in quanto tenderanno a predire più spesso la classi più frequenti, avendo più esempi per imparare a classificarla.\n",
    "In questo caso vediamo che i valori più predetti sono 0, 1.\n"
   ]
  },
  {
   "attachments": {},
   "cell_type": "markdown",
   "metadata": {},
   "source": [
    "# 2.2"
   ]
  },
  {
   "cell_type": "code",
   "execution_count": 71,
   "metadata": {},
   "outputs": [
    {
     "name": "stderr",
     "output_type": "stream",
     "text": [
      "c:\\Users\\39379\\anaconda3\\lib\\site-packages\\sklearn\\linear_model\\_logistic.py:458: ConvergenceWarning: lbfgs failed to converge (status=1):\n",
      "STOP: TOTAL NO. of ITERATIONS REACHED LIMIT.\n",
      "\n",
      "Increase the number of iterations (max_iter) or scale the data as shown in:\n",
      "    https://scikit-learn.org/stable/modules/preprocessing.html\n",
      "Please also refer to the documentation for alternative solver options:\n",
      "    https://scikit-learn.org/stable/modules/linear_model.html#logistic-regression\n",
      "  n_iter_i = _check_optimize_result(\n",
      "c:\\Users\\39379\\anaconda3\\lib\\site-packages\\sklearn\\linear_model\\_logistic.py:458: ConvergenceWarning: lbfgs failed to converge (status=1):\n",
      "STOP: TOTAL NO. of ITERATIONS REACHED LIMIT.\n",
      "\n",
      "Increase the number of iterations (max_iter) or scale the data as shown in:\n",
      "    https://scikit-learn.org/stable/modules/preprocessing.html\n",
      "Please also refer to the documentation for alternative solver options:\n",
      "    https://scikit-learn.org/stable/modules/linear_model.html#logistic-regression\n",
      "  n_iter_i = _check_optimize_result(\n",
      "c:\\Users\\39379\\anaconda3\\lib\\site-packages\\sklearn\\linear_model\\_logistic.py:458: ConvergenceWarning: lbfgs failed to converge (status=1):\n",
      "STOP: TOTAL NO. of ITERATIONS REACHED LIMIT.\n",
      "\n",
      "Increase the number of iterations (max_iter) or scale the data as shown in:\n",
      "    https://scikit-learn.org/stable/modules/preprocessing.html\n",
      "Please also refer to the documentation for alternative solver options:\n",
      "    https://scikit-learn.org/stable/modules/linear_model.html#logistic-regression\n",
      "  n_iter_i = _check_optimize_result(\n",
      "c:\\Users\\39379\\anaconda3\\lib\\site-packages\\sklearn\\linear_model\\_logistic.py:458: ConvergenceWarning: lbfgs failed to converge (status=1):\n",
      "STOP: TOTAL NO. of ITERATIONS REACHED LIMIT.\n",
      "\n",
      "Increase the number of iterations (max_iter) or scale the data as shown in:\n",
      "    https://scikit-learn.org/stable/modules/preprocessing.html\n",
      "Please also refer to the documentation for alternative solver options:\n",
      "    https://scikit-learn.org/stable/modules/linear_model.html#logistic-regression\n",
      "  n_iter_i = _check_optimize_result(\n",
      "c:\\Users\\39379\\anaconda3\\lib\\site-packages\\sklearn\\linear_model\\_logistic.py:458: ConvergenceWarning: lbfgs failed to converge (status=1):\n",
      "STOP: TOTAL NO. of ITERATIONS REACHED LIMIT.\n",
      "\n",
      "Increase the number of iterations (max_iter) or scale the data as shown in:\n",
      "    https://scikit-learn.org/stable/modules/preprocessing.html\n",
      "Please also refer to the documentation for alternative solver options:\n",
      "    https://scikit-learn.org/stable/modules/linear_model.html#logistic-regression\n",
      "  n_iter_i = _check_optimize_result(\n",
      "c:\\Users\\39379\\anaconda3\\lib\\site-packages\\sklearn\\linear_model\\_logistic.py:458: ConvergenceWarning: lbfgs failed to converge (status=1):\n",
      "STOP: TOTAL NO. of ITERATIONS REACHED LIMIT.\n",
      "\n",
      "Increase the number of iterations (max_iter) or scale the data as shown in:\n",
      "    https://scikit-learn.org/stable/modules/preprocessing.html\n",
      "Please also refer to the documentation for alternative solver options:\n",
      "    https://scikit-learn.org/stable/modules/linear_model.html#logistic-regression\n",
      "  n_iter_i = _check_optimize_result(\n",
      "c:\\Users\\39379\\anaconda3\\lib\\site-packages\\sklearn\\linear_model\\_logistic.py:458: ConvergenceWarning: lbfgs failed to converge (status=1):\n",
      "STOP: TOTAL NO. of ITERATIONS REACHED LIMIT.\n",
      "\n",
      "Increase the number of iterations (max_iter) or scale the data as shown in:\n",
      "    https://scikit-learn.org/stable/modules/preprocessing.html\n",
      "Please also refer to the documentation for alternative solver options:\n",
      "    https://scikit-learn.org/stable/modules/linear_model.html#logistic-regression\n",
      "  n_iter_i = _check_optimize_result(\n",
      "c:\\Users\\39379\\anaconda3\\lib\\site-packages\\sklearn\\linear_model\\_logistic.py:458: ConvergenceWarning: lbfgs failed to converge (status=1):\n",
      "STOP: TOTAL NO. of ITERATIONS REACHED LIMIT.\n",
      "\n",
      "Increase the number of iterations (max_iter) or scale the data as shown in:\n",
      "    https://scikit-learn.org/stable/modules/preprocessing.html\n",
      "Please also refer to the documentation for alternative solver options:\n",
      "    https://scikit-learn.org/stable/modules/linear_model.html#logistic-regression\n",
      "  n_iter_i = _check_optimize_result(\n",
      "c:\\Users\\39379\\anaconda3\\lib\\site-packages\\sklearn\\linear_model\\_logistic.py:458: ConvergenceWarning: lbfgs failed to converge (status=1):\n",
      "STOP: TOTAL NO. of ITERATIONS REACHED LIMIT.\n",
      "\n",
      "Increase the number of iterations (max_iter) or scale the data as shown in:\n",
      "    https://scikit-learn.org/stable/modules/preprocessing.html\n",
      "Please also refer to the documentation for alternative solver options:\n",
      "    https://scikit-learn.org/stable/modules/linear_model.html#logistic-regression\n",
      "  n_iter_i = _check_optimize_result(\n",
      "c:\\Users\\39379\\anaconda3\\lib\\site-packages\\sklearn\\linear_model\\_logistic.py:458: ConvergenceWarning: lbfgs failed to converge (status=1):\n",
      "STOP: TOTAL NO. of ITERATIONS REACHED LIMIT.\n",
      "\n",
      "Increase the number of iterations (max_iter) or scale the data as shown in:\n",
      "    https://scikit-learn.org/stable/modules/preprocessing.html\n",
      "Please also refer to the documentation for alternative solver options:\n",
      "    https://scikit-learn.org/stable/modules/linear_model.html#logistic-regression\n",
      "  n_iter_i = _check_optimize_result(\n"
     ]
    },
    {
     "name": "stdout",
     "output_type": "stream",
     "text": [
      "LogisticRegression()\n",
      "cross validation scores:  [0.50853674 0.51375451 0.50806299 0.50901157 0.51533548 0.51192057\n",
      " 0.50603933 0.51179409 0.50888509 0.51615759]\n",
      "Accuracy con incertezza: 0.51 (+/- 0.01)\n",
      "--------------------------------------------------------------------\n",
      "DecisionTreeClassifier()\n",
      "cross validation scores:  [0.71417731 0.70770885 0.7094163  0.71245178 0.71276798 0.71169291\n",
      " 0.70853096 0.71042813 0.70694998 0.70486309]\n",
      "Accuracy con incertezza: 0.71 (+/- 0.01)\n",
      "--------------------------------------------------------------------\n"
     ]
    }
   ],
   "source": [
    "models = [LogisticRegression(), DecisionTreeClassifier()]\n",
    "for m in models:\n",
    "    crossValidation(m, 10, X, y)"
   ]
  },
  {
   "attachments": {},
   "cell_type": "markdown",
   "metadata": {},
   "source": [
    " # 2.3"
   ]
  },
  {
   "cell_type": "code",
   "execution_count": 79,
   "metadata": {},
   "outputs": [
    {
     "data": {
      "text/html": [
       "<div>\n",
       "<style scoped>\n",
       "    .dataframe tbody tr th:only-of-type {\n",
       "        vertical-align: middle;\n",
       "    }\n",
       "\n",
       "    .dataframe tbody tr th {\n",
       "        vertical-align: top;\n",
       "    }\n",
       "\n",
       "    .dataframe thead th {\n",
       "        text-align: right;\n",
       "    }\n",
       "</style>\n",
       "<table border=\"1\" class=\"dataframe\">\n",
       "  <thead>\n",
       "    <tr style=\"text-align: right;\">\n",
       "      <th></th>\n",
       "      <th>temp</th>\n",
       "      <th>temp_min</th>\n",
       "      <th>temp_max</th>\n",
       "      <th>pressure</th>\n",
       "      <th>humidity</th>\n",
       "      <th>wind_speed</th>\n",
       "      <th>wind_deg</th>\n",
       "      <th>rain_1h</th>\n",
       "      <th>rain_3h</th>\n",
       "      <th>snow_3h</th>\n",
       "    </tr>\n",
       "  </thead>\n",
       "  <tbody>\n",
       "    <tr>\n",
       "      <th>0</th>\n",
       "      <td>0.254738</td>\n",
       "      <td>0.251850</td>\n",
       "      <td>0.256955</td>\n",
       "      <td>0.893817</td>\n",
       "      <td>0.082139</td>\n",
       "      <td>0.000000</td>\n",
       "      <td>0.000000</td>\n",
       "      <td>0.0</td>\n",
       "      <td>0.0</td>\n",
       "      <td>0.0</td>\n",
       "    </tr>\n",
       "    <tr>\n",
       "      <th>1</th>\n",
       "      <td>0.272912</td>\n",
       "      <td>0.272912</td>\n",
       "      <td>0.272912</td>\n",
       "      <td>0.877043</td>\n",
       "      <td>0.040156</td>\n",
       "      <td>0.001825</td>\n",
       "      <td>0.075749</td>\n",
       "      <td>0.0</td>\n",
       "      <td>0.0</td>\n",
       "      <td>0.0</td>\n",
       "    </tr>\n",
       "  </tbody>\n",
       "</table>\n",
       "</div>"
      ],
      "text/plain": [
       "       temp  temp_min  temp_max  pressure  humidity  wind_speed  wind_deg  \\\n",
       "0  0.254738  0.251850  0.256955  0.893817  0.082139    0.000000  0.000000   \n",
       "1  0.272912  0.272912  0.272912  0.877043  0.040156    0.001825  0.075749   \n",
       "\n",
       "   rain_1h  rain_3h  snow_3h  \n",
       "0      0.0      0.0      0.0  \n",
       "1      0.0      0.0      0.0  "
      ]
     },
     "execution_count": 79,
     "metadata": {},
     "output_type": "execute_result"
    }
   ],
   "source": [
    "\n",
    "normalizer = Normalizer()\n",
    "X_norm = normalizer.fit_transform(X)\n",
    "X_norm = pd.DataFrame(X_norm, columns = X.columns)\n",
    "X_norm.head(2)"
   ]
  },
  {
   "cell_type": "code",
   "execution_count": 73,
   "metadata": {},
   "outputs": [],
   "source": [
    "X_norm_train, X_norm_test, y_train, y_test = train_test_split(X_norm, y, test_size=1/3, random_state=0)"
   ]
  },
  {
   "cell_type": "code",
   "execution_count": 74,
   "metadata": {},
   "outputs": [
    {
     "name": "stdout",
     "output_type": "stream",
     "text": [
      "DecisionTreeClassifier()\n",
      "accuracy train:  0.9968127490039841\n",
      "accuracy test:  0.6864221889169244\n",
      "--------------------------------------------------------------------\n"
     ]
    },
    {
     "data": {
      "text/html": [
       "<style>#sk-container-id-1 {color: black;background-color: white;}#sk-container-id-1 pre{padding: 0;}#sk-container-id-1 div.sk-toggleable {background-color: white;}#sk-container-id-1 label.sk-toggleable__label {cursor: pointer;display: block;width: 100%;margin-bottom: 0;padding: 0.3em;box-sizing: border-box;text-align: center;}#sk-container-id-1 label.sk-toggleable__label-arrow:before {content: \"▸\";float: left;margin-right: 0.25em;color: #696969;}#sk-container-id-1 label.sk-toggleable__label-arrow:hover:before {color: black;}#sk-container-id-1 div.sk-estimator:hover label.sk-toggleable__label-arrow:before {color: black;}#sk-container-id-1 div.sk-toggleable__content {max-height: 0;max-width: 0;overflow: hidden;text-align: left;background-color: #f0f8ff;}#sk-container-id-1 div.sk-toggleable__content pre {margin: 0.2em;color: black;border-radius: 0.25em;background-color: #f0f8ff;}#sk-container-id-1 input.sk-toggleable__control:checked~div.sk-toggleable__content {max-height: 200px;max-width: 100%;overflow: auto;}#sk-container-id-1 input.sk-toggleable__control:checked~label.sk-toggleable__label-arrow:before {content: \"▾\";}#sk-container-id-1 div.sk-estimator input.sk-toggleable__control:checked~label.sk-toggleable__label {background-color: #d4ebff;}#sk-container-id-1 div.sk-label input.sk-toggleable__control:checked~label.sk-toggleable__label {background-color: #d4ebff;}#sk-container-id-1 input.sk-hidden--visually {border: 0;clip: rect(1px 1px 1px 1px);clip: rect(1px, 1px, 1px, 1px);height: 1px;margin: -1px;overflow: hidden;padding: 0;position: absolute;width: 1px;}#sk-container-id-1 div.sk-estimator {font-family: monospace;background-color: #f0f8ff;border: 1px dotted black;border-radius: 0.25em;box-sizing: border-box;margin-bottom: 0.5em;}#sk-container-id-1 div.sk-estimator:hover {background-color: #d4ebff;}#sk-container-id-1 div.sk-parallel-item::after {content: \"\";width: 100%;border-bottom: 1px solid gray;flex-grow: 1;}#sk-container-id-1 div.sk-label:hover label.sk-toggleable__label {background-color: #d4ebff;}#sk-container-id-1 div.sk-serial::before {content: \"\";position: absolute;border-left: 1px solid gray;box-sizing: border-box;top: 0;bottom: 0;left: 50%;z-index: 0;}#sk-container-id-1 div.sk-serial {display: flex;flex-direction: column;align-items: center;background-color: white;padding-right: 0.2em;padding-left: 0.2em;position: relative;}#sk-container-id-1 div.sk-item {position: relative;z-index: 1;}#sk-container-id-1 div.sk-parallel {display: flex;align-items: stretch;justify-content: center;background-color: white;position: relative;}#sk-container-id-1 div.sk-item::before, #sk-container-id-1 div.sk-parallel-item::before {content: \"\";position: absolute;border-left: 1px solid gray;box-sizing: border-box;top: 0;bottom: 0;left: 50%;z-index: -1;}#sk-container-id-1 div.sk-parallel-item {display: flex;flex-direction: column;z-index: 1;position: relative;background-color: white;}#sk-container-id-1 div.sk-parallel-item:first-child::after {align-self: flex-end;width: 50%;}#sk-container-id-1 div.sk-parallel-item:last-child::after {align-self: flex-start;width: 50%;}#sk-container-id-1 div.sk-parallel-item:only-child::after {width: 0;}#sk-container-id-1 div.sk-dashed-wrapped {border: 1px dashed gray;margin: 0 0.4em 0.5em 0.4em;box-sizing: border-box;padding-bottom: 0.4em;background-color: white;}#sk-container-id-1 div.sk-label label {font-family: monospace;font-weight: bold;display: inline-block;line-height: 1.2em;}#sk-container-id-1 div.sk-label-container {text-align: center;}#sk-container-id-1 div.sk-container {/* jupyter's `normalize.less` sets `[hidden] { display: none; }` but bootstrap.min.css set `[hidden] { display: none !important; }` so we also need the `!important` here to be able to override the default hidden behavior on the sphinx rendered scikit-learn.org. See: https://github.com/scikit-learn/scikit-learn/issues/21755 */display: inline-block !important;position: relative;}#sk-container-id-1 div.sk-text-repr-fallback {display: none;}</style><div id=\"sk-container-id-1\" class=\"sk-top-container\"><div class=\"sk-text-repr-fallback\"><pre>DecisionTreeClassifier()</pre><b>In a Jupyter environment, please rerun this cell to show the HTML representation or trust the notebook. <br />On GitHub, the HTML representation is unable to render, please try loading this page with nbviewer.org.</b></div><div class=\"sk-container\" hidden><div class=\"sk-item\"><div class=\"sk-estimator sk-toggleable\"><input class=\"sk-toggleable__control sk-hidden--visually\" id=\"sk-estimator-id-1\" type=\"checkbox\" checked><label for=\"sk-estimator-id-1\" class=\"sk-toggleable__label sk-toggleable__label-arrow\">DecisionTreeClassifier</label><div class=\"sk-toggleable__content\"><pre>DecisionTreeClassifier()</pre></div></div></div></div></div>"
      ],
      "text/plain": [
       "DecisionTreeClassifier()"
      ]
     },
     "execution_count": 74,
     "metadata": {},
     "output_type": "execute_result"
    }
   ],
   "source": [
    "testModel(DecisionTreeClassifier(), X_norm_train, y_train, X_norm_test, y_test)"
   ]
  },
  {
   "attachments": {},
   "cell_type": "markdown",
   "metadata": {},
   "source": [
    "# 2.4"
   ]
  },
  {
   "cell_type": "code",
   "execution_count": 75,
   "metadata": {},
   "outputs": [
    {
     "name": "stdout",
     "output_type": "stream",
     "text": [
      "Pipeline(steps=[('features',\n",
      "                 FeatureUnion(transformer_list=[('pca', PCA(n_components=5)),\n",
      "                                                ('original',\n",
      "                                                 FunctionTransformer(feature_names_out='one-to-one'))])),\n",
      "                ('normalizer', Normalizer()),\n",
      "                ('model', DecisionTreeClassifier())])\n",
      "accuracy train:  0.9968127490039841\n",
      "accuracy test:  0.6962493597161883\n",
      "--------------------------------------------------------------------\n"
     ]
    },
    {
     "data": {
      "text/html": [
       "<style>#sk-container-id-2 {color: black;background-color: white;}#sk-container-id-2 pre{padding: 0;}#sk-container-id-2 div.sk-toggleable {background-color: white;}#sk-container-id-2 label.sk-toggleable__label {cursor: pointer;display: block;width: 100%;margin-bottom: 0;padding: 0.3em;box-sizing: border-box;text-align: center;}#sk-container-id-2 label.sk-toggleable__label-arrow:before {content: \"▸\";float: left;margin-right: 0.25em;color: #696969;}#sk-container-id-2 label.sk-toggleable__label-arrow:hover:before {color: black;}#sk-container-id-2 div.sk-estimator:hover label.sk-toggleable__label-arrow:before {color: black;}#sk-container-id-2 div.sk-toggleable__content {max-height: 0;max-width: 0;overflow: hidden;text-align: left;background-color: #f0f8ff;}#sk-container-id-2 div.sk-toggleable__content pre {margin: 0.2em;color: black;border-radius: 0.25em;background-color: #f0f8ff;}#sk-container-id-2 input.sk-toggleable__control:checked~div.sk-toggleable__content {max-height: 200px;max-width: 100%;overflow: auto;}#sk-container-id-2 input.sk-toggleable__control:checked~label.sk-toggleable__label-arrow:before {content: \"▾\";}#sk-container-id-2 div.sk-estimator input.sk-toggleable__control:checked~label.sk-toggleable__label {background-color: #d4ebff;}#sk-container-id-2 div.sk-label input.sk-toggleable__control:checked~label.sk-toggleable__label {background-color: #d4ebff;}#sk-container-id-2 input.sk-hidden--visually {border: 0;clip: rect(1px 1px 1px 1px);clip: rect(1px, 1px, 1px, 1px);height: 1px;margin: -1px;overflow: hidden;padding: 0;position: absolute;width: 1px;}#sk-container-id-2 div.sk-estimator {font-family: monospace;background-color: #f0f8ff;border: 1px dotted black;border-radius: 0.25em;box-sizing: border-box;margin-bottom: 0.5em;}#sk-container-id-2 div.sk-estimator:hover {background-color: #d4ebff;}#sk-container-id-2 div.sk-parallel-item::after {content: \"\";width: 100%;border-bottom: 1px solid gray;flex-grow: 1;}#sk-container-id-2 div.sk-label:hover label.sk-toggleable__label {background-color: #d4ebff;}#sk-container-id-2 div.sk-serial::before {content: \"\";position: absolute;border-left: 1px solid gray;box-sizing: border-box;top: 0;bottom: 0;left: 50%;z-index: 0;}#sk-container-id-2 div.sk-serial {display: flex;flex-direction: column;align-items: center;background-color: white;padding-right: 0.2em;padding-left: 0.2em;position: relative;}#sk-container-id-2 div.sk-item {position: relative;z-index: 1;}#sk-container-id-2 div.sk-parallel {display: flex;align-items: stretch;justify-content: center;background-color: white;position: relative;}#sk-container-id-2 div.sk-item::before, #sk-container-id-2 div.sk-parallel-item::before {content: \"\";position: absolute;border-left: 1px solid gray;box-sizing: border-box;top: 0;bottom: 0;left: 50%;z-index: -1;}#sk-container-id-2 div.sk-parallel-item {display: flex;flex-direction: column;z-index: 1;position: relative;background-color: white;}#sk-container-id-2 div.sk-parallel-item:first-child::after {align-self: flex-end;width: 50%;}#sk-container-id-2 div.sk-parallel-item:last-child::after {align-self: flex-start;width: 50%;}#sk-container-id-2 div.sk-parallel-item:only-child::after {width: 0;}#sk-container-id-2 div.sk-dashed-wrapped {border: 1px dashed gray;margin: 0 0.4em 0.5em 0.4em;box-sizing: border-box;padding-bottom: 0.4em;background-color: white;}#sk-container-id-2 div.sk-label label {font-family: monospace;font-weight: bold;display: inline-block;line-height: 1.2em;}#sk-container-id-2 div.sk-label-container {text-align: center;}#sk-container-id-2 div.sk-container {/* jupyter's `normalize.less` sets `[hidden] { display: none; }` but bootstrap.min.css set `[hidden] { display: none !important; }` so we also need the `!important` here to be able to override the default hidden behavior on the sphinx rendered scikit-learn.org. See: https://github.com/scikit-learn/scikit-learn/issues/21755 */display: inline-block !important;position: relative;}#sk-container-id-2 div.sk-text-repr-fallback {display: none;}</style><div id=\"sk-container-id-2\" class=\"sk-top-container\"><div class=\"sk-text-repr-fallback\"><pre>Pipeline(steps=[(&#x27;features&#x27;,\n",
       "                 FeatureUnion(transformer_list=[(&#x27;pca&#x27;, PCA(n_components=5)),\n",
       "                                                (&#x27;original&#x27;,\n",
       "                                                 FunctionTransformer(feature_names_out=&#x27;one-to-one&#x27;))])),\n",
       "                (&#x27;normalizer&#x27;, Normalizer()),\n",
       "                (&#x27;model&#x27;, DecisionTreeClassifier())])</pre><b>In a Jupyter environment, please rerun this cell to show the HTML representation or trust the notebook. <br />On GitHub, the HTML representation is unable to render, please try loading this page with nbviewer.org.</b></div><div class=\"sk-container\" hidden><div class=\"sk-item sk-dashed-wrapped\"><div class=\"sk-label-container\"><div class=\"sk-label sk-toggleable\"><input class=\"sk-toggleable__control sk-hidden--visually\" id=\"sk-estimator-id-2\" type=\"checkbox\" ><label for=\"sk-estimator-id-2\" class=\"sk-toggleable__label sk-toggleable__label-arrow\">Pipeline</label><div class=\"sk-toggleable__content\"><pre>Pipeline(steps=[(&#x27;features&#x27;,\n",
       "                 FeatureUnion(transformer_list=[(&#x27;pca&#x27;, PCA(n_components=5)),\n",
       "                                                (&#x27;original&#x27;,\n",
       "                                                 FunctionTransformer(feature_names_out=&#x27;one-to-one&#x27;))])),\n",
       "                (&#x27;normalizer&#x27;, Normalizer()),\n",
       "                (&#x27;model&#x27;, DecisionTreeClassifier())])</pre></div></div></div><div class=\"sk-serial\"><div class=\"sk-item sk-dashed-wrapped\"><div class=\"sk-label-container\"><div class=\"sk-label sk-toggleable\"><input class=\"sk-toggleable__control sk-hidden--visually\" id=\"sk-estimator-id-3\" type=\"checkbox\" ><label for=\"sk-estimator-id-3\" class=\"sk-toggleable__label sk-toggleable__label-arrow\">features: FeatureUnion</label><div class=\"sk-toggleable__content\"><pre>FeatureUnion(transformer_list=[(&#x27;pca&#x27;, PCA(n_components=5)),\n",
       "                               (&#x27;original&#x27;,\n",
       "                                FunctionTransformer(feature_names_out=&#x27;one-to-one&#x27;))])</pre></div></div></div><div class=\"sk-parallel\"><div class=\"sk-parallel-item\"><div class=\"sk-item\"><div class=\"sk-label-container\"><div class=\"sk-label sk-toggleable\"><label>pca</label></div></div><div class=\"sk-serial\"><div class=\"sk-item\"><div class=\"sk-estimator sk-toggleable\"><input class=\"sk-toggleable__control sk-hidden--visually\" id=\"sk-estimator-id-4\" type=\"checkbox\" ><label for=\"sk-estimator-id-4\" class=\"sk-toggleable__label sk-toggleable__label-arrow\">PCA</label><div class=\"sk-toggleable__content\"><pre>PCA(n_components=5)</pre></div></div></div></div></div></div><div class=\"sk-parallel-item\"><div class=\"sk-item\"><div class=\"sk-label-container\"><div class=\"sk-label sk-toggleable\"><label>original</label></div></div><div class=\"sk-serial\"><div class=\"sk-item\"><div class=\"sk-estimator sk-toggleable\"><input class=\"sk-toggleable__control sk-hidden--visually\" id=\"sk-estimator-id-5\" type=\"checkbox\" ><label for=\"sk-estimator-id-5\" class=\"sk-toggleable__label sk-toggleable__label-arrow\">FunctionTransformer</label><div class=\"sk-toggleable__content\"><pre>FunctionTransformer(feature_names_out=&#x27;one-to-one&#x27;)</pre></div></div></div></div></div></div></div></div><div class=\"sk-item\"><div class=\"sk-estimator sk-toggleable\"><input class=\"sk-toggleable__control sk-hidden--visually\" id=\"sk-estimator-id-6\" type=\"checkbox\" ><label for=\"sk-estimator-id-6\" class=\"sk-toggleable__label sk-toggleable__label-arrow\">Normalizer</label><div class=\"sk-toggleable__content\"><pre>Normalizer()</pre></div></div></div><div class=\"sk-item\"><div class=\"sk-estimator sk-toggleable\"><input class=\"sk-toggleable__control sk-hidden--visually\" id=\"sk-estimator-id-7\" type=\"checkbox\" ><label for=\"sk-estimator-id-7\" class=\"sk-toggleable__label sk-toggleable__label-arrow\">DecisionTreeClassifier</label><div class=\"sk-toggleable__content\"><pre>DecisionTreeClassifier()</pre></div></div></div></div></div></div></div>"
      ],
      "text/plain": [
       "Pipeline(steps=[('features',\n",
       "                 FeatureUnion(transformer_list=[('pca', PCA(n_components=5)),\n",
       "                                                ('original',\n",
       "                                                 FunctionTransformer(feature_names_out='one-to-one'))])),\n",
       "                ('normalizer', Normalizer()),\n",
       "                ('model', DecisionTreeClassifier())])"
      ]
     },
     "execution_count": 75,
     "metadata": {},
     "output_type": "execute_result"
    }
   ],
   "source": [
    "# Creare una pipeline con trasformatori PCA (si scelgano 5 attributi) e poi Normalizer. Si usi \n",
    "# come modello il  Decision Tree Classifier  (punti 2) [2 punti ulteriori se gli attributi della PCA \n",
    "# sono aggiunti agli attributi del dataset\n",
    "\n",
    "combined_features = FeatureUnion([('pca', PCA(n_components=5)),('original', 'passthrough')])\n",
    "\n",
    "pipeline = Pipeline(steps=[\n",
    "                    ('features', combined_features),\n",
    "                    ('normalizer', Normalizer()),\n",
    "                    ('model', DecisionTreeClassifier())])\n",
    "\n",
    "testModel(pipeline, X_train, y_train, X_test, y_test)\n",
    "\n",
    "\n"
   ]
  },
  {
   "attachments": {},
   "cell_type": "markdown",
   "metadata": {},
   "source": [
    "# 2.5"
   ]
  },
  {
   "cell_type": "code",
   "execution_count": 76,
   "metadata": {},
   "outputs": [
    {
     "name": "stdout",
     "output_type": "stream",
     "text": [
      "best parameters:  {'features__pca__n_components': 4, 'model__criterion': 'entropy'}\n",
      "with accuracy:  0.6882375260861318\n",
      "\n",
      "acc sul train del modello con i parametri ottimizzati:  0.9968127490039841\n",
      "acc del modello con i parametri ottimizzati: :  0.693100111931096\n",
      "--------------------------------------------------------------------\n"
     ]
    },
    {
     "data": {
      "text/html": [
       "<style>#sk-container-id-3 {color: black;background-color: white;}#sk-container-id-3 pre{padding: 0;}#sk-container-id-3 div.sk-toggleable {background-color: white;}#sk-container-id-3 label.sk-toggleable__label {cursor: pointer;display: block;width: 100%;margin-bottom: 0;padding: 0.3em;box-sizing: border-box;text-align: center;}#sk-container-id-3 label.sk-toggleable__label-arrow:before {content: \"▸\";float: left;margin-right: 0.25em;color: #696969;}#sk-container-id-3 label.sk-toggleable__label-arrow:hover:before {color: black;}#sk-container-id-3 div.sk-estimator:hover label.sk-toggleable__label-arrow:before {color: black;}#sk-container-id-3 div.sk-toggleable__content {max-height: 0;max-width: 0;overflow: hidden;text-align: left;background-color: #f0f8ff;}#sk-container-id-3 div.sk-toggleable__content pre {margin: 0.2em;color: black;border-radius: 0.25em;background-color: #f0f8ff;}#sk-container-id-3 input.sk-toggleable__control:checked~div.sk-toggleable__content {max-height: 200px;max-width: 100%;overflow: auto;}#sk-container-id-3 input.sk-toggleable__control:checked~label.sk-toggleable__label-arrow:before {content: \"▾\";}#sk-container-id-3 div.sk-estimator input.sk-toggleable__control:checked~label.sk-toggleable__label {background-color: #d4ebff;}#sk-container-id-3 div.sk-label input.sk-toggleable__control:checked~label.sk-toggleable__label {background-color: #d4ebff;}#sk-container-id-3 input.sk-hidden--visually {border: 0;clip: rect(1px 1px 1px 1px);clip: rect(1px, 1px, 1px, 1px);height: 1px;margin: -1px;overflow: hidden;padding: 0;position: absolute;width: 1px;}#sk-container-id-3 div.sk-estimator {font-family: monospace;background-color: #f0f8ff;border: 1px dotted black;border-radius: 0.25em;box-sizing: border-box;margin-bottom: 0.5em;}#sk-container-id-3 div.sk-estimator:hover {background-color: #d4ebff;}#sk-container-id-3 div.sk-parallel-item::after {content: \"\";width: 100%;border-bottom: 1px solid gray;flex-grow: 1;}#sk-container-id-3 div.sk-label:hover label.sk-toggleable__label {background-color: #d4ebff;}#sk-container-id-3 div.sk-serial::before {content: \"\";position: absolute;border-left: 1px solid gray;box-sizing: border-box;top: 0;bottom: 0;left: 50%;z-index: 0;}#sk-container-id-3 div.sk-serial {display: flex;flex-direction: column;align-items: center;background-color: white;padding-right: 0.2em;padding-left: 0.2em;position: relative;}#sk-container-id-3 div.sk-item {position: relative;z-index: 1;}#sk-container-id-3 div.sk-parallel {display: flex;align-items: stretch;justify-content: center;background-color: white;position: relative;}#sk-container-id-3 div.sk-item::before, #sk-container-id-3 div.sk-parallel-item::before {content: \"\";position: absolute;border-left: 1px solid gray;box-sizing: border-box;top: 0;bottom: 0;left: 50%;z-index: -1;}#sk-container-id-3 div.sk-parallel-item {display: flex;flex-direction: column;z-index: 1;position: relative;background-color: white;}#sk-container-id-3 div.sk-parallel-item:first-child::after {align-self: flex-end;width: 50%;}#sk-container-id-3 div.sk-parallel-item:last-child::after {align-self: flex-start;width: 50%;}#sk-container-id-3 div.sk-parallel-item:only-child::after {width: 0;}#sk-container-id-3 div.sk-dashed-wrapped {border: 1px dashed gray;margin: 0 0.4em 0.5em 0.4em;box-sizing: border-box;padding-bottom: 0.4em;background-color: white;}#sk-container-id-3 div.sk-label label {font-family: monospace;font-weight: bold;display: inline-block;line-height: 1.2em;}#sk-container-id-3 div.sk-label-container {text-align: center;}#sk-container-id-3 div.sk-container {/* jupyter's `normalize.less` sets `[hidden] { display: none; }` but bootstrap.min.css set `[hidden] { display: none !important; }` so we also need the `!important` here to be able to override the default hidden behavior on the sphinx rendered scikit-learn.org. See: https://github.com/scikit-learn/scikit-learn/issues/21755 */display: inline-block !important;position: relative;}#sk-container-id-3 div.sk-text-repr-fallback {display: none;}</style><div id=\"sk-container-id-3\" class=\"sk-top-container\"><div class=\"sk-text-repr-fallback\"><pre>Pipeline(steps=[(&#x27;features&#x27;,\n",
       "                 FeatureUnion(transformer_list=[(&#x27;pca&#x27;, PCA(n_components=4)),\n",
       "                                                (&#x27;original&#x27;,\n",
       "                                                 FunctionTransformer(feature_names_out=&#x27;one-to-one&#x27;))])),\n",
       "                (&#x27;normalizer&#x27;, Normalizer()),\n",
       "                (&#x27;model&#x27;, DecisionTreeClassifier(criterion=&#x27;entropy&#x27;))])</pre><b>In a Jupyter environment, please rerun this cell to show the HTML representation or trust the notebook. <br />On GitHub, the HTML representation is unable to render, please try loading this page with nbviewer.org.</b></div><div class=\"sk-container\" hidden><div class=\"sk-item sk-dashed-wrapped\"><div class=\"sk-label-container\"><div class=\"sk-label sk-toggleable\"><input class=\"sk-toggleable__control sk-hidden--visually\" id=\"sk-estimator-id-8\" type=\"checkbox\" ><label for=\"sk-estimator-id-8\" class=\"sk-toggleable__label sk-toggleable__label-arrow\">Pipeline</label><div class=\"sk-toggleable__content\"><pre>Pipeline(steps=[(&#x27;features&#x27;,\n",
       "                 FeatureUnion(transformer_list=[(&#x27;pca&#x27;, PCA(n_components=4)),\n",
       "                                                (&#x27;original&#x27;,\n",
       "                                                 FunctionTransformer(feature_names_out=&#x27;one-to-one&#x27;))])),\n",
       "                (&#x27;normalizer&#x27;, Normalizer()),\n",
       "                (&#x27;model&#x27;, DecisionTreeClassifier(criterion=&#x27;entropy&#x27;))])</pre></div></div></div><div class=\"sk-serial\"><div class=\"sk-item sk-dashed-wrapped\"><div class=\"sk-label-container\"><div class=\"sk-label sk-toggleable\"><input class=\"sk-toggleable__control sk-hidden--visually\" id=\"sk-estimator-id-9\" type=\"checkbox\" ><label for=\"sk-estimator-id-9\" class=\"sk-toggleable__label sk-toggleable__label-arrow\">features: FeatureUnion</label><div class=\"sk-toggleable__content\"><pre>FeatureUnion(transformer_list=[(&#x27;pca&#x27;, PCA(n_components=4)),\n",
       "                               (&#x27;original&#x27;,\n",
       "                                FunctionTransformer(feature_names_out=&#x27;one-to-one&#x27;))])</pre></div></div></div><div class=\"sk-parallel\"><div class=\"sk-parallel-item\"><div class=\"sk-item\"><div class=\"sk-label-container\"><div class=\"sk-label sk-toggleable\"><label>pca</label></div></div><div class=\"sk-serial\"><div class=\"sk-item\"><div class=\"sk-estimator sk-toggleable\"><input class=\"sk-toggleable__control sk-hidden--visually\" id=\"sk-estimator-id-10\" type=\"checkbox\" ><label for=\"sk-estimator-id-10\" class=\"sk-toggleable__label sk-toggleable__label-arrow\">PCA</label><div class=\"sk-toggleable__content\"><pre>PCA(n_components=4)</pre></div></div></div></div></div></div><div class=\"sk-parallel-item\"><div class=\"sk-item\"><div class=\"sk-label-container\"><div class=\"sk-label sk-toggleable\"><label>original</label></div></div><div class=\"sk-serial\"><div class=\"sk-item\"><div class=\"sk-estimator sk-toggleable\"><input class=\"sk-toggleable__control sk-hidden--visually\" id=\"sk-estimator-id-11\" type=\"checkbox\" ><label for=\"sk-estimator-id-11\" class=\"sk-toggleable__label sk-toggleable__label-arrow\">FunctionTransformer</label><div class=\"sk-toggleable__content\"><pre>FunctionTransformer(feature_names_out=&#x27;one-to-one&#x27;)</pre></div></div></div></div></div></div></div></div><div class=\"sk-item\"><div class=\"sk-estimator sk-toggleable\"><input class=\"sk-toggleable__control sk-hidden--visually\" id=\"sk-estimator-id-12\" type=\"checkbox\" ><label for=\"sk-estimator-id-12\" class=\"sk-toggleable__label sk-toggleable__label-arrow\">Normalizer</label><div class=\"sk-toggleable__content\"><pre>Normalizer()</pre></div></div></div><div class=\"sk-item\"><div class=\"sk-estimator sk-toggleable\"><input class=\"sk-toggleable__control sk-hidden--visually\" id=\"sk-estimator-id-13\" type=\"checkbox\" ><label for=\"sk-estimator-id-13\" class=\"sk-toggleable__label sk-toggleable__label-arrow\">DecisionTreeClassifier</label><div class=\"sk-toggleable__content\"><pre>DecisionTreeClassifier(criterion=&#x27;entropy&#x27;)</pre></div></div></div></div></div></div></div>"
      ],
      "text/plain": [
       "Pipeline(steps=[('features',\n",
       "                 FeatureUnion(transformer_list=[('pca', PCA(n_components=4)),\n",
       "                                                ('original',\n",
       "                                                 FunctionTransformer(feature_names_out='one-to-one'))])),\n",
       "                ('normalizer', Normalizer()),\n",
       "                ('model', DecisionTreeClassifier(criterion='entropy'))])"
      ]
     },
     "execution_count": 76,
     "metadata": {},
     "output_type": "execute_result"
    }
   ],
   "source": [
    "# Utilizzare la funzione di gridSearchCV sulla pipeline per modificare il numero di attributi \n",
    "# selezionati dalla PCA e alcuni parametri a piacere del classificatore. Verificare se l’accuratezza \n",
    "# che si ottiene con la nuova configurazione supera quella standard ottenuta al punto 1 (punti 4) \n",
    "\n",
    "parameter_grid = { 'features__pca__n_components' : [2, 4] , 'model__criterion': [ 'entropy'] }\n",
    "\n",
    "gridSearch(pipeline, parameter_grid, 5, X_train, y_train, X_test, y_test)"
   ]
  },
  {
   "cell_type": "code",
   "execution_count": 100,
   "metadata": {},
   "outputs": [
    {
     "data": {
      "text/html": [
       "<div>\n",
       "<style scoped>\n",
       "    .dataframe tbody tr th:only-of-type {\n",
       "        vertical-align: middle;\n",
       "    }\n",
       "\n",
       "    .dataframe tbody tr th {\n",
       "        vertical-align: top;\n",
       "    }\n",
       "\n",
       "    .dataframe thead th {\n",
       "        text-align: right;\n",
       "    }\n",
       "</style>\n",
       "<table border=\"1\" class=\"dataframe\">\n",
       "  <thead>\n",
       "    <tr style=\"text-align: right;\">\n",
       "      <th></th>\n",
       "      <th>Unnamed: 0</th>\n",
       "      <th>dt_iso</th>\n",
       "      <th>city_name</th>\n",
       "      <th>temp</th>\n",
       "      <th>temp_min</th>\n",
       "      <th>temp_max</th>\n",
       "      <th>pressure</th>\n",
       "      <th>humidity</th>\n",
       "      <th>wind_speed</th>\n",
       "      <th>wind_deg</th>\n",
       "      <th>rain_1h</th>\n",
       "      <th>rain_3h</th>\n",
       "      <th>snow_3h</th>\n",
       "      <th>clouds_all</th>\n",
       "      <th>weather_id</th>\n",
       "      <th>weather_description</th>\n",
       "      <th>weather_icon</th>\n",
       "    </tr>\n",
       "  </thead>\n",
       "  <tbody>\n",
       "    <tr>\n",
       "      <th>0</th>\n",
       "      <td>0</td>\n",
       "      <td>2015-10-23 18:00:00+02:00</td>\n",
       "      <td>Madrid</td>\n",
       "      <td>293.150</td>\n",
       "      <td>293.150</td>\n",
       "      <td>293.150</td>\n",
       "      <td>1019</td>\n",
       "      <td>45</td>\n",
       "      <td>2</td>\n",
       "      <td>200</td>\n",
       "      <td>0.0</td>\n",
       "      <td>0.0</td>\n",
       "      <td>0.0</td>\n",
       "      <td>0</td>\n",
       "      <td>800</td>\n",
       "      <td>sky is clear</td>\n",
       "      <td>01d</td>\n",
       "    </tr>\n",
       "    <tr>\n",
       "      <th>1</th>\n",
       "      <td>1</td>\n",
       "      <td>2015-01-01 06:00:00+01:00</td>\n",
       "      <td>Madrid</td>\n",
       "      <td>265.442</td>\n",
       "      <td>265.442</td>\n",
       "      <td>265.442</td>\n",
       "      <td>972</td>\n",
       "      <td>64</td>\n",
       "      <td>0</td>\n",
       "      <td>240</td>\n",
       "      <td>0.0</td>\n",
       "      <td>0.0</td>\n",
       "      <td>0.0</td>\n",
       "      <td>0</td>\n",
       "      <td>800</td>\n",
       "      <td>sky is clear</td>\n",
       "      <td>01n</td>\n",
       "    </tr>\n",
       "  </tbody>\n",
       "</table>\n",
       "</div>"
      ],
      "text/plain": [
       "   Unnamed: 0                     dt_iso city_name     temp  temp_min  \\\n",
       "0           0  2015-10-23 18:00:00+02:00    Madrid  293.150   293.150   \n",
       "1           1  2015-01-01 06:00:00+01:00    Madrid  265.442   265.442   \n",
       "\n",
       "   temp_max  pressure  humidity  wind_speed  wind_deg  rain_1h  rain_3h  \\\n",
       "0   293.150      1019        45           2       200      0.0      0.0   \n",
       "1   265.442       972        64           0       240      0.0      0.0   \n",
       "\n",
       "   snow_3h  clouds_all  weather_id weather_description weather_icon  \n",
       "0      0.0           0         800        sky is clear          01d  \n",
       "1      0.0           0         800        sky is clear          01n  "
      ]
     },
     "execution_count": 100,
     "metadata": {},
     "output_type": "execute_result"
    }
   ],
   "source": [
    "test = pd.read_csv('weather_test.csv')\n",
    "test.head(2)\n",
    "\n"
   ]
  },
  {
   "cell_type": "code",
   "execution_count": 101,
   "metadata": {},
   "outputs": [],
   "source": [
    "test.drop(['Unnamed: 0'], axis=1, inplace=True)\n"
   ]
  },
  {
   "cell_type": "code",
   "execution_count": 102,
   "metadata": {},
   "outputs": [],
   "source": [
    "test.drop(['weather_icon'], axis=1, inplace=True)"
   ]
  },
  {
   "cell_type": "code",
   "execution_count": 103,
   "metadata": {},
   "outputs": [],
   "source": [
    "test.shape\n",
    "\n",
    "test_num = categoricalToNumerical(test)"
   ]
  },
  {
   "cell_type": "code",
   "execution_count": 104,
   "metadata": {},
   "outputs": [
    {
     "name": "stdout",
     "output_type": "stream",
     "text": [
      "(10000, 1)\n"
     ]
    },
    {
     "data": {
      "text/html": [
       "<div>\n",
       "<style scoped>\n",
       "    .dataframe tbody tr th:only-of-type {\n",
       "        vertical-align: middle;\n",
       "    }\n",
       "\n",
       "    .dataframe tbody tr th {\n",
       "        vertical-align: top;\n",
       "    }\n",
       "\n",
       "    .dataframe thead th {\n",
       "        text-align: right;\n",
       "    }\n",
       "</style>\n",
       "<table border=\"1\" class=\"dataframe\">\n",
       "  <thead>\n",
       "    <tr style=\"text-align: right;\">\n",
       "      <th></th>\n",
       "      <th>weather_main</th>\n",
       "    </tr>\n",
       "  </thead>\n",
       "  <tbody>\n",
       "    <tr>\n",
       "      <th>0</th>\n",
       "      <td>clear</td>\n",
       "    </tr>\n",
       "    <tr>\n",
       "      <th>1</th>\n",
       "      <td>clear</td>\n",
       "    </tr>\n",
       "  </tbody>\n",
       "</table>\n",
       "</div>"
      ],
      "text/plain": [
       "  weather_main\n",
       "0        clear\n",
       "1        clear"
      ]
     },
     "execution_count": 104,
     "metadata": {},
     "output_type": "execute_result"
    }
   ],
   "source": [
    "y = pd.read_csv('class.csv')\n",
    "y.drop(['Unnamed: 0'], axis=1, inplace=True)\n",
    "print(y.shape)\n",
    "y.head(2)"
   ]
  },
  {
   "cell_type": "code",
   "execution_count": 105,
   "metadata": {},
   "outputs": [
    {
     "name": "stdout",
     "output_type": "stream",
     "text": [
      "Pipeline(steps=[('features',\n",
      "                 FeatureUnion(transformer_list=[('pca', PCA(n_components=5)),\n",
      "                                                ('original',\n",
      "                                                 FunctionTransformer(feature_names_out='one-to-one'))])),\n",
      "                ('normalizer', Normalizer()),\n",
      "                ('model', DecisionTreeClassifier())])\n",
      "accuracy train:  0.9968127490039841\n",
      "accuracy test:  0.6965718730435773\n",
      "--------------------------------------------------------------------\n"
     ]
    },
    {
     "data": {
      "text/html": [
       "<style>#sk-container-id-5 {color: black;background-color: white;}#sk-container-id-5 pre{padding: 0;}#sk-container-id-5 div.sk-toggleable {background-color: white;}#sk-container-id-5 label.sk-toggleable__label {cursor: pointer;display: block;width: 100%;margin-bottom: 0;padding: 0.3em;box-sizing: border-box;text-align: center;}#sk-container-id-5 label.sk-toggleable__label-arrow:before {content: \"▸\";float: left;margin-right: 0.25em;color: #696969;}#sk-container-id-5 label.sk-toggleable__label-arrow:hover:before {color: black;}#sk-container-id-5 div.sk-estimator:hover label.sk-toggleable__label-arrow:before {color: black;}#sk-container-id-5 div.sk-toggleable__content {max-height: 0;max-width: 0;overflow: hidden;text-align: left;background-color: #f0f8ff;}#sk-container-id-5 div.sk-toggleable__content pre {margin: 0.2em;color: black;border-radius: 0.25em;background-color: #f0f8ff;}#sk-container-id-5 input.sk-toggleable__control:checked~div.sk-toggleable__content {max-height: 200px;max-width: 100%;overflow: auto;}#sk-container-id-5 input.sk-toggleable__control:checked~label.sk-toggleable__label-arrow:before {content: \"▾\";}#sk-container-id-5 div.sk-estimator input.sk-toggleable__control:checked~label.sk-toggleable__label {background-color: #d4ebff;}#sk-container-id-5 div.sk-label input.sk-toggleable__control:checked~label.sk-toggleable__label {background-color: #d4ebff;}#sk-container-id-5 input.sk-hidden--visually {border: 0;clip: rect(1px 1px 1px 1px);clip: rect(1px, 1px, 1px, 1px);height: 1px;margin: -1px;overflow: hidden;padding: 0;position: absolute;width: 1px;}#sk-container-id-5 div.sk-estimator {font-family: monospace;background-color: #f0f8ff;border: 1px dotted black;border-radius: 0.25em;box-sizing: border-box;margin-bottom: 0.5em;}#sk-container-id-5 div.sk-estimator:hover {background-color: #d4ebff;}#sk-container-id-5 div.sk-parallel-item::after {content: \"\";width: 100%;border-bottom: 1px solid gray;flex-grow: 1;}#sk-container-id-5 div.sk-label:hover label.sk-toggleable__label {background-color: #d4ebff;}#sk-container-id-5 div.sk-serial::before {content: \"\";position: absolute;border-left: 1px solid gray;box-sizing: border-box;top: 0;bottom: 0;left: 50%;z-index: 0;}#sk-container-id-5 div.sk-serial {display: flex;flex-direction: column;align-items: center;background-color: white;padding-right: 0.2em;padding-left: 0.2em;position: relative;}#sk-container-id-5 div.sk-item {position: relative;z-index: 1;}#sk-container-id-5 div.sk-parallel {display: flex;align-items: stretch;justify-content: center;background-color: white;position: relative;}#sk-container-id-5 div.sk-item::before, #sk-container-id-5 div.sk-parallel-item::before {content: \"\";position: absolute;border-left: 1px solid gray;box-sizing: border-box;top: 0;bottom: 0;left: 50%;z-index: -1;}#sk-container-id-5 div.sk-parallel-item {display: flex;flex-direction: column;z-index: 1;position: relative;background-color: white;}#sk-container-id-5 div.sk-parallel-item:first-child::after {align-self: flex-end;width: 50%;}#sk-container-id-5 div.sk-parallel-item:last-child::after {align-self: flex-start;width: 50%;}#sk-container-id-5 div.sk-parallel-item:only-child::after {width: 0;}#sk-container-id-5 div.sk-dashed-wrapped {border: 1px dashed gray;margin: 0 0.4em 0.5em 0.4em;box-sizing: border-box;padding-bottom: 0.4em;background-color: white;}#sk-container-id-5 div.sk-label label {font-family: monospace;font-weight: bold;display: inline-block;line-height: 1.2em;}#sk-container-id-5 div.sk-label-container {text-align: center;}#sk-container-id-5 div.sk-container {/* jupyter's `normalize.less` sets `[hidden] { display: none; }` but bootstrap.min.css set `[hidden] { display: none !important; }` so we also need the `!important` here to be able to override the default hidden behavior on the sphinx rendered scikit-learn.org. See: https://github.com/scikit-learn/scikit-learn/issues/21755 */display: inline-block !important;position: relative;}#sk-container-id-5 div.sk-text-repr-fallback {display: none;}</style><div id=\"sk-container-id-5\" class=\"sk-top-container\"><div class=\"sk-text-repr-fallback\"><pre>Pipeline(steps=[(&#x27;features&#x27;,\n",
       "                 FeatureUnion(transformer_list=[(&#x27;pca&#x27;, PCA(n_components=5)),\n",
       "                                                (&#x27;original&#x27;,\n",
       "                                                 FunctionTransformer(feature_names_out=&#x27;one-to-one&#x27;))])),\n",
       "                (&#x27;normalizer&#x27;, Normalizer()),\n",
       "                (&#x27;model&#x27;, DecisionTreeClassifier())])</pre><b>In a Jupyter environment, please rerun this cell to show the HTML representation or trust the notebook. <br />On GitHub, the HTML representation is unable to render, please try loading this page with nbviewer.org.</b></div><div class=\"sk-container\" hidden><div class=\"sk-item sk-dashed-wrapped\"><div class=\"sk-label-container\"><div class=\"sk-label sk-toggleable\"><input class=\"sk-toggleable__control sk-hidden--visually\" id=\"sk-estimator-id-20\" type=\"checkbox\" ><label for=\"sk-estimator-id-20\" class=\"sk-toggleable__label sk-toggleable__label-arrow\">Pipeline</label><div class=\"sk-toggleable__content\"><pre>Pipeline(steps=[(&#x27;features&#x27;,\n",
       "                 FeatureUnion(transformer_list=[(&#x27;pca&#x27;, PCA(n_components=5)),\n",
       "                                                (&#x27;original&#x27;,\n",
       "                                                 FunctionTransformer(feature_names_out=&#x27;one-to-one&#x27;))])),\n",
       "                (&#x27;normalizer&#x27;, Normalizer()),\n",
       "                (&#x27;model&#x27;, DecisionTreeClassifier())])</pre></div></div></div><div class=\"sk-serial\"><div class=\"sk-item sk-dashed-wrapped\"><div class=\"sk-label-container\"><div class=\"sk-label sk-toggleable\"><input class=\"sk-toggleable__control sk-hidden--visually\" id=\"sk-estimator-id-21\" type=\"checkbox\" ><label for=\"sk-estimator-id-21\" class=\"sk-toggleable__label sk-toggleable__label-arrow\">features: FeatureUnion</label><div class=\"sk-toggleable__content\"><pre>FeatureUnion(transformer_list=[(&#x27;pca&#x27;, PCA(n_components=5)),\n",
       "                               (&#x27;original&#x27;,\n",
       "                                FunctionTransformer(feature_names_out=&#x27;one-to-one&#x27;))])</pre></div></div></div><div class=\"sk-parallel\"><div class=\"sk-parallel-item\"><div class=\"sk-item\"><div class=\"sk-label-container\"><div class=\"sk-label sk-toggleable\"><label>pca</label></div></div><div class=\"sk-serial\"><div class=\"sk-item\"><div class=\"sk-estimator sk-toggleable\"><input class=\"sk-toggleable__control sk-hidden--visually\" id=\"sk-estimator-id-22\" type=\"checkbox\" ><label for=\"sk-estimator-id-22\" class=\"sk-toggleable__label sk-toggleable__label-arrow\">PCA</label><div class=\"sk-toggleable__content\"><pre>PCA(n_components=5)</pre></div></div></div></div></div></div><div class=\"sk-parallel-item\"><div class=\"sk-item\"><div class=\"sk-label-container\"><div class=\"sk-label sk-toggleable\"><label>original</label></div></div><div class=\"sk-serial\"><div class=\"sk-item\"><div class=\"sk-estimator sk-toggleable\"><input class=\"sk-toggleable__control sk-hidden--visually\" id=\"sk-estimator-id-23\" type=\"checkbox\" ><label for=\"sk-estimator-id-23\" class=\"sk-toggleable__label sk-toggleable__label-arrow\">FunctionTransformer</label><div class=\"sk-toggleable__content\"><pre>FunctionTransformer(feature_names_out=&#x27;one-to-one&#x27;)</pre></div></div></div></div></div></div></div></div><div class=\"sk-item\"><div class=\"sk-estimator sk-toggleable\"><input class=\"sk-toggleable__control sk-hidden--visually\" id=\"sk-estimator-id-24\" type=\"checkbox\" ><label for=\"sk-estimator-id-24\" class=\"sk-toggleable__label sk-toggleable__label-arrow\">Normalizer</label><div class=\"sk-toggleable__content\"><pre>Normalizer()</pre></div></div></div><div class=\"sk-item\"><div class=\"sk-estimator sk-toggleable\"><input class=\"sk-toggleable__control sk-hidden--visually\" id=\"sk-estimator-id-25\" type=\"checkbox\" ><label for=\"sk-estimator-id-25\" class=\"sk-toggleable__label sk-toggleable__label-arrow\">DecisionTreeClassifier</label><div class=\"sk-toggleable__content\"><pre>DecisionTreeClassifier()</pre></div></div></div></div></div></div></div>"
      ],
      "text/plain": [
       "Pipeline(steps=[('features',\n",
       "                 FeatureUnion(transformer_list=[('pca', PCA(n_components=5)),\n",
       "                                                ('original',\n",
       "                                                 FunctionTransformer(feature_names_out='one-to-one'))])),\n",
       "                ('normalizer', Normalizer()),\n",
       "                ('model', DecisionTreeClassifier())])"
      ]
     },
     "execution_count": 105,
     "metadata": {},
     "output_type": "execute_result"
    }
   ],
   "source": [
    "combined_features = FeatureUnion([('pca', PCA(n_components=5)),('original', 'passthrough')])\n",
    "\n",
    "pipeline = Pipeline(steps=[\n",
    "                    ('features', combined_features),\n",
    "                    ('normalizer', Normalizer()),\n",
    "                    ('model', DecisionTreeClassifier())])\n",
    "\n",
    "testModel(pipeline, X_train, y_train, X_test, y_test)"
   ]
  },
  {
   "cell_type": "code",
   "execution_count": 106,
   "metadata": {},
   "outputs": [],
   "source": [
    "test_num.drop(['dt_iso','city_name','weather_description','weather_id','clouds_all'], axis=1, inplace=True)\n"
   ]
  },
  {
   "cell_type": "code",
   "execution_count": 107,
   "metadata": {},
   "outputs": [
    {
     "data": {
      "text/plain": [
       "Index(['temp', 'temp_min', 'temp_max', 'pressure', 'humidity', 'wind_speed',\n",
       "       'wind_deg', 'rain_1h', 'rain_3h', 'snow_3h'],\n",
       "      dtype='object')"
      ]
     },
     "execution_count": 107,
     "metadata": {},
     "output_type": "execute_result"
    }
   ],
   "source": [
    "test_num.columns"
   ]
  },
  {
   "cell_type": "code",
   "execution_count": 96,
   "metadata": {},
   "outputs": [
    {
     "data": {
      "text/plain": [
       "Index(['temp', 'temp_min', 'temp_max', 'pressure', 'humidity', 'wind_speed',\n",
       "       'wind_deg', 'rain_1h', 'rain_3h', 'snow_3h'],\n",
       "      dtype='object')"
      ]
     },
     "execution_count": 96,
     "metadata": {},
     "output_type": "execute_result"
    }
   ],
   "source": [
    "X.columns"
   ]
  },
  {
   "cell_type": "code",
   "execution_count": 108,
   "metadata": {},
   "outputs": [
    {
     "name": "stdout",
     "output_type": "stream",
     "text": [
      "accuracy:  0.0\n"
     ]
    }
   ],
   "source": [
    "\n",
    "y_pred = pipeline.predict(test_num)\n",
    "print('accuracy: ', accuracy_score(y, y_pred))\n"
   ]
  },
  {
   "cell_type": "code",
   "execution_count": 115,
   "metadata": {},
   "outputs": [],
   "source": [
    "# importa linear regressor\n",
    "from sklearn.linear_model import LinearRegression"
   ]
  },
  {
   "cell_type": "code",
   "execution_count": 116,
   "metadata": {},
   "outputs": [
    {
     "data": {
      "text/plain": [
       "array([0.72141007, 0.62888078, 0.47873429, ..., 0.26584367, 0.47678117,\n",
       "       0.68698624])"
      ]
     },
     "execution_count": 116,
     "metadata": {},
     "output_type": "execute_result"
    }
   ],
   "source": [
    "combined_features = FeatureUnion([('pca', PCA(n_components=5)),('original', 'passthrough')])\n",
    "\n",
    "pipeline = Pipeline(steps=[\n",
    "                    ('features', combined_features),\n",
    "                    ('normalizer', Normalizer()),\n",
    "                    ('model', LinearRegression())])\n",
    "model = pipeline\n",
    "model.fit(X_train, y_train)\n",
    "y_pred_train = model.predict(X_train)\n",
    "y_pred = model.predict(X_test)\n",
    "#y_pred e y_pred_train li e approssimato all’intero piu vicino per il calcolo dell’accuratezza\n",
    "\n",
    "y_pred\n"
   ]
  },
  {
   "cell_type": "code",
   "execution_count": 117,
   "metadata": {},
   "outputs": [
    {
     "data": {
      "text/plain": [
       "array([1., 1., 0., ..., 0., 0., 1.])"
      ]
     },
     "execution_count": 117,
     "metadata": {},
     "output_type": "execute_result"
    }
   ],
   "source": [
    "y_pred_train = np.rint(y_pred_train)\n",
    "y_pred = np.rint(y_pred)\n",
    "\n",
    "y_pred"
   ]
  },
  {
   "cell_type": "code",
   "execution_count": 118,
   "metadata": {},
   "outputs": [
    {
     "name": "stdout",
     "output_type": "stream",
     "text": [
      "Pipeline(steps=[('features',\n",
      "                 FeatureUnion(transformer_list=[('pca', PCA(n_components=5)),\n",
      "                                                ('original',\n",
      "                                                 FunctionTransformer(feature_names_out='one-to-one'))])),\n",
      "                ('normalizer', Normalizer()), ('model', LinearRegression())])\n",
      "accuracy train:  0.5621324226901916\n",
      "accuracy test:  0.5602056496746409\n",
      "--------------------------------------------------------------------\n"
     ]
    }
   ],
   "source": [
    "print(model)\n",
    "print('accuracy train: ', accuracy_score(y_train, y_pred_train))\n",
    "print('accuracy test: ', accuracy_score(y_test, y_pred))\n",
    "print('--------------------------------------------------------------------')    "
   ]
  }
 ],
 "metadata": {
  "kernelspec": {
   "display_name": "base",
   "language": "python",
   "name": "python3"
  },
  "language_info": {
   "codemirror_mode": {
    "name": "ipython",
    "version": 3
   },
   "file_extension": ".py",
   "mimetype": "text/x-python",
   "name": "python",
   "nbconvert_exporter": "python",
   "pygments_lexer": "ipython3",
   "version": "3.10.9"
  },
  "orig_nbformat": 4
 },
 "nbformat": 4,
 "nbformat_minor": 2
}
